{
 "cells": [
  {
   "cell_type": "markdown",
   "metadata": {},
   "source": [
    "# Supervised Learning\n",
    "## Background\n",
    "Supervised machine learning is the problem of approximating a function **f**($x$)  that maps given inputs to given outputs. A function fit or a curve fit to the data corresponds to *learning* the data or *learning* the patterns that reside in the data. Different target functions and therefore different **hypothesis spaces** can be considered for a learning approach. The hypothesis space used by a machine learning system is the set of all hypotheses that might possibly be returned by it. A learning problem is **realizable** if its hypothesis space contains the true function.\n",
    "\n",
    "In general, supervised learning algorithms search the hypothesis space to find or pick the right hypothesis that will make good predictions for a given problem. It may be hard to find a hypothesis even if good hypotheses exist in the dataset for the given labels.\n",
    "\n",
    "### Hypotheses in Machine Learning\n",
    "A hypothesis is a candidate explanation for an happening. A proper hypothesis is testable and can be either *true* or *false*, i.e. it is **falsifiable**. A proper hypothesis for learning fits the data and can be used to make predictions about new observations.\n",
    "\n",
    "$\\texttt{h}$ is a single hypothesis, such as a particular model that maps inputs to outputs and can be evaluated to make predictions. $\\texttt{H}$ is a hypothesis set, such as a searchable space of possible hypotheses for mapping inputs to outputs, and might be constrained by the learning problem, model, and configuration.\n",
    "\n",
    "## Supervised learning\n",
    "Using pre-labeled datasets, algorithm learns how to predict the future test data, based on the following categories:\n",
    "* Classification: Predicting whether a test sample belongs to one of the categorical classes. If there are only two classes, it's a binary classification problem. If an algorithm can only work with binary classes, then a set of N-choose-2 classifiers (i.e.  ${𝑛 \\choose 2}$ ) are built - one for every class pair.\n",
    "* Regression: Predicting a continuous numerical variable, such as a house price or a stock index.\n",
    "\n",
    "In general, supervised learning minimizes an error (or maximizes a metric) where the error is the difference between the target output and the actual output (or the metric is the information gain of a variable, the reduction in entropy, etc.).\n",
    "\n",
    "In supervised learning, the ground truth of the problem dataset has to be known so that data point labels can be tagged to be used by the ML algorithms. The following are basic supervised learning approaches."
   ]
  },
  {
   "cell_type": "markdown",
   "metadata": {},
   "source": [
    "## Perceptron\n",
    "The perceptron is a binary classifier that attempts to find a hyperplane $w$ which separates the data points $X$ into two categories $\\{0,1\\}$, given by $y$.\n",
    "\n",
    "$\\mathbf{f}(x)=\n",
    "\\begin{cases}\n",
    "    1, & \\text{if }w \\cdot x + b > 0 \\\\\n",
    "    0, & \\text{otherwise}\n",
    "\\end{cases}$\n",
    "\n",
    "In general, $x \\in \\mathbb{R}^M$, $X \\in \\mathbb{R}^{N \\times M}$, $x_i = X_{i,*}$, $w \\in \\mathbb{R}^M$, $b \\in \\mathbb{R}$, $y \\in \\mathbb{R}^N$, where the dataset has $N$ data points and $M$ features (variables). The perceptron algorithm searches a $w$ and $b$ which minimizes the classification error $E$, i.e. the sum differences between $y_i$ and $\\hat{y}_i = f(x_i)$, for $i = 1,...,N$.\n",
    "\n",
    "The equation $w \\cdot x + b$, or $w^\\top x + b$ defines the hyperplane in $M$ dimensions (i.e. the number of features, or columns of the $X$ matrix).\n",
    "\n",
    "If classes are not linearly separable, such as $E$ never reaches to zero, then the algorithm will never stop, unless this situation is checked by the algorithm.\n",
    "\n",
    "Note that the general perceptron algorithm is naturally a **greedy** type algorithm since there is no guarantee that the error or cost function $E = \\sum_{i=1}^{N} |y - \\hat{y} |$ is **convex** resulting in a global singular optimum. For greedy algorithms, if the optimization problem is non-convex, then a global minimum is not guaranteed to be found but instead a local optimum can be found.\n",
    "\n",
    "A perceptron is the building block of a neural network."
   ]
  },
  {
   "cell_type": "markdown",
   "metadata": {},
   "source": [
    "## Naive Bayes\n",
    "\n",
    "Naive Bayes classifier uses Bayes rule $P(c \\mid x)=\\frac{P(x \\mid c) P(c)}{P(x)}$ or in other terms,\n",
    "\n",
    "Posterior prob $=\\frac{(\\text { Likelihood })(\\text { Class prior prob })}{\\text { Predictor prob }}$  .......... (Eq.1)\n",
    "\n",
    "Bayes rule assumes the features (predictors, columns of $X$) are **independent** or other variables (except for the dependent variable), and in general this is not true (thus the algorithm is called naive).\n",
    "\n",
    "The algorithm computes posterior probabilities for each class $c$ and picks the highest. It is called the Maximum A Posterior (MAP) hypothesis, $\\underset{c}{\\operatorname{argmax}} P(c \\mid X)$"
   ]
  },
  {
   "cell_type": "markdown",
   "metadata": {},
   "source": [
    "## Linear Regression\n",
    "When numerical values are to be predicted for a dependent variable then the process is called regression. The counterpart is predicting class labels or categories for a dependent variable as in a supervised classification problem. The regression model output is continuous, non-nominal, real-valued. The process can be considered as a function approximation or a curve fit. Linear regression fits the data with the best line which goes through the input values.\n",
    "\n",
    "The difference between the predicted point $\\hat{y}$ (predicted `y_pred`) and the actual observation $y$ (input `y`) is the **residue**. Finding the best line of hyperplane is an optimization problem, thus we need a cost function as in a perceptron. Such as,\n",
    "\n",
    "$\\sum_i (\\text{predicted}_i - \\text{actual}_i)^2 = \\sum_i (\\text{residue}_i)^2$\n",
    "\n",
    "The learning algorithm minimizes the cost function to find the best line.\n",
    "\n",
    "For the linear regression problem, where the line is given by $y = b_0 + b_1 x$, we are able to solve the optimization problem:\n",
    "\n",
    "Minimize the cost $C$, where $C=\\sum_i^N (\\hat{y}_i - y_i)^2$ by taking the derivative, setting to zero and solving for $b_0$ and $b_1$. Then\n",
    "\n",
    "$b_{1}=\\frac{N \\sum x y-\\sum x \\sum y}{N \\sum x^{2}-\\left(\\sum x\\right)^{2}} \\text { and } b_{0}=\\frac{\\sum y-b_{1} \\sum x}{N}$.\n",
    "\n",
    "A perfect linear fit would have a total residue or 0. Generally, the input data would not result with a perfect line fit."
   ]
  },
  {
   "cell_type": "markdown",
   "metadata": {
    "ExecuteTime": {
     "end_time": "2020-08-13T12:19:01.546571Z",
     "start_time": "2020-08-13T12:19:01.543850Z"
    }
   },
   "source": [
    "---\n",
    "\n",
    "*WATCH THE LECTURE* for the Perceptron Visualization.\n",
    "   \n",
    "---"
   ]
  },
  {
   "cell_type": "markdown",
   "metadata": {},
   "source": [
    "## Example: Naive Bayes Classifier\n",
    "Let's code a Naive Bayes classifier from scratch.\n",
    "\n",
    "Below implementation uses `scipy.stats.norm` Gaussian normal probability density function to compute the probabilities. Thus, numerical input features are required.\n",
    "\n",
    "First, creation and visualization of the experimental dataset."
   ]
  },
  {
   "cell_type": "code",
   "execution_count": 1,
   "metadata": {
    "ExecuteTime": {
     "end_time": "2020-08-13T15:31:39.622656Z",
     "start_time": "2020-08-13T15:31:39.344770Z"
    },
    "execution": {
     "iopub.execute_input": "2020-08-17T20:31:57.682772Z",
     "iopub.status.busy": "2020-08-17T20:31:57.682546Z",
     "iopub.status.idle": "2020-08-17T20:31:57.951026Z",
     "shell.execute_reply": "2020-08-17T20:31:57.950340Z",
     "shell.execute_reply.started": "2020-08-17T20:31:57.682746Z"
    }
   },
   "outputs": [],
   "source": [
    "%matplotlib inline\n",
    "import matplotlib.pyplot as plt\n",
    "\n",
    "# Following functions only work in 2-dimensions, i.e. X with 2 features\n",
    "# And upto 5 clusters/classes\n",
    "\n",
    "def get_minmax(_X, _m):  # _m = margin for visuals\n",
    "    return _X[:,0].min()-_m, _X[:,0].max()+_m, _X[:,1].min()-_m, _X[:,1].max()+_m\n",
    "\n",
    "def plotX(_X, _y, ax=None):  # Max 5 clusters/classes\n",
    "    Colors = ['darkorchid', 'darkgreen', 'darkgrey', 'darksalmon', 'darkseagreen']\n",
    "    Markers = ['o', '+', 'x', '1', '.']\n",
    "    for c in range(max(_y)+1):\n",
    "        plt.scatter(_X[_y==c,0], _X[_y==c,1], marker=Markers[c], color=Colors[c])\n",
    "    if ax is not None:\n",
    "        ax.get_xaxis().set_ticks([])\n",
    "        ax.get_yaxis().set_ticks([])\n",
    "    #\n",
    "    x1_min, x1_max, x2_min, x2_max = get_minmax(_X, 1)\n",
    "    plt.xlim(x1_min, x1_max)\n",
    "    plt.ylim(x2_min, x2_max)\n",
    "    plt.xlabel(r'$x_1$', horizontalalignment='right', x=1.0)\n",
    "    plt.ylabel(r'$x_2$', horizontalalignment='right', y=1.0)"
   ]
  },
  {
   "cell_type": "code",
   "execution_count": 2,
   "metadata": {
    "ExecuteTime": {
     "end_time": "2020-08-13T15:31:40.401689Z",
     "start_time": "2020-08-13T15:31:39.624382Z"
    },
    "execution": {
     "iopub.execute_input": "2020-08-17T20:31:57.952414Z",
     "iopub.status.busy": "2020-08-17T20:31:57.952238Z",
     "iopub.status.idle": "2020-08-17T20:31:59.048623Z",
     "shell.execute_reply": "2020-08-17T20:31:59.048168Z",
     "shell.execute_reply.started": "2020-08-17T20:31:57.952393Z"
    }
   },
   "outputs": [
    {
     "data": {
      "image/png": "[encoded data removed]",
      "text/plain": [
       "<Figure size 432x288 with 1 Axes>"
      ]
     },
     "metadata": {
      "needs_background": "light"
     },
     "output_type": "display_data"
    }
   ],
   "source": [
    "from sklearn.datasets import make_blobs\n",
    "\n",
    "# 5 classes with 2 features\n",
    "X1, y1 = make_blobs(n_samples=(100, 500, 500, 500, 1000), n_features=2, random_state=1,\n",
    "                    cluster_std=[2, .5, .5, .5, 5],\n",
    "                    centers=[(-3, -3), (-3, 3), (3, -3), (3, 3), (6, 6)])\n",
    "#\n",
    "plotX(X1, y1)"
   ]
  },
  {
   "cell_type": "markdown",
   "metadata": {},
   "source": [
    "Following class has the following instance variables: `N` as the number of data points, `M` as the number of features, and `Cn` as the number of target classes. `Cn` is computed with `np.unique` on `y` where the class labels are expected to be integers between \\[0,Cn).\n",
    "\n",
    "Variables `N`, `M`, and `Cn` are set when a model is fit. A Predictor probability density function are computed for every feature $m$. A Prior, and a Likelihood probability density function are computed for every class label $c$.\n",
    "\n",
    "`nb.bincount` counts each class label and returns the total count used for Priors.\n",
    "\n",
    "After computing the Prior, Predictors, and the Likelihood, the resulting feature probabilities are multiplied to get $\\text{P} \\rightarrow$ the feature independence assumption of Naive Bayes algorithm. The class label which maximizes the probability $\\text{P}$ is picked as the predicted class label.\n",
    "\n",
    "**Note:** Avoid *adding* (instead of multiplying) the feature probabilities, since the probabilistic model has *$M$* many independent variables."
   ]
  },
  {
   "cell_type": "code",
   "execution_count": 3,
   "metadata": {
    "ExecuteTime": {
     "end_time": "2020-08-13T15:31:40.413473Z",
     "start_time": "2020-08-13T15:31:40.403650Z"
    },
    "execution": {
     "iopub.execute_input": "2020-08-17T20:31:59.050275Z",
     "iopub.status.busy": "2020-08-17T20:31:59.050064Z",
     "iopub.status.idle": "2020-08-17T20:31:59.059020Z",
     "shell.execute_reply": "2020-08-17T20:31:59.058510Z",
     "shell.execute_reply.started": "2020-08-17T20:31:59.050239Z"
    }
   },
   "outputs": [],
   "source": [
    "# Build a Naive Bayes classifier from scratch for numerical features\n",
    "#\n",
    "from scipy.stats import norm\n",
    "import numpy as np\n",
    "\n",
    "class CustomNaiveBayes:  # Numerical features\n",
    "    def __init__(self):\n",
    "        self.N, self.M, self.Cn = None, None, None  \n",
    "        self.Prior, self.Predictors, self.Likelihood = None, None, None\n",
    "    #\n",
    "    def fit(self, _Xtrain, _ytrain):\n",
    "        self.N, self.M = _Xtrain.shape\n",
    "        self.Cn = len(np.unique(_ytrain))  # Class numbers must be integer and starting from 0\n",
    "        assert min(_ytrain)==0 and max(_ytrain)==self.Cn-1  # Error check\n",
    "        #\n",
    "        # Prior probabilities - probability mass function\n",
    "        self.Prior = np.bincount(_ytrain) / self.N\n",
    "        #\n",
    "        # Predictor probabilities\n",
    "        # The predictors - list of (mu,std)\n",
    "        self.Predictors = np.array([norm.fit(_Xtrain[:,_]) for _ in range(self.M)])\n",
    "        #\n",
    "        # Likelihood probabilities\n",
    "        # Dictionary of {list of (mu,std) per feature} per class\n",
    "        self.Likelihood = np.empty((self.Cn,self.M,2))\n",
    "        for c in range(self.Cn):\n",
    "            self.Likelihood[c] = np.array([norm.fit(_Xtrain[np.where(_ytrain==c),_]) for _ in range(self.M)])\n",
    "        # Classifier model is composed of the data structures\n",
    "        # Prior, Predictors, and Likelihood\n",
    "        return self\n",
    "    #\n",
    "    def predict(self, _Xtest):\n",
    "        y_pred = np.empty(len(_Xtest), dtype=np.int32)\n",
    "        for i, x in enumerate(_Xtest):\n",
    "            # Bayes rule based on training\n",
    "            p_Likelihood = norm.pdf(x, self.Likelihood[:,:,0], self.Likelihood[:,:,1])\n",
    "            p_Predictors = norm.pdf(x, self.Predictors[:,0], self.Predictors[:,1])\n",
    "            # Take product of the feature probabilities - independence assumption\n",
    "            p = self.Prior*np.prod(p_Likelihood/p_Predictors, axis=1)  # Eq.1\n",
    "            y_pred[i] = np.argmax(p)\n",
    "        #\n",
    "        return y_pred"
   ]
  },
  {
   "cell_type": "markdown",
   "metadata": {},
   "source": [
    "**Sanity Check**: Exercise a reclassification: Train with the entire dataset and test with the entire dataset on trained model. Expected performance should be high compared to cross validation. Note that normally we do not report the **reclassification** performance."
   ]
  },
  {
   "cell_type": "code",
   "execution_count": 4,
   "metadata": {
    "ExecuteTime": {
     "end_time": "2020-08-13T15:31:40.990821Z",
     "start_time": "2020-08-13T15:31:40.415609Z"
    },
    "execution": {
     "iopub.execute_input": "2020-08-17T20:31:59.060631Z",
     "iopub.status.busy": "2020-08-17T20:31:59.060488Z",
     "iopub.status.idle": "2020-08-17T20:31:59.602302Z",
     "shell.execute_reply": "2020-08-17T20:31:59.601700Z",
     "shell.execute_reply.started": "2020-08-17T20:31:59.060615Z"
    }
   },
   "outputs": [
    {
     "name": "stdout",
     "output_type": "stream",
     "text": [
      "Reclassification accuracy: 0.971\n",
      "CPU times: user 523 ms, sys: 5.11 ms, total: 528 ms\n",
      "Wall time: 538 ms\n"
     ]
    }
   ],
   "source": [
    "%%time\n",
    "from sklearn.metrics import accuracy_score\n",
    "\n",
    "# Sanity check\n",
    "clf2 = CustomNaiveBayes().fit(X1, y1)\n",
    "y_pred = clf2.predict(X1)\n",
    "\n",
    "print(f'Reclassification accuracy: {accuracy_score(y1, y_pred):.3f}')"
   ]
  },
  {
   "cell_type": "markdown",
   "metadata": {},
   "source": [
    "**10-fold Cross Validation Performance:** Compare the stratified cross validation performance with `sklearn.naive_bayes.GaussianNB` since the dataset classes are unbalanced. Accumulate statistics for `niter` times as each fold has a non-zero variance.\n",
    "\n",
    "Compare the performance of our classifier `CustomNaiveBayes` to `sklearn.naive_bayes.GaussianNB`."
   ]
  },
  {
   "cell_type": "code",
   "execution_count": 5,
   "metadata": {
    "ExecuteTime": {
     "end_time": "2020-08-13T15:31:43.946412Z",
     "start_time": "2020-08-13T15:31:40.992427Z"
    },
    "execution": {
     "iopub.execute_input": "2020-08-17T20:31:59.603538Z",
     "iopub.status.busy": "2020-08-17T20:31:59.603365Z",
     "iopub.status.idle": "2020-08-17T20:32:02.375153Z",
     "shell.execute_reply": "2020-08-17T20:32:02.374654Z",
     "shell.execute_reply.started": "2020-08-17T20:31:59.603518Z"
    }
   },
   "outputs": [
    {
     "name": "stdout",
     "output_type": "stream",
     "text": [
      "CustomNaiveBayes Stratified 10-fold CV acc=0.970 with 10 iterations\n",
      "sklearn GaussianNB Stratified 10-fold CV acc=0.971 with 10 iterations\n",
      "SVM (linear) Stratified 10-fold CV acc=0.867 with 10 iterations\n",
      "SVM (rbf) Stratified 10-fold CV acc=0.964 with 10 iterations\n",
      "CPU times: user 2.71 s, sys: 26.3 ms, total: 2.74 s\n",
      "Wall time: 2.77 s\n"
     ]
    }
   ],
   "source": [
    "%%time\n",
    "from sklearn.model_selection import StratifiedKFold\n",
    "from sklearn.naive_bayes import GaussianNB\n",
    "from sklearn.svm import SVC\n",
    "\n",
    "def eval_classifier(_clf, _X, _y, _niter, text=''):\n",
    "    accs = []\n",
    "    kf = StratifiedKFold(n_splits=10, shuffle=True, random_state=None)\n",
    "    for train_index, test_index in kf.split(_X, _y):\n",
    "        model = _clf.fit(_X[train_index], _y[train_index])\n",
    "        y_pred = _clf.predict(_X[test_index])\n",
    "        accs += [accuracy_score(_y[test_index], y_pred)]\n",
    "    #\n",
    "    print(f'{text} Stratified 10-fold CV acc={np.mean(accs):.3f} with {_niter} iterations')\n",
    "\n",
    "eval_classifier(CustomNaiveBayes(), X1, y1, 10, 'CustomNaiveBayes')\n",
    "eval_classifier(GaussianNB(), X1, y1, 10, 'sklearn GaussianNB')\n",
    "eval_classifier(SVC(class_weight='balanced', kernel='linear', C=2), X1, y1, 10, 'SVM (linear)')\n",
    "eval_classifier(SVC(class_weight='balanced', kernel='rbf', gamma=2, C=2), X1, y1, 10, 'SVM (rbf)')"
   ]
  },
  {
   "cell_type": "markdown",
   "metadata": {},
   "source": [
    "**Decision Boundaries:**\n",
    "Let's plot the model discrimination planes for each classifier. Notice that `CustomNaiveBayes` and one from the `sklearn` library generate the same exact boundaries. Compare these to the linear SVM and RBF SVM classifiers and observe the SVM classifier boundaries are very different from the Naive Bayes."
   ]
  },
  {
   "cell_type": "code",
   "execution_count": 6,
   "metadata": {
    "ExecuteTime": {
     "end_time": "2020-08-13T15:31:43.954187Z",
     "start_time": "2020-08-13T15:31:43.949005Z"
    },
    "execution": {
     "iopub.execute_input": "2020-08-17T20:32:02.376823Z",
     "iopub.status.busy": "2020-08-17T20:32:02.376456Z",
     "iopub.status.idle": "2020-08-17T20:32:02.383871Z",
     "shell.execute_reply": "2020-08-17T20:32:02.382244Z",
     "shell.execute_reply.started": "2020-08-17T20:32:02.376804Z"
    }
   },
   "outputs": [],
   "source": [
    "def plot_decisionboundary(_X, _clf, _h, color_db='r'):  # _h = step size in the mesh\n",
    "    x1_min, x1_max, x2_min, x2_max = get_minmax(_X, 1)\n",
    "    xx1, xx2 = np.meshgrid(np.arange(x1_min, x1_max, _h), np.arange(x2_min, x2_max, _h))\n",
    "    Y = _clf.predict(np.c_[xx1.ravel(), xx2.ravel()]).reshape(xx1.shape)\n",
    "    # debug\n",
    "    # print(np.unique(Y,return_counts=True))\n",
    "    #\n",
    "    plt.contour(xx1, xx2, Y, colors=color_db, linestyles='dotted')"
   ]
  },
  {
   "cell_type": "code",
   "execution_count": 7,
   "metadata": {
    "ExecuteTime": {
     "end_time": "2020-08-13T15:32:09.418730Z",
     "start_time": "2020-08-13T15:31:43.955887Z"
    },
    "execution": {
     "iopub.execute_input": "2020-08-17T20:32:02.385430Z",
     "iopub.status.busy": "2020-08-17T20:32:02.385169Z",
     "iopub.status.idle": "2020-08-17T20:32:32.122834Z",
     "shell.execute_reply": "2020-08-17T20:32:32.122013Z",
     "shell.execute_reply.started": "2020-08-17T20:32:02.385405Z"
    }
   },
   "outputs": [
    {
     "data": {
      "image/png": "[encoded data removed]",
      "text/plain": [
       "<Figure size 1296x288 with 4 Axes>"
      ]
     },
     "metadata": {
      "needs_background": "light"
     },
     "output_type": "display_data"
    }
   ],
   "source": [
    "h = 0.1  # mesh granularity of the plot\n",
    "\n",
    "plt.figure(figsize=(18, 4))\n",
    "#\n",
    "ax=plt.subplot(1, 4, 1)\n",
    "plotX(X1, y1)\n",
    "clf = CustomNaiveBayes().fit(X1, y1)\n",
    "plot_decisionboundary(X1, clf, h)\n",
    "plt.title('CustomNaiveBayes', y=-0.2)\n",
    "#\n",
    "ax=plt.subplot(1, 4, 2)\n",
    "plotX(X1, y1)\n",
    "clf = GaussianNB().fit(X1, y1)\n",
    "plot_decisionboundary(X1, clf, h)\n",
    "plt.title('GaussianNB', y=-0.2)\n",
    "#\n",
    "ax=plt.subplot(1, 4, 3)\n",
    "plotX(X1, y1)\n",
    "clf = SVC(class_weight='balanced', kernel='linear', C=2).fit(X1, y1)\n",
    "plot_decisionboundary(X1, clf, h)\n",
    "plt.title('SVM (linear)', y=-0.2)\n",
    "#\n",
    "ax=plt.subplot(1, 4, 4)\n",
    "plotX(X1, y1)\n",
    "clf = SVC(class_weight='balanced', kernel='rbf', gamma=10, C=2).fit(X1, y1)\n",
    "plot_decisionboundary(X1, clf, h)\n",
    "plt.title('SVM (rbf)', y=-0.2)\n",
    "#\n",
    "plt.show()"
   ]
  },
  {
   "cell_type": "markdown",
   "metadata": {},
   "source": [
    "## Example: News Category Classification\n",
    "Using `nltk` Tf-Idf features let's see how we would classify news categories in `nltk` Reuters corpus. Since Reuters have overlapping categories and in some cases multiple lists of categories, one possible approach can be repeating the data point for each category the news belongs to. Or as a second approach, we can fix the categories to a small number such as the 5 top news categories.\n",
    "\n",
    "### TF-IDF Metric as a Feature\n",
    "The *weight*, *value*, *measure* of a term in a document is simply proportional to the term's frequency. However this metric has to be *normalized* because the term frequency alone will tend to incorrectly emphasize documents which happen to use common and frequently used words (such as 'the', if stop-word filtered then 'news' in a news corpus), without giving enough weight to the more meaningful terms (such as 'alien' or 'inflation'). This normalization can be based on the number of the documents by counting how many documents have that term.\n",
    "\n",
    "$\\operatorname{tfidf}(t, d, D)=\\operatorname{tf}(t, d) \\cdot \\operatorname{idf}(t, D), \\text{where}$\n",
    "\n",
    "$\\operatorname{tf}(t, d) = f_{t,d}$, which is the raw count of term t in document d\n",
    "\n",
    "$\\operatorname{idf}(t,D) = \\log \\frac{N_d}{|(d \\in D : t \\in d)|}$\n",
    "\n",
    "$Nd = |D|$, total number of documents $d$ in the corpus of $D$\n",
    "\n",
    "Each unique word (i.e. one element of the vocabulary) in the documents will be represented in one column. Each row (data point) is generated from an input document. The data point can be a sentence, paragraph, section, and in this example it is an individual news text.\n",
    "\n",
    "**Classifier:**\n",
    "In the following, we will use the pre-processed Tf-Idf as the input dataset and apply 10-fold cross validation to measure performance. The model will predict the news text category from a set of 6 categories."
   ]
  },
  {
   "cell_type": "code",
   "execution_count": 8,
   "metadata": {
    "ExecuteTime": {
     "end_time": "2020-08-13T15:33:16.459755Z",
     "start_time": "2020-08-13T15:33:13.473312Z"
    },
    "execution": {
     "iopub.execute_input": "2020-08-17T20:32:32.127827Z",
     "iopub.status.busy": "2020-08-17T20:32:32.127571Z",
     "iopub.status.idle": "2020-08-17T20:32:35.399012Z",
     "shell.execute_reply": "2020-08-17T20:32:35.398279Z",
     "shell.execute_reply.started": "2020-08-17T20:32:32.127761Z"
    }
   },
   "outputs": [
    {
     "name": "stderr",
     "output_type": "stream",
     "text": [
      "[nltk_data] Downloading package reuters to\n",
      "[nltk_data]     /Users/josephcrandall/nltk_data...\n",
      "[nltk_data]   Package reuters is already up-to-date!\n"
     ]
    },
    {
     "name": "stdout",
     "output_type": "stream",
     "text": [
      "N documents=10788, K unique categories=90\n"
     ]
    }
   ],
   "source": [
    "import nltk\n",
    "nltk.download('reuters')\n",
    "from nltk.corpus import reuters\n",
    "import numpy as np\n",
    "import pandas as pd\n",
    "\n",
    "Documents = [reuters.raw(fid) for fid in reuters.fileids()]\n",
    "\n",
    "# Categories are list of lists since each news may have more than 1 category\n",
    "Categories = [reuters.categories(fid) for fid in reuters.fileids()]\n",
    "CategoriesList = [_ for sublist in Categories for _ in sublist]\n",
    "CategoriesSet = np.unique(CategoriesList)\n",
    "\n",
    "print(f'N documents={len(Documents):d}, K unique categories={len(CategoriesSet):d}')"
   ]
  },
  {
   "cell_type": "code",
   "execution_count": 9,
   "metadata": {
    "ExecuteTime": {
     "end_time": "2020-08-13T15:33:19.828905Z",
     "start_time": "2020-08-13T15:33:19.823742Z"
    },
    "execution": {
     "iopub.execute_input": "2020-08-17T20:32:35.402023Z",
     "iopub.status.busy": "2020-08-17T20:32:35.401756Z",
     "iopub.status.idle": "2020-08-17T20:32:35.407628Z",
     "shell.execute_reply": "2020-08-17T20:32:35.406818Z",
     "shell.execute_reply.started": "2020-08-17T20:32:35.401990Z"
    }
   },
   "outputs": [
    {
     "name": "stdout",
     "output_type": "stream",
     "text": [
      "[('earn', 3964), ('acq', 2369), ('money-fx', 717), ('grain', 582), ('crude', 578), ('trade', 485), ('interest', 478), ('ship', 286), ('wheat', 283), ('corn', 237)]\n"
     ]
    }
   ],
   "source": [
    "from collections import Counter\n",
    "\n",
    "# Check the categories and their counts\n",
    "counts = Counter(CategoriesList)\n",
    "counts = sorted(counts.items(), key=lambda pair: pair[1], reverse=True)\n",
    "\n",
    "print(counts[:10])"
   ]
  },
  {
   "cell_type": "markdown",
   "metadata": {},
   "source": [
    "Let's pick the top 5 categories and add the custom category named `other` assigned where if the news does not belong to any one of these 5 categories. Also if a particular news belongs to more than one category, then we will pick the highest occurring category for that news.\n",
    "\n",
    "**Note:** As you may have noticed the problem at hand is a pretty unbalanced model development."
   ]
  },
  {
   "cell_type": "code",
   "execution_count": 10,
   "metadata": {
    "ExecuteTime": {
     "end_time": "2020-08-13T15:33:21.162466Z",
     "start_time": "2020-08-13T15:33:21.159008Z"
    },
    "execution": {
     "iopub.execute_input": "2020-08-17T20:32:35.409343Z",
     "iopub.status.busy": "2020-08-17T20:32:35.409022Z",
     "iopub.status.idle": "2020-08-17T20:32:35.413748Z",
     "shell.execute_reply": "2020-08-17T20:32:35.412925Z",
     "shell.execute_reply.started": "2020-08-17T20:32:35.409317Z"
    }
   },
   "outputs": [
    {
     "name": "stdout",
     "output_type": "stream",
     "text": [
      "K categories for classification= 6 categories, ['earn', 'acq', 'money-fx', 'grain', 'crude', 'other']\n"
     ]
    }
   ],
   "source": [
    "# Build the news category list\n",
    "yCategories = [_[0] for _ in counts[:5]]\n",
    "yCategories += ['other']\n",
    "\n",
    "# Sanity check\n",
    "print(f'K categories for classification= {len(yCategories):d} categories, {yCategories}')"
   ]
  },
  {
   "cell_type": "code",
   "execution_count": 11,
   "metadata": {
    "ExecuteTime": {
     "end_time": "2020-08-13T15:33:21.993411Z",
     "start_time": "2020-08-13T15:33:21.983497Z"
    },
    "execution": {
     "iopub.execute_input": "2020-08-17T20:32:35.415355Z",
     "iopub.status.busy": "2020-08-17T20:32:35.415102Z",
     "iopub.status.idle": "2020-08-17T20:32:35.427016Z",
     "shell.execute_reply": "2020-08-17T20:32:35.426219Z",
     "shell.execute_reply.started": "2020-08-17T20:32:35.415330Z"
    }
   },
   "outputs": [
    {
     "name": "stdout",
     "output_type": "stream",
     "text": [
      "N target categories=10788\n"
     ]
    }
   ],
   "source": [
    "# Assign a category for each news text, including 'other'\n",
    "yCat = []\n",
    "for cat in Categories:\n",
    "    bFound = False\n",
    "    for _ in yCategories:\n",
    "        if _ in cat:\n",
    "            yCat += [_]\n",
    "            bFound = True\n",
    "            break  # So we add only one category for a news text\n",
    "    if not bFound:\n",
    "        yCat += ['other']\n",
    "        \n",
    "# Sanity check\n",
    "print(f'N target categories={len(yCat):d}')"
   ]
  },
  {
   "cell_type": "code",
   "execution_count": 12,
   "metadata": {
    "ExecuteTime": {
     "end_time": "2020-08-13T15:33:23.020413Z",
     "start_time": "2020-08-13T15:33:23.015650Z"
    },
    "execution": {
     "iopub.execute_input": "2020-08-17T20:32:35.428614Z",
     "iopub.status.busy": "2020-08-17T20:32:35.428359Z",
     "iopub.status.idle": "2020-08-17T20:32:35.434202Z",
     "shell.execute_reply": "2020-08-17T20:32:35.433406Z",
     "shell.execute_reply.started": "2020-08-17T20:32:35.428589Z"
    }
   },
   "outputs": [],
   "source": [
    "# Convert to numerical np.array which sklearn requires\n",
    "ydocs = np.array([yCategories.index(_) for _ in yCat])"
   ]
  },
  {
   "cell_type": "code",
   "execution_count": 13,
   "metadata": {
    "ExecuteTime": {
     "end_time": "2020-08-13T15:33:23.831880Z",
     "start_time": "2020-08-13T15:33:23.823688Z"
    },
    "execution": {
     "iopub.execute_input": "2020-08-17T20:32:35.435615Z",
     "iopub.status.busy": "2020-08-17T20:32:35.435421Z",
     "iopub.status.idle": "2020-08-17T20:32:35.446012Z",
     "shell.execute_reply": "2020-08-17T20:32:35.445249Z",
     "shell.execute_reply.started": "2020-08-17T20:32:35.435592Z"
    }
   },
   "outputs": [
    {
     "name": "stdout",
     "output_type": "stream",
     "text": [
      "other --> ASIAN EXPORTERS FEAR DAMAGE FROM U.S.-JAPAN RIFT\n",
      "  Mounting trade friction between the\n",
      "  U.S. And Japan has raised fears among many of Asia's exportin \n",
      " grain --> CHINA DAILY SAYS VERMIN EAT 7-12 PCT GRAIN STOCKS\n",
      "  A survey of 19 provinces and seven cities\n",
      "  showed vermin consume between seven and 12 pct of Chin \n",
      " crude --> JAPAN TO REVISE LONG-TERM ENERGY DEMAND DOWNWARDS\n",
      "  The Ministry of International Trade and\n",
      "  Industry (MITI) will revise its long-term energy supply/\n",
      "N=10788 documents\n"
     ]
    }
   ],
   "source": [
    "# StratifiedKFold will require indexable data structure\n",
    "Docs = pd.Series(Documents)\n",
    "Categories = pd.Series(yCat)\n",
    "\n",
    "# Sanity check\n",
    "print(Categories[0],'-->',Docs[0][:150],'\\n',\n",
    "      Categories[1],'-->',Docs[1][:150],'\\n',\n",
    "      Categories[2],'-->',Docs[2][:150])\n",
    "\n",
    "# Size of the problem\n",
    "print(f'N={len(Docs)} documents')"
   ]
  },
  {
   "cell_type": "code",
   "execution_count": 14,
   "metadata": {
    "ExecuteTime": {
     "end_time": "2020-08-13T15:33:24.725181Z",
     "start_time": "2020-08-13T15:33:24.719184Z"
    },
    "execution": {
     "iopub.execute_input": "2020-08-17T20:32:35.447538Z",
     "iopub.status.busy": "2020-08-17T20:32:35.447227Z",
     "iopub.status.idle": "2020-08-17T20:32:35.455391Z",
     "shell.execute_reply": "2020-08-17T20:32:35.454692Z",
     "shell.execute_reply.started": "2020-08-17T20:32:35.447516Z"
    }
   },
   "outputs": [],
   "source": [
    "from sklearn.pipeline import Pipeline\n",
    "from sklearn.model_selection import StratifiedKFold, train_test_split\n",
    "from sklearn.metrics import accuracy_score, classification_report\n",
    "from sklearn.feature_extraction.text import CountVectorizer, TfidfTransformer\n",
    "\n",
    "def kfold_eval_docs(_clf, _Xdocs, _ydocs):\n",
    "    # Need indexable data structure\n",
    "    acc = []\n",
    "    kf = StratifiedKFold(n_splits=10, shuffle=False, random_state=None)\n",
    "    for train_index, test_index in kf.split(_Xdocs, _ydocs):\n",
    "        _clf.fit(_Xdocs[train_index], _ydocs[train_index])\n",
    "        y_pred = _clf.predict(_Xdocs[test_index])\n",
    "        acc += [accuracy_score(_ydocs[test_index], y_pred)]\n",
    "    #\n",
    "    return np.array(acc)"
   ]
  },
  {
   "cell_type": "markdown",
   "metadata": {},
   "source": [
    "In the following cells, let's see a variety of classifier models built by our dataset, mainly `Docs` and `Categories`. The Jupyter command ``%%time`` provides how long that cell runs, i.e. the classifier, in order to give a ballpark idea about their speed performances. A `Pipeline` is used to save memory where otherwise the computer will be overwhelmed by the size of the Tf-Idf matrix size."
   ]
  },
  {
   "cell_type": "code",
   "execution_count": 15,
   "metadata": {
    "ExecuteTime": {
     "end_time": "2020-08-13T15:33:26.739915Z",
     "start_time": "2020-08-13T15:33:25.870860Z"
    },
    "execution": {
     "iopub.execute_input": "2020-08-17T20:32:35.456724Z",
     "iopub.status.busy": "2020-08-17T20:32:35.456421Z",
     "iopub.status.idle": "2020-08-17T20:32:36.567065Z",
     "shell.execute_reply": "2020-08-17T20:32:36.566559Z",
     "shell.execute_reply.started": "2020-08-17T20:32:35.456695Z"
    }
   },
   "outputs": [
    {
     "name": "stdout",
     "output_type": "stream",
     "text": [
      "N data points= 10788, M features= 30916\n"
     ]
    }
   ],
   "source": [
    "# Check the size of the dataset matrix X for this Tf-Idf feature extraction\n",
    "from sklearn.feature_extraction.text import TfidfVectorizer\n",
    "\n",
    "X_tfidf = TfidfVectorizer().fit_transform(Documents)\n",
    "print(f'N data points= {X_tfidf.shape[0]}, M features= {X_tfidf.shape[1]}')"
   ]
  },
  {
   "cell_type": "markdown",
   "metadata": {},
   "source": [
    "**Note:** Following cell runs for a long time - around 7 minutes on my machine."
   ]
  },
  {
   "cell_type": "code",
   "execution_count": 16,
   "metadata": {
    "ExecuteTime": {
     "end_time": "2020-08-13T15:40:12.733660Z",
     "start_time": "2020-08-13T15:33:27.615676Z"
    },
    "execution": {
     "iopub.execute_input": "2020-08-17T20:32:36.568285Z",
     "iopub.status.busy": "2020-08-17T20:32:36.567981Z",
     "iopub.status.idle": "2020-08-17T20:39:09.156599Z",
     "shell.execute_reply": "2020-08-17T20:39:09.155678Z",
     "shell.execute_reply.started": "2020-08-17T20:32:36.568264Z"
    }
   },
   "outputs": [
    {
     "name": "stdout",
     "output_type": "stream",
     "text": [
      "Support Vector Machine (RBF) CV accuracy=0.934 0.009\n",
      "CPU times: user 6min 32s, sys: 444 ms, total: 6min 32s\n",
      "Wall time: 6min 32s\n"
     ]
    }
   ],
   "source": [
    "%%time\n",
    "from sklearn.svm import SVC\n",
    "\n",
    "svm_rbf = Pipeline([('vect', CountVectorizer()), ('tfidf', TfidfTransformer()),\n",
    "                    ('clf', SVC(kernel='rbf', gamma='scale', class_weight='balanced'))\n",
    "                   ])\n",
    "acc = kfold_eval_docs(svm_rbf, Docs, Categories)\n",
    "print(f'Support Vector Machine (RBF) CV accuracy={np.mean(acc):.3f} {np.std(acc):.3f}')"
   ]
  },
  {
   "cell_type": "code",
   "execution_count": 17,
   "metadata": {
    "ExecuteTime": {
     "end_time": "2020-08-13T15:40:23.989719Z",
     "start_time": "2020-08-13T15:40:12.736939Z"
    },
    "execution": {
     "iopub.execute_input": "2020-08-17T20:39:09.158196Z",
     "iopub.status.busy": "2020-08-17T20:39:09.157871Z",
     "iopub.status.idle": "2020-08-17T20:39:19.529744Z",
     "shell.execute_reply": "2020-08-17T20:39:19.529301Z",
     "shell.execute_reply.started": "2020-08-17T20:39:09.158177Z"
    }
   },
   "outputs": [
    {
     "name": "stdout",
     "output_type": "stream",
     "text": [
      "Support Vector Machine (linear SVC) CV accuracy=0.946 0.007\n",
      "CPU times: user 10.3 s, sys: 74.4 ms, total: 10.4 s\n",
      "Wall time: 10.4 s\n"
     ]
    }
   ],
   "source": [
    "%%time\n",
    "from sklearn.svm import LinearSVC\n",
    "\n",
    "svm_lin = Pipeline([('vect', CountVectorizer()), ('tfidf', TfidfTransformer()),\n",
    "                    ('clf', LinearSVC(class_weight='balanced'))\n",
    "                   ])\n",
    "acc = kfold_eval_docs(svm_lin, Docs, Categories)\n",
    "print(f'Support Vector Machine (linear SVC) CV accuracy={np.mean(acc):.3f} {np.std(acc):.3f}')"
   ]
  },
  {
   "cell_type": "markdown",
   "metadata": {},
   "source": [
    "**Question:** Compare the model performance and model building speed of RBF SVM (SVC module), and the LinearSVC module. Why do you think LinearSVC works faster with higher performance (which also scales nicely with the dataset size)?"
   ]
  },
  {
   "cell_type": "code",
   "execution_count": 18,
   "metadata": {
    "ExecuteTime": {
     "end_time": "2020-08-13T15:46:12.751446Z",
     "start_time": "2020-08-13T15:46:02.876710Z"
    },
    "execution": {
     "iopub.execute_input": "2020-08-17T20:39:19.530661Z",
     "iopub.status.busy": "2020-08-17T20:39:19.530538Z",
     "iopub.status.idle": "2020-08-17T20:39:28.115051Z",
     "shell.execute_reply": "2020-08-17T20:39:28.114584Z",
     "shell.execute_reply.started": "2020-08-17T20:39:19.530644Z"
    }
   },
   "outputs": [
    {
     "name": "stdout",
     "output_type": "stream",
     "text": [
      "Naive Bayes CV accuracy=0.802 0.015\n",
      "CPU times: user 8.51 s, sys: 71.6 ms, total: 8.58 s\n",
      "Wall time: 8.58 s\n"
     ]
    }
   ],
   "source": [
    "%%time\n",
    "from sklearn.naive_bayes import MultinomialNB\n",
    "\n",
    "nb = Pipeline([('vect', CountVectorizer()), ('tfidf', TfidfTransformer()),\n",
    "               ('clf', MultinomialNB())\n",
    "              ])\n",
    "acc = kfold_eval_docs(nb, Docs, Categories)\n",
    "print(f'Naive Bayes CV accuracy={np.mean(acc):.3f} {np.std(acc):.3f}')"
   ]
  },
  {
   "cell_type": "code",
   "execution_count": 19,
   "metadata": {
    "ExecuteTime": {
     "end_time": "2020-08-13T15:46:32.871673Z",
     "start_time": "2020-08-13T15:46:15.025551Z"
    },
    "execution": {
     "iopub.execute_input": "2020-08-17T20:39:28.116218Z",
     "iopub.status.busy": "2020-08-17T20:39:28.116046Z",
     "iopub.status.idle": "2020-08-17T20:39:44.127968Z",
     "shell.execute_reply": "2020-08-17T20:39:44.127148Z",
     "shell.execute_reply.started": "2020-08-17T20:39:28.116172Z"
    }
   },
   "outputs": [
    {
     "name": "stdout",
     "output_type": "stream",
     "text": [
      "Random Forest CV accuracy=0.833 0.023\n",
      "CPU times: user 34.7 s, sys: 1.46 s, total: 36.1 s\n",
      "Wall time: 16 s\n"
     ]
    }
   ],
   "source": [
    "%%time\n",
    "from sklearn.ensemble import RandomForestClassifier\n",
    "\n",
    "n_cores = 8\n",
    "rf = Pipeline([('vect', CountVectorizer()), ('tfidf', TfidfTransformer()),\n",
    "               ('clf', RandomForestClassifier(n_jobs=n_cores, n_estimators=300,\n",
    "                                              max_depth=10, random_state=None, class_weight='balanced'))\n",
    "              ])\n",
    "acc = kfold_eval_docs(rf, Docs, Categories)\n",
    "print(f'Random Forest CV accuracy={np.mean(acc):.3f} {np.std(acc):.3f}')"
   ]
  },
  {
   "cell_type": "code",
   "execution_count": 20,
   "metadata": {
    "ExecuteTime": {
     "end_time": "2020-08-13T15:47:40.895569Z",
     "start_time": "2020-08-13T15:46:48.666800Z"
    },
    "execution": {
     "iopub.execute_input": "2020-08-17T20:39:44.129617Z",
     "iopub.status.busy": "2020-08-17T20:39:44.129311Z",
     "iopub.status.idle": "2020-08-17T20:40:33.726978Z",
     "shell.execute_reply": "2020-08-17T20:40:33.726422Z",
     "shell.execute_reply.started": "2020-08-17T20:39:44.129590Z"
    }
   },
   "outputs": [
    {
     "name": "stdout",
     "output_type": "stream",
     "text": [
      "Logistic Regression CV accuracy=0.930 0.008\n",
      "CPU times: user 7min 39s, sys: 1min 47s, total: 9min 27s\n",
      "Wall time: 49.6 s\n"
     ]
    }
   ],
   "source": [
    "%%time\n",
    "import warnings\n",
    "from sklearn.exceptions import ConvergenceWarning\n",
    "from sklearn.linear_model import LogisticRegression\n",
    "\n",
    "# To avoid non-convergence one has to increase 'max_iter' parameter\n",
    "lr = Pipeline([('vect', CountVectorizer()), ('tfidf', TfidfTransformer()),\n",
    "               ('clf', LogisticRegression(solver='lbfgs', multi_class='auto', max_iter =300, class_weight='balanced'))\n",
    "              ])\n",
    "with warnings.catch_warnings():\n",
    "    warnings.filterwarnings(\"ignore\", category=ConvergenceWarning)\n",
    "    acc = kfold_eval_docs(lr, Docs, Categories)\n",
    "print(f'Logistic Regression CV accuracy={np.mean(acc):.3f} {np.std(acc):.3f}')"
   ]
  },
  {
   "cell_type": "markdown",
   "metadata": {},
   "source": [
    "### Example: Programming Language Detection"
   ]
  },
  {
   "cell_type": "markdown",
   "metadata": {},
   "source": [
    "Once more, using Tf-Idf features let's see how we would classify the programming language given the text.\n",
    "\n",
    "Similar to previous approach, we will use the pre-processed Tf-Idf as the input dataset and but this time we can apply 70-30 split validation to measure performance since the dataset is pretty big.\n",
    "\n",
    "The dataset is composed of Stackoverflow website (https://stackoverflow.com/) posts about 20 different programming languages.\n",
    "\n",
    "Note that Stackoverflow web site has forums where users post programming language questions. Generally a question is related to one programming language. Problem, given the user question text can we classify the question to text one of 20 different programming languages - to help our web site."
   ]
  },
  {
   "cell_type": "code",
   "execution_count": 22,
   "metadata": {
    "ExecuteTime": {
     "end_time": "2020-08-13T15:56:25.868190Z",
     "start_time": "2020-08-13T15:56:25.204229Z"
    },
    "execution": {
     "iopub.execute_input": "2020-08-17T20:47:40.683138Z",
     "iopub.status.busy": "2020-08-17T20:47:40.682927Z",
     "iopub.status.idle": "2020-08-17T20:47:41.327300Z",
     "shell.execute_reply": "2020-08-17T20:47:41.326815Z",
     "shell.execute_reply.started": "2020-08-17T20:47:40.683115Z"
    }
   },
   "outputs": [
    {
     "name": "stdout",
     "output_type": "stream",
     "text": [
      "                                                 post           tags\n",
      "0   what is causing this behavior  in our c# datet...             c#\n",
      "1   have dynamic html load as if it was in an ifra...        asp.net\n",
      "2   how to convert a float value in to min:sec  i ...    objective-c\n",
      "3   .net framework 4 redistributable  just wonderi...           .net\n",
      "4   trying to calculate and print the mean and its...         python\n",
      "5   how to give alias name for my website  i have ...        asp.net\n",
      "6   window.open() returns null in angularjs  it wo...      angularjs\n",
      "7   identifying server timeout quickly in iphone  ...         iphone\n",
      "8   unknown method key  error in rails 2.3.8 unit ...  ruby-on-rails\n",
      "9   from the include  how to show and hide the con...      angularjs\n",
      "10  when we need interface c# <blockquote>    <str...             c#\n",
      "11  how to install .ipa on jailbroken iphone over ...            ios\n",
      "12  dynamic textbox text - asp.net  i m trying to ...        asp.net\n",
      "13  rather than bubblesorting these names...the pr...              c\n",
      "14  site deployed in d: drive and uploaded files a...        asp.net\n",
      "15  connection in .net  i got     <blockquote>    ...           .net\n",
      "16  how to subtract 1 from an int  how do i subtra...    objective-c\n",
      "17  ror console show syntax error  i want to add d...  ruby-on-rails\n",
      "18  distance between 2 or more drop pins  i was do...         iphone\n",
      "19  sql query - how to exclude a record from anoth...            sql\n",
      "Number of words= 10286120\n"
     ]
    }
   ],
   "source": [
    "import pandas as pd\n",
    "\n",
    "# Load the data\n",
    "df = pd.read_csv('datasets/module05_stack_overflow_data.csv')\n",
    "df = df[pd.notnull(df['tags'])]  # filter out not known labels\n",
    "\n",
    "# Sanity check\n",
    "print(df.head(20))\n",
    "print(f\"Number of words= {df['post'].apply(lambda x: len(x.split(' '))).sum()}\")"
   ]
  },
  {
   "cell_type": "code",
   "execution_count": null,
   "metadata": {
    "ExecuteTime": {
     "end_time": "2020-08-13T15:56:26.788299Z",
     "start_time": "2020-08-13T15:56:26.557709Z"
    },
    "execution": {
     "iopub.status.busy": "2020-08-17T20:40:33.974486Z",
     "iopub.status.idle": "2020-08-17T20:40:33.974725Z"
    }
   },
   "outputs": [],
   "source": [
    "# Check the number of data points in each category - balanced or not\n",
    "plCategories = np.unique(df['tags'])\n",
    "print(f'K categories={len(plCategories):d} {plCategories}')\n",
    "\n",
    "plt.figure(figsize=(15,5))\n",
    "df.tags.value_counts().plot(kind='bar');"
   ]
  },
  {
   "cell_type": "code",
   "execution_count": null,
   "metadata": {
    "ExecuteTime": {
     "end_time": "2020-08-13T15:56:27.513536Z",
     "start_time": "2020-08-13T15:56:27.501638Z"
    },
    "execution": {
     "iopub.status.busy": "2020-08-17T20:40:33.975790Z",
     "iopub.status.idle": "2020-08-17T20:40:33.976026Z"
    }
   },
   "outputs": [],
   "source": [
    "plCategories_mapping = {k:i for i, k in enumerate(plCategories)}\n",
    "# Convert to numerical np.array which sklearn requires\n",
    "yposts = np.array([plCategories_mapping[_] for _ in df['tags']])"
   ]
  },
  {
   "cell_type": "markdown",
   "metadata": {},
   "source": [
    "Let's see how many features we have in our Tf-Idf matrix."
   ]
  },
  {
   "cell_type": "code",
   "execution_count": null,
   "metadata": {
    "ExecuteTime": {
     "end_time": "2020-08-13T15:56:33.352232Z",
     "start_time": "2020-08-13T15:56:29.109281Z"
    },
    "execution": {
     "iopub.status.busy": "2020-08-17T20:40:33.976912Z",
     "iopub.status.idle": "2020-08-17T20:40:33.977143Z"
    }
   },
   "outputs": [],
   "source": [
    "# Check counts, size of the X dataset\n",
    "X_tfidf = TfidfVectorizer().fit_transform(df.post)\n",
    "print(f'N data points= {X_tfidf.shape[0]}, M features= {X_tfidf.shape[1]}')"
   ]
  },
  {
   "cell_type": "code",
   "execution_count": null,
   "metadata": {
    "ExecuteTime": {
     "end_time": "2020-08-13T15:57:19.066575Z",
     "start_time": "2020-08-13T15:56:34.751758Z"
    },
    "execution": {
     "iopub.status.busy": "2020-08-17T20:40:33.978033Z",
     "iopub.status.idle": "2020-08-17T20:40:33.978292Z"
    }
   },
   "outputs": [],
   "source": [
    "%%time\n",
    "acc = kfold_eval_docs(nb, df.post, df.tags)\n",
    "print(f'Naive Bayes CV accuracy={np.mean(acc):.3f} {np.std(acc):.3f}')"
   ]
  },
  {
   "cell_type": "code",
   "execution_count": null,
   "metadata": {
    "ExecuteTime": {
     "end_time": "2020-08-13T15:58:16.948756Z",
     "start_time": "2020-08-13T15:57:21.512319Z"
    },
    "execution": {
     "iopub.status.busy": "2020-08-17T20:40:33.979127Z",
     "iopub.status.idle": "2020-08-17T20:40:33.979365Z"
    }
   },
   "outputs": [],
   "source": [
    "%%time\n",
    "acc = kfold_eval_docs(rf, df.post, df.tags)\n",
    "print(f'Random Forest CV accuracy={np.mean(acc):.3f} {np.std(acc):.3f}')"
   ]
  },
  {
   "cell_type": "code",
   "execution_count": null,
   "metadata": {
    "ExecuteTime": {
     "end_time": "2020-08-13T15:59:34.459073Z",
     "start_time": "2020-08-13T15:58:20.257441Z"
    },
    "execution": {
     "iopub.status.busy": "2020-08-17T20:40:33.980259Z",
     "iopub.status.idle": "2020-08-17T20:40:33.980532Z"
    }
   },
   "outputs": [],
   "source": [
    "%%time\n",
    "acc = kfold_eval_docs(svm_lin, df.post, df.tags)\n",
    "print(f'Support Vector Machine CV accuracy={np.mean(acc):.3f} {np.std(acc):.3f}')"
   ]
  },
  {
   "cell_type": "markdown",
   "metadata": {},
   "source": [
    "**Note:** Following cell runs for a long time - around 17 minutes on my machine."
   ]
  },
  {
   "cell_type": "code",
   "execution_count": null,
   "metadata": {
    "ExecuteTime": {
     "end_time": "2020-08-13T16:14:14.259162Z",
     "start_time": "2020-08-13T15:59:37.733877Z"
    },
    "execution": {
     "iopub.status.busy": "2020-08-17T20:40:33.981527Z",
     "iopub.status.idle": "2020-08-17T20:40:33.981928Z"
    }
   },
   "outputs": [],
   "source": [
    "%%time\n",
    "acc = kfold_eval_docs(lr, df.post, df.tags)\n",
    "print(f'Logistic Regression CV accuracy={np.mean(acc):.3f} {np.std(acc):.3f}')"
   ]
  },
  {
   "cell_type": "markdown",
   "metadata": {},
   "source": [
    "**Note:** SVM with an RBF kernel cross validation would even take a longer time to finish on my machine. Now for demonstration, let's see a 70-30 split-evaluation to examine performances or 20-class problem. Recall that CV runs the training-testing iterations for 10 times but split-eval will run only once."
   ]
  },
  {
   "cell_type": "code",
   "execution_count": null,
   "metadata": {
    "ExecuteTime": {
     "end_time": "2020-08-13T16:14:14.265633Z",
     "start_time": "2020-08-13T16:14:14.261560Z"
    },
    "execution": {
     "iopub.status.busy": "2020-08-17T20:40:33.983136Z",
     "iopub.status.idle": "2020-08-17T20:40:33.983417Z"
    }
   },
   "outputs": [],
   "source": [
    "def split_eval_docs(_clf, _Xdocs, _ydocs):\n",
    "    X_train, X_test, y_train, y_test = train_test_split(_Xdocs, _ydocs, test_size=0.3, random_state=42)\n",
    "    _clf.fit(X_train, y_train)\n",
    "    y_pred = _clf.predict(X_test)\n",
    "    return y_test, y_pred"
   ]
  },
  {
   "cell_type": "code",
   "execution_count": null,
   "metadata": {
    "ExecuteTime": {
     "end_time": "2020-08-13T16:14:18.676825Z",
     "start_time": "2020-08-13T16:14:14.268525Z"
    },
    "execution": {
     "iopub.status.busy": "2020-08-17T20:40:33.984433Z",
     "iopub.status.idle": "2020-08-17T20:40:33.984700Z"
    }
   },
   "outputs": [],
   "source": [
    "%%time\n",
    "y_test, y_pred = split_eval_docs(nb, df.post, df.tags)\n",
    "print('Naive Bayes\\n' + classification_report(y_test, y_pred, target_names=plCategories))"
   ]
  },
  {
   "cell_type": "code",
   "execution_count": null,
   "metadata": {
    "ExecuteTime": {
     "end_time": "2020-08-13T16:14:24.502379Z",
     "start_time": "2020-08-13T16:14:18.679545Z"
    },
    "execution": {
     "iopub.status.busy": "2020-08-17T20:40:33.985682Z",
     "iopub.status.idle": "2020-08-17T20:40:33.985923Z"
    }
   },
   "outputs": [],
   "source": [
    "%%time\n",
    "y_test, y_pred = split_eval_docs(rf, df.post, df.tags)\n",
    "print('Random Forest\\n' + classification_report(y_test, y_pred, target_names=plCategories))"
   ]
  },
  {
   "cell_type": "code",
   "execution_count": null,
   "metadata": {
    "ExecuteTime": {
     "end_time": "2020-08-13T16:14:30.936277Z",
     "start_time": "2020-08-13T16:14:24.504635Z"
    },
    "execution": {
     "iopub.status.busy": "2020-08-17T20:40:33.986795Z",
     "iopub.status.idle": "2020-08-17T20:40:33.987037Z"
    }
   },
   "outputs": [],
   "source": [
    "%%time\n",
    "y_test, y_pred = split_eval_docs(svm_lin, df.post, df.tags)\n",
    "print('SupportVector Machine\\n' + classification_report(y_test, y_pred, target_names=plCategories))"
   ]
  },
  {
   "cell_type": "code",
   "execution_count": null,
   "metadata": {
    "ExecuteTime": {
     "end_time": "2020-08-13T16:15:37.199148Z",
     "start_time": "2020-08-13T16:14:30.938839Z"
    },
    "execution": {
     "iopub.status.busy": "2020-08-17T20:40:33.987868Z",
     "iopub.status.idle": "2020-08-17T20:40:33.988178Z"
    }
   },
   "outputs": [],
   "source": [
    "%%time\n",
    "y_test, y_pred = split_eval_docs(lr, df.post, df.tags)\n",
    "print('Logistic Regression\\n' + classification_report(y_test, y_pred, target_names=plCategories))"
   ]
  },
  {
   "cell_type": "markdown",
   "metadata": {},
   "source": [
    "**Important:** Normally Tf-Idf vectorizer generates a sparse matrix (which can be obtained by `todense()` method), hindering some general usages. And note that since the number of features M is around 180k, the dense X matrix may be too big for common computer memory, e.g. 16GB. We have to process more to reduce the number of words (or columns), using techniques such as Natural Language Processing. Note that we have been already using `Pipeline` to save memory and speed up computations.\n",
    "\n",
    "**Final Words:** As can be seen from the model performance and run-time durations, `LinearSVC` is the best classifier for such text classification problems. One of the reasons is that Tf-ldf feature matrix is very suitable for LinearSVC which places a hyperplane (surface) between the classes. Because the number of dimensions/features *$M$* is very high (in fact higher than *N*), linear SVM works very good. Recall the raw Tf-ldf matrix has 181015 features. Since $N << M$ linear SVM works very good."
   ]
  },
  {
   "cell_type": "markdown",
   "metadata": {},
   "source": [
    "## Exercises\n",
    "**Exericse 5.1** In the Decision Boundaries cell `7`, change the SVM RBF gamma parameter to 0.5. Note your observations. Change the gammer to 10.0 and note your observations. What heppened to the decision bounday and why?"
   ]
  },
  {
   "cell_type": "code",
   "execution_count": null,
   "metadata": {
    "execution": {
     "iopub.status.busy": "2020-08-17T20:40:33.989061Z",
     "iopub.status.idle": "2020-08-17T20:40:33.989302Z"
    }
   },
   "outputs": [],
   "source": [
    "%matplotlib inline\n",
    "import matplotlib.pyplot as plt\n",
    "\n",
    "# Following functions only work in 2-dimensions, i.e. X with 2 features\n",
    "# And upto 5 clusters/classes\n",
    "\n",
    "def get_minmax(_X, _m):  # _m = margin for visuals\n",
    "    return _X[:,0].min()-_m, _X[:,0].max()+_m, _X[:,1].min()-_m, _X[:,1].max()+_m\n",
    "\n",
    "def plotX(_X, _y, ax=None):  # Max 5 clusters/classes\n",
    "    Colors = ['darkorchid', 'darkgreen', 'darkgrey', 'darksalmon', 'darkseagreen']\n",
    "    Markers = ['o', '+', 'x', '1', '.']\n",
    "    for c in range(max(_y)+1):\n",
    "        plt.scatter(_X[_y==c,0], _X[_y==c,1], marker=Markers[c], color=Colors[c])\n",
    "    if ax is not None:\n",
    "        ax.get_xaxis().set_ticks([])\n",
    "        ax.get_yaxis().set_ticks([])\n",
    "    #\n",
    "    x1_min, x1_max, x2_min, x2_max = get_minmax(_X, 1)\n",
    "    plt.xlim(x1_min, x1_max)\n",
    "    plt.ylim(x2_min, x2_max)\n",
    "    plt.xlabel(r'$x_1$', horizontalalignment='right', x=1.0)\n",
    "    plt.ylabel(r'$x_2$', horizontalalignment='right', y=1.0)"
   ]
  },
  {
   "cell_type": "code",
   "execution_count": null,
   "metadata": {
    "execution": {
     "iopub.status.busy": "2020-08-17T20:40:33.990188Z",
     "iopub.status.idle": "2020-08-17T20:40:33.990420Z"
    }
   },
   "outputs": [],
   "source": [
    "from sklearn.datasets import make_blobs\n",
    "\n",
    "# 5 classes with 2 features\n",
    "X1, y1 = make_blobs(n_samples=(100, 500, 500, 500, 1000), n_features=2, random_state=1,\n",
    "                    cluster_std=[2, .5, .5, .5, 5],\n",
    "                    centers=[(-3, -3), (-3, 3), (3, -3), (3, 3), (6, 6)])\n",
    "#\n",
    "plotX(X1, y1)"
   ]
  },
  {
   "cell_type": "code",
   "execution_count": null,
   "metadata": {
    "execution": {
     "iopub.status.busy": "2020-08-17T20:40:33.991276Z",
     "iopub.status.idle": "2020-08-17T20:40:33.991659Z"
    }
   },
   "outputs": [],
   "source": [
    "def plot_decisionboundary(_X, _clf, _h, color_db='r'):  # _h = step size in the mesh\n",
    "    x1_min, x1_max, x2_min, x2_max = get_minmax(_X, 1)\n",
    "    xx1, xx2 = np.meshgrid(np.arange(x1_min, x1_max, _h), np.arange(x2_min, x2_max, _h))\n",
    "    Y = _clf.predict(np.c_[xx1.ravel(), xx2.ravel()]).reshape(xx1.shape)\n",
    "    # debug\n",
    "    # print(np.unique(Y,return_counts=True))\n",
    "    #\n",
    "    plt.contour(xx1, xx2, Y, colors=color_db, linestyles='dotted')"
   ]
  },
  {
   "cell_type": "code",
   "execution_count": null,
   "metadata": {
    "execution": {
     "iopub.status.busy": "2020-08-17T20:40:33.992678Z",
     "iopub.status.idle": "2020-08-17T20:40:33.992955Z"
    }
   },
   "outputs": [],
   "source": [
    "h = 0.1  # mesh granularity of the plot\n",
    "\n",
    "plt.figure(figsize=(18, 4))\n",
    "#\n",
    "ax=plt.subplot(1, 4, 1)\n",
    "plotX(X1, y1)\n",
    "clf = CustomNaiveBayes().fit(X1, y1)\n",
    "plot_decisionboundary(X1, clf, h)\n",
    "plt.title('CustomNaiveBayes', y=-0.2)\n",
    "#\n",
    "ax=plt.subplot(1, 4, 2)\n",
    "plotX(X1, y1)\n",
    "clf = GaussianNB().fit(X1, y1)\n",
    "plot_decisionboundary(X1, clf, h)\n",
    "plt.title('GaussianNB', y=-0.2)\n",
    "#\n",
    "ax=plt.subplot(1, 4, 3)\n",
    "plotX(X1, y1)\n",
    "clf = SVC(class_weight='balanced', kernel='linear', C=2).fit(X1, y1)\n",
    "plot_decisionboundary(X1, clf, h)\n",
    "plt.title('SVM (linear)', y=-0.2)\n",
    "#\n",
    "ax=plt.subplot(1, 4, 4)\n",
    "plotX(X1, y1)\n",
    "clf = SVC(class_weight='balanced', kernel='rbf', gamma=10, C=2).fit(X1, y1)\n",
    "plot_decisionboundary(X1, clf, h)\n",
    "plt.title('SVM (rbf)', y=-0.2)\n",
    "#\n",
    "plt.show()"
   ]
  },
  {
   "cell_type": "markdown",
   "metadata": {},
   "source": [
    "**Exercise 5.2** In the News Category Classification section, increase the numebr of categories from top-5 to top-10. Use Random Forest classifier and report 10-fold CV accuracy. Which class/topic is the most accurately predicted? (Hint: Use a confusion matrix)"
   ]
  },
  {
   "cell_type": "code",
   "execution_count": null,
   "metadata": {
    "execution": {
     "iopub.status.busy": "2020-08-17T20:40:33.993772Z",
     "iopub.status.idle": "2020-08-17T20:40:33.994007Z"
    }
   },
   "outputs": [],
   "source": [
    "# Build the news category list\n",
    "yCategories = [_[0] for _ in counts[:5]]\n",
    "yCategories += ['other']\n",
    "\n",
    "# Sanity check\n",
    "print(f'K categories for classification= {len(yCategories):d} categories, {yCategories}')"
   ]
  },
  {
   "cell_type": "code",
   "execution_count": null,
   "metadata": {
    "execution": {
     "iopub.status.busy": "2020-08-17T20:40:33.994988Z",
     "iopub.status.idle": "2020-08-17T20:40:33.995233Z"
    }
   },
   "outputs": [],
   "source": [
    "# Build the news category list\n",
    "yCategories = [_[0] for _ in counts[:5]]\n",
    "yCategories += ['other']\n",
    "\n",
    "# Sanity check\n",
    "print(f'K categories for classification= {len(yCategories):d} categories, {yCategories}')"
   ]
  },
  {
   "cell_type": "code",
   "execution_count": null,
   "metadata": {
    "execution": {
     "iopub.status.busy": "2020-08-17T20:40:33.997700Z",
     "iopub.status.idle": "2020-08-17T20:40:33.997987Z"
    }
   },
   "outputs": [],
   "source": [
    "# Assign a category for each news text, including 'other'\n",
    "yCat = []\n",
    "for cat in Categories:\n",
    "    bFound = False\n",
    "    for _ in yCategories:\n",
    "        if _ in cat:\n",
    "            yCat += [_]\n",
    "            bFound = True\n",
    "            break  # So we add only one category for a news text\n",
    "    if not bFound:\n",
    "        yCat += ['other']\n",
    "        \n",
    "# Sanity check\n",
    "print(f'N target categories={len(yCat):d}')"
   ]
  }
 ],
 "metadata": {
  "kernelspec": {
   "display_name": "Python 3",
   "language": "python",
   "name": "python3"
  },
  "language_info": {
   "codemirror_mode": {
    "name": "ipython",
    "version": 3
   },
   "file_extension": ".py",
   "mimetype": "text/x-python",
   "name": "python",
   "nbconvert_exporter": "python",
   "pygments_lexer": "ipython3",
   "version": "3.7.3"
  }
 },
 "nbformat": 4,
 "nbformat_minor": 4
}
