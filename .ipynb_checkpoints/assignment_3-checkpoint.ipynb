{
 "cells": [
  {
   "cell_type": "markdown",
   "metadata": {},
   "source": [
    "# Assignment 3\n",
    "## Machine Learning Workshop\n",
    "In this assignment, we will work on image classification using TensorFlow.\n",
    "* Download the [intel image dataset from Kaggle].\n",
    "* We will use the [OpenCV image feature extraction library].\n",
    "\n",
    "[intel image dataset from Kaggle]: https://www.kaggle.com/puneet6060/intel-image-classification\n",
    "[OpenCV image feature extraction library]: https://docs.opencv.org/4.4.0/index.html\n",
    "\n",
    "1\\. [20 pts] Download the dataset, unzip and explore the file folders. Load the image dataset\n",
    "with training and testing grouped."
   ]
  },
  {
   "cell_type": "code",
   "execution_count": null,
   "metadata": {},
   "outputs": [],
   "source": [
    "import cv2\n",
    "IMGSIZE = (128, 128)\n",
    "X_tr, y_tr, X_ts, y_ts = [], [], [], []\n",
    "for label in _labels:\n",
    " path = _path + '/seg_train/seg_train/' + label\n",
    " for f in sorted([_ for _ in os.listdir(path) if _.lower().endswith('.jpg')]):\n",
    " X_tr += [cv2.resize(cv2.imread(os.path.join(path,f)), IMGSIZE)]\n",
    " y_tr += [CNAMES.index(label)]"
   ]
  },
  {
   "cell_type": "markdown",
   "metadata": {},
   "source": [
    "Display a few images. How many image channels are there?\n",
    "\n",
    "2\\. [20 pts] Convert the imageset to numpy array, such as the array size is (14034, 128, 128, 3). Scale the imageset to [0-1].\n",
    "\n",
    "3\\. [40 pts] Create a convolutional neural network to train and report its performance on the testing portion of the dataset. 95% reclassification and 75% testing accuracy should be easily achievable without any hyperparameter tuning. (Hint: My model, which is similar to the model in module notebook, took around 10 minutes to train 10 epochs.)\n",
    "\n",
    "4\\. [20 pts] Add regularization and/or drop-out features to your CNN. Report your model's best\n",
    "performance."
   ]
  },
  {
   "cell_type": "code",
   "execution_count": null,
   "metadata": {},
   "outputs": [],
   "source": []
  }
 ],
 "metadata": {
  "kernelspec": {
   "display_name": "Python 3",
   "language": "python",
   "name": "python3"
  },
  "language_info": {
   "codemirror_mode": {
    "name": "ipython",
    "version": 3
   },
   "file_extension": ".py",
   "mimetype": "text/x-python",
   "name": "python",
   "nbconvert_exporter": "python",
   "pygments_lexer": "ipython3",
   "version": "3.7.3"
  }
 },
 "nbformat": 4,
 "nbformat_minor": 4
}
