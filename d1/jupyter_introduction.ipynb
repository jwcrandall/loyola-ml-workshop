{
 "cells": [
  {
   "cell_type": "markdown",
   "metadata": {},
   "source": [
    "# Jupyter Notebook Introduction"
   ]
  },
  {
   "cell_type": "markdown",
   "metadata": {},
   "source": [
    "A Jupyter Notebook is a document that contains both code and rich text elements, such as figures, links, and equations. A Jupyter Notebook is the ideal vehicle to bring together an analysis description and its results. The actual analysis by means of the content code can be executed in real time."
   ]
  },
  {
   "cell_type": "markdown",
   "metadata": {},
   "source": [
    "## Computing Environment Preparation"
   ]
  },
  {
   "cell_type": "markdown",
   "metadata": {},
   "source": [
    "Prepare the model development environment on your computer by following the steps below:\n",
    "Install Anaconda Python 3, 64-bit version from https://www.anaconda.com/distribution/\n",
    "Install Jupyter Notebook extensions: pip install jupyter_contrib_nbextensions\n",
    "Enable and configure Jupyter Notebook extensions: jupyter contrib nbextension install --system"
   ]
  },
  {
   "cell_type": "markdown",
   "metadata": {},
   "source": [
    "## Run module notebooks"
   ]
  },
  {
   "cell_type": "markdown",
   "metadata": {},
   "source": [
    "* Open Anaconda Navigator and run Jupyter Notebook\n",
    "* Create a new notebook in your environment (File  →  New Notebook  →  Python 3)\n",
    "* Copy paste each Code cell from the course module notebook (HTML format) to yours\n",
    "* After running the copied Code cells compare the output of your cells to the course notebook"
   ]
  },
  {
   "cell_type": "markdown",
   "metadata": {},
   "source": [
    "Note that the Markdown cells in HTML formatted course module notebook might be have Latex code for equations and figure attachments."
   ]
  },
  {
   "cell_type": "markdown",
   "metadata": {},
   "source": [
    "## Notebook Tutorial"
   ]
  },
  {
   "cell_type": "markdown",
   "metadata": {},
   "source": [
    "Jupyter notebook [tutorial]\n",
    "\n",
    "[tutorial]: https://jupyter-notebook-beginner-guide.readthedocs.io/en/latest/what_is_jupyter.html"
   ]
  },
  {
   "cell_type": "markdown",
   "metadata": {},
   "source": [
    "# What is a Jupyter Notebook?"
   ]
  },
  {
   "cell_type": "markdown",
   "metadata": {},
   "source": [
    "The \"notebook\" denote documents that contain both code and rich text elements, such as figures, links, and equations. A Jupyter notebook is the ideal vehicle to bring together an analysis description and its results. The actual analysis by means of the content code can be executed in real time."
   ]
  },
  {
   "cell_type": "markdown",
   "metadata": {},
   "source": [
    "## Import open-source libraries"
   ]
  },
  {
   "cell_type": "markdown",
   "metadata": {},
   "source": [
    "Anaconda 3 distribution encompasses numerous libraries for data analytic, dataset handling, visualization and regular computing needs such as parallel processing, etc.\n",
    "\n",
    "Open source libraries such as NumpPy, SciPy, matplotlib, scikit-learn are developed and maintained by tens of thousands of developers, researchers, engineers from various organizations like universities and industry."
   ]
  },
  {
   "cell_type": "markdown",
   "metadata": {},
   "source": [
    "## APIs\n",
    "`scikit-learn` - https://scikit-learn.org/stable/modules/classes.html  \n",
    "`numpy` - https://docs.scipy.org/doc/numpy/reference/"
   ]
  },
  {
   "cell_type": "markdown",
   "metadata": {},
   "source": [
    "## Why do we use Python in this course?"
   ]
  },
  {
   "cell_type": "markdown",
   "metadata": {
    "ExecuteTime": {
     "end_time": "2020-08-06T12:48:11.843715Z",
     "start_time": "2020-08-06T12:48:11.838301Z"
    }
   },
   "source": [
    "Because Python is taking over as the number 1 data science programming language ([reference])\n",
    "\n",
    "[reference]: https://opensource.com/article/18/5/numbers-python-community-trends"
   ]
  },
  {
   "cell_type": "markdown",
   "metadata": {},
   "source": [
    "## The ipynb File"
   ]
  },
  {
   "cell_type": "markdown",
   "metadata": {},
   "source": [
    "The .ipynb file is a text file that describes the contents of the Notebook in a format called JSON. Each cell and its contents (such as Code and Markdown), execution results, including image attachments that have been converted into strings of text, is listed therein along with some metadata"
   ]
  },
  {
   "cell_type": "markdown",
   "metadata": {},
   "source": [
    "# The Notebook Interface"
   ]
  },
  {
   "cell_type": "markdown",
   "metadata": {},
   "source": [
    "Jupyter is effectively an advanced word processor. Now, check out the menus to get a feel for it, scroll down the list of commands in the command palette, which is the small button with the keyboard icon (or Ctrl + Shift + P)."
   ]
  },
  {
   "cell_type": "markdown",
   "metadata": {},
   "source": [
    "Cells and kernels are important concepts both to understanding Jupyter and to what makes it more than just a word processor:"
   ]
  },
  {
   "cell_type": "markdown",
   "metadata": {},
   "source": [
    "* A kernel is a \"computational engine\" that executes the code contained in a notebook document.\n",
    "* A cell is a container for text to be displayed in the notebook or code to be executed by the notebook's kernel."
   ]
  },
  {
   "cell_type": "markdown",
   "metadata": {},
   "source": [
    "## Cells"
   ]
  },
  {
   "cell_type": "markdown",
   "metadata": {},
   "source": [
    "Cells form the body of a notebook. The box with the green outline is an empty cell. There are two main cell types:"
   ]
  },
  {
   "cell_type": "markdown",
   "metadata": {},
   "source": [
    "* A Code cell contains code to be executed in the kernel and displays its output below\n",
    "* A Markdown cell contains text formatted using Markdown and displays its output in-place when it is run\n",
    "* Switching between cell types can be done from the menu bar: click Cell and then click Cell Type"
   ]
  },
  {
   "cell_type": "markdown",
   "metadata": {},
   "source": [
    "The first cell in a new notebook is always a code cell. Test it out with a classic hello world example. Type print('Hello World!') into the cell and click the Run button in the toolbar above or press Ctrl + Enter."
   ]
  },
  {
   "cell_type": "code",
   "execution_count": 2,
   "metadata": {
    "ExecuteTime": {
     "end_time": "2020-08-06T12:55:50.482000Z",
     "start_time": "2020-08-06T12:55:50.479218Z"
    }
   },
   "outputs": [
    {
     "name": "stdout",
     "output_type": "stream",
     "text": [
      "Hello World!\n"
     ]
    }
   ],
   "source": [
    "print('Hello World!')\n"
   ]
  },
  {
   "cell_type": "markdown",
   "metadata": {},
   "source": [
    "Cell output is displayed below the cell and the label to its left will have changed from In [ ] to In [1]. The output of a code cell also forms part of the document, which is visible in this notebook. One can always tell the difference between Code and Markdown cells because code cells have the In label on the left and Markdown cells do not.\n",
    "\n",
    "The \"In\" part of the label is simply short for \"Input,\" while the label number indicates when the cell was executed on the kernel  −  in this case the cell was executed first. Run the cell again and the label will change to In [2] because now the cell was the second to be run on the kernel.\n",
    "\n",
    "From the menu bar, click Insert and select Insert Cell Below to create a new code cell underneath the current selected cell and try out the following code to see what happens. Do you notice anything different?"
   ]
  },
  {
   "cell_type": "code",
   "execution_count": 3,
   "metadata": {
    "ExecuteTime": {
     "end_time": "2020-08-06T12:56:47.603804Z",
     "start_time": "2020-08-06T12:56:42.599225Z"
    }
   },
   "outputs": [],
   "source": [
    "import time\n",
    "\n",
    "time.sleep(5)"
   ]
  },
  {
   "cell_type": "markdown",
   "metadata": {},
   "source": [
    "This cell doesn't produce any output, but it does take five seconds to execute. Notice how Jupyter signifies that the cell is currently running by changing its label to In [*].\n",
    "\n",
    "In general, the output of a cell comes from any text data specifically printed during the cells execution, as well as the value of the last line in the cell, be it a lone variable, a function call, or something else."
   ]
  },
  {
   "cell_type": "markdown",
   "metadata": {},
   "source": [
    "## Markdown"
   ]
  },
  {
   "cell_type": "markdown",
   "metadata": {},
   "source": [
    "Markdown is a lightweight, easy to learn markup language for formatting plain text. Its syntax has a one-to-one match with HTML tags. Markdown cells can have URLs, images, and LaTeX equations and very useful to describe technical approaches as in a research publication."
   ]
  },
  {
   "cell_type": "markdown",
   "metadata": {},
   "source": [
    "## Kernels"
   ]
  },
  {
   "cell_type": "markdown",
   "metadata": {},
   "source": [
    "Behind the scenes, every notebook runs a kernel. When a code cell is run, that code is executed within the kernel and any output is returned back to the cell to be displayed. The kernel's state persists over time and between cells  −  it pertains to the document as a whole and not individual cells, similar to a global variable.\n",
    "\n",
    "Any imported libraries or declared variables in one cell will be available in all the other cells. In this way, one can think of a notebook document as being somewhat comparable to a script file, except that it is multimedia. Note that if one changes the variable names, and run cells frequently like a debugging session, it might be a good idea to reset the kernel and restart with Kernel  →  Restart & Clear Output."
   ]
  },
  {
   "cell_type": "markdown",
   "metadata": {},
   "source": [
    "We will use Python 3 kernel throughout the course."
   ]
  },
  {
   "cell_type": "markdown",
   "metadata": {},
   "source": [
    "Let's see a simple analytic example content as in the **following three cells:**"
   ]
  },
  {
   "cell_type": "markdown",
   "metadata": {},
   "source": [
    "1. the raw Markdown as a Code cell to be able to show a Markdown cell content (the cell won't run)\n",
    "2. the same cell content in (1.) as Markdown\n",
    "3. a Code cell."
   ]
  },
  {
   "cell_type": "code",
   "execution_count": 4,
   "metadata": {
    "ExecuteTime": {
     "end_time": "2020-08-06T13:00:17.969971Z",
     "start_time": "2020-08-06T13:00:17.962660Z"
    }
   },
   "outputs": [
    {
     "ename": "SyntaxError",
     "evalue": "invalid syntax (<ipython-input-4-834695dddb74>, line 2)",
     "output_type": "error",
     "traceback": [
      "\u001b[0;36m  File \u001b[0;32m\"<ipython-input-4-834695dddb74>\"\u001b[0;36m, line \u001b[0;32m2\u001b[0m\n\u001b[0;31m    Let $\\texttt{p}(x)$ be the probability mass function of a random variable $X$,\u001b[0m\n\u001b[0m        ^\u001b[0m\n\u001b[0;31mSyntaxError\u001b[0m\u001b[0;31m:\u001b[0m invalid syntax\n"
     ]
    }
   ],
   "source": [
    "## Entropy\n",
    "Let $\\texttt{p}(x)$ be the probability mass function of a random variable $X$, \n",
    "over a discrete set of symbols (or __alphabet__) $\\mathcal{X}$:  \n",
    "$\\texttt{p}(x)=P(X{=}x), x \\in \\mathcal{X}$\n",
    "\n",
    "Entropy is defined as $H(\\texttt{p})=H(X)=-\\sum\\limits_{x\\in X}\\texttt{p}(x)\\log_2\\texttt{p}(x)$\n",
    "\n",
    "Entropy measures the amount of information in a random variable. It is normally measured in bits \n",
    "(hence the log to the base 2), but using any other base yields only a linear scaling of results. \n",
    "When entropy is involved __plain log__ should be read as log to the base 2. \n",
    "Also, for the sake of this definition, define $0 \\log 0 = 0$."
   ]
  },
  {
   "cell_type": "markdown",
   "metadata": {},
   "source": [
    "## Entropy"
   ]
  },
  {
   "cell_type": "markdown",
   "metadata": {},
   "source": [
    "et  𝚙(𝑥)  be the probability mass function of a random variable  𝑋 , over a discrete set of symbols (or alphabet)   :\n",
    "𝚙(𝑥)=𝑃(𝑋=𝑥),𝑥∈ \n",
    "Entropy is defined as  𝐻(𝚙)=𝐻(𝑋)=−∑𝑥∈𝑋𝚙(𝑥)log2𝚙(𝑥) \n",
    "Entropy measures the amount of information in a random variable. It is normally measured in bits (hence the log to the base 2), but using any other base yields only a linear scaling of results. When entropy is involved plain log should be read as log to the base 2. Also, for the sake of this definition, define  0log0=0 ."
   ]
  },
  {
   "cell_type": "code",
   "execution_count": 5,
   "metadata": {
    "ExecuteTime": {
     "end_time": "2020-08-06T13:01:09.119147Z",
     "start_time": "2020-08-06T13:01:08.379443Z"
    }
   },
   "outputs": [
    {
     "data": {
      "image/png": "[encoded data removed]",
      "text/plain": [
       "<Figure size 432x288 with 1 Axes>"
      ]
     },
     "metadata": {
      "needs_background": "light"
     },
     "output_type": "display_data"
    }
   ],
   "source": [
    "%matplotlib inline\n",
    "import matplotlib.pyplot as plt\n",
    "import numpy as np\n",
    "\n",
    "def log2(x):\n",
    "    from math import log2\n",
    "    return 0 if x==0 else log2(x)\n",
    "    \n",
    "x, h = [], []\n",
    "for w in np.linspace(0.,1.,20):\n",
    "    x += [w]\n",
    "    h += [-w*log2(w)-(1-w)*log2(1-w)]\n",
    "\n",
    "plt.plot(x, h, 'k--', lw=1, label='$H(p)$')\n",
    "plt.legend(); plt.xlabel('x'); plt.ylabel('Entropy')\n",
    "plt.show()"
   ]
  },
  {
   "cell_type": "markdown",
   "metadata": {},
   "source": [
    "## Timing a Cell"
   ]
  },
  {
   "cell_type": "markdown",
   "metadata": {},
   "source": [
    "Frequently it is necessary to time a cell in order to decide on a model or pipeline. The Jupyter command %%time provides how long that cell runs, i.e. the classifier, in order to give a ballpark idea about their time complexity. It has to be the first command at the beginning of the cell."
   ]
  },
  {
   "cell_type": "code",
   "execution_count": 6,
   "metadata": {
    "ExecuteTime": {
     "end_time": "2020-08-06T13:01:39.958012Z",
     "start_time": "2020-08-06T13:01:39.661868Z"
    }
   },
   "outputs": [
    {
     "name": "stdout",
     "output_type": "stream",
     "text": [
      "CPU times: user 834 ms, sys: 104 ms, total: 938 ms\n",
      "Wall time: 293 ms\n"
     ]
    }
   ],
   "source": [
    "%%time\n",
    "prod = np.random.rand(1000,10000) @ np.random.rand(10000,1000)"
   ]
  },
  {
   "cell_type": "markdown",
   "metadata": {
    "ExecuteTime": {
     "end_time": "2020-08-06T13:02:06.040614Z",
     "start_time": "2020-08-06T13:02:06.038868Z"
    }
   },
   "source": [
    "## Conda Environments"
   ]
  },
  {
   "cell_type": "markdown",
   "metadata": {},
   "source": [
    "A conda environment is a directory that contains a specific collection of Anaconda packages that is installed. As an example, one environment with NumPy 1.7 and its dependencies, and another environment with NumPy 1.6 for legacy testing can exist on the same computing platform. When one environment is updated, others are not affected. We can easily activate or deactivate environments, to switch between environments."
   ]
  },
  {
   "cell_type": "markdown",
   "metadata": {
    "ExecuteTime": {
     "end_time": "2020-08-06T13:02:44.678032Z",
     "start_time": "2020-08-06T13:02:44.675066Z"
    }
   },
   "source": [
    "Before running the jupyter notebook we have to activate the environment: Launch Anaconda Prompt (Anaconda3) in Windows Start Menu and follow the instructions below."
   ]
  },
  {
   "cell_type": "markdown",
   "metadata": {},
   "source": [
    "In the following example we used the name my_environ as the environment name, activated it, and then installed the gensim library in the environment named my_environ.\n",
    "\n",
    "1. Creating an environment named _myenviron: conda create -n my_environ\n",
    "2. Activating the _myenviron environment: conda activate my_environ\n",
    "3. Installing the gensim library: conda install -n my_environ gensim\n",
    "4. Install jupyter notebook: conda install -n my_environ jupyter\n",
    "5. Install nltk: conda install -n my_environ nltk and thereafter every necessary library to your project\n",
    "6. Then run the Jupyter notebook\n",
    "\n",
    "Deactivating the environment: source deactivate  \n",
    "Deleting the environment: conda env remove -n my_environ\n",
    "\n",
    "Listing existing environments: conda env list"
   ]
  },
  {
   "cell_type": "markdown",
   "metadata": {},
   "source": [
    "## Exporting the Notebook as PDF or HTML"
   ]
  },
  {
   "cell_type": "markdown",
   "metadata": {},
   "source": [
    "The ibynb notebook file can be exported as an HTML, or HTML with embedded pictures (such as .png), or a PDF file by the following commands:\n",
    "\n",
    "* HTML - jupyter nbconvert --to html your_notebook.ipynb\n",
    "* HTML embedded - jupyter nbconvert --to html_embed your_notebook.ipynb\n",
    "* PDF - jupyter nbconvert --to pdf your_notebook.ipynb"
   ]
  },
  {
   "cell_type": "markdown",
   "metadata": {},
   "source": [
    "## Installing Anaconda Libraries through SSL\n",
    "\n",
    "In case your work computer has SSL related settings, installing libraries might be an issue.\n",
    "\n",
    "The following will set the configuration for your organization provided certificates:\n",
    "conda config --set ssl_verify C:\\Users\\user_name\\Documents\\YOUR_ORG_certificate.cer\n",
    "\n",
    "The following settings will temporarily disable the SSL checking of library sources:\n",
    "\n",
    "**Use with Caution!**\n",
    "pip install <library_name> --trusted-host pypi.python.org --trusted-host files.pythonhosted.org --trusted-host pypi.org"
   ]
  },
  {
   "cell_type": "markdown",
   "metadata": {},
   "source": [
    "This concludes out short introduction to Jupyter notebooks.\n",
    "\n"
   ]
  },
  {
   "cell_type": "code",
   "execution_count": null,
   "metadata": {},
   "outputs": [],
   "source": []
  }
 ],
 "metadata": {
  "kernelspec": {
   "display_name": "Python 3",
   "language": "python",
   "name": "python3"
  },
  "language_info": {
   "codemirror_mode": {
    "name": "ipython",
    "version": 3
   },
   "file_extension": ".py",
   "mimetype": "text/x-python",
   "name": "python",
   "nbconvert_exporter": "python",
   "pygments_lexer": "ipython3",
   "version": "3.7.3"
  }
 },
 "nbformat": 4,
 "nbformat_minor": 4
}
