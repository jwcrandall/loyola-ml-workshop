{
 "cells": [
  {
   "cell_type": "markdown",
   "metadata": {},
   "source": [
    "1\\. [20 pts] Define each of the following machine learning terms:\n",
    "* *dataset* - A collection of instances is a dataset and when working with machine learning methods we typically need a few datasets for different purposes.\n",
    "  * *instance* - a single row of data is called an instance. It is an observation from the domain.\n",
    "* *training* - a dataset that we feed into our machine learning algorithm to train our model\n",
    "* *testing* - a dataset that we use to validate the accuracy of our model but is not used to train the model. It may be called the validation dataset.\n",
    "* *validation dataset* - used to tune the models hyper-parameters.\n",
    "* *ground truth* - the value measured for your target variable for the training and testing examples where nearly all the time you can safely treat this the same as the label. If you augment your data set, there is a subtle difference between the ground truth (your actual measurements) and how the augmented examples relate to the labels you have assigned. \n",
    "* *label* - a human or machine generated description tagged to one or many data samples.\n",
    "* *pre-processing* - data transforming or encoding to bring data to a state such that a machine can easily parse it.\n",
    "* feature -\n",
    "* numerical\n",
    "* nominal\n",
    "* decision surface\n",
    "* model validation\n",
    "* accuracy\n",
    "* cross-validation"
   ]
  },
  {
   "cell_type": "markdown",
   "metadata": {},
   "source": [
    "2\\. [20 pts] Pick **two** of the [Scikit-learn datasets] which are already included in the library (i.e. the ones with datasets_load_) an find out the following:\n",
    "* the number of data points\n",
    "* the number of features and their types\n",
    "* the number and name of categories (i.e. the target field)\n",
    "* the mean (or mode if nominal) of the first two features\n",
    "\n",
    "[Scikit-learn datasets]: https://scikit-learn.org/stable/modules/classes.html#module-sklearn.datasets"
   ]
  },
  {
   "cell_type": "markdown",
   "metadata": {},
   "source": [
    "3\\. [40 pts] Implement a correlation program from scratch to look at the correlations between the features of Admission_Predict.csv dataset file (not provided, you have to download it by yourself by following the instructions in the module Jupyter notebook). Display the correlation matrix where each row and column are the features, which should be an 8 by 8 matrix (should we use 'Serial no'?). You can use pandas DataFrame.corr() to verify correctness of yours.\n",
    "\n",
    "Observe that the diagonal of this matrix should have all 1's and explain why? Since the last column can be used as the target (dependent) varaible, what do you think about the correlations between all the variables? Which variable should be the most important for prediction of 'Chance of Admit'?"
   ]
  },
  {
   "cell_type": "markdown",
   "metadata": {},
   "source": [
    "4\\. [20 pts] Classification of mushrooms, edible or poisonous. Download the *assignment01_mushroom_dataset.csv* dataset file from the module content. Load the data set in your model development framework, examine the features to se they are all nominal features. The first column is the calss which represents the mishroom is poisonous or not. Apply necessary pre-processing such as nominal to numerical conversions. make sure sanity check the pipeline the perhaps run your favorite baseline classifer first.\n",
    "\n",
    "Report the performance of your classifier."
   ]
  },
  {
   "cell_type": "code",
   "execution_count": null,
   "metadata": {},
   "outputs": [],
   "source": []
  }
 ],
 "metadata": {
  "kernelspec": {
   "display_name": "Python 3",
   "language": "python",
   "name": "python3"
  },
  "language_info": {
   "codemirror_mode": {
    "name": "ipython",
    "version": 3
   },
   "file_extension": ".py",
   "mimetype": "text/x-python",
   "name": "python",
   "nbconvert_exporter": "python",
   "pygments_lexer": "ipython3",
   "version": "3.7.3"
  }
 },
 "nbformat": 4,
 "nbformat_minor": 4
}
