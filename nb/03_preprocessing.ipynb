{
 "cells": [
  {
   "cell_type": "markdown",
   "metadata": {
    "ExecuteTime": {
     "end_time": "2020-08-06T13:06:44.230893Z",
     "start_time": "2020-08-06T13:06:44.227856Z"
    }
   },
   "source": [
    "# Preprocessing Datasets for Machine Learning\n",
    "## Introduction\n",
    "In practice, the data acquired for real world problems are often incomplete, noisy, and inconsistent. A few percentage of non-clean data points may effect the final performance by a few percentage drop. If a few steps of preprocessing were taken in the right direction, then better results would be easily achievable. A good data preprocessing is a necessary step for good machine learning performance and it is widely accepted that preprocessing takes the bulk of the overall machine learning effort.\n",
    "\n",
    "In addition to data \"cleaning\", certain algorithms require data features properties in certain ways, such as **normalized** and **standardized** to make the method work better. For example clustering approaches by distance measures require data features to be normalized. The following procedures are common steps in preprocessing:\n",
    "* Data formatting, cleaning\n",
    "* Discretization, one-hot encoding\n",
    "* Data integration and transformation\n",
    "* Data reduction\n",
    "\n",
    "## Data Formatting and Cleaning\n",
    "Machine learning frameworks, such as `pandas`, `scikit-learn`, `Weka`, expect dataset files to be in certain formats to be able to process them. The Comma Separated Values __CSV__ is one of the most common file formats. When examining datasets sometimes we see the files might contain artifacts:\n",
    "\n",
    "* single quotes in double quotes, i.e. `\"Cote d'Azor\"` or reversed? e.g. `'Cote d'Azor'`\n",
    "* single quotes to differentiate between strings and values. i.e. `'1'` or `1`\n",
    "* use of semicolon instead of commas e.g. `1;50;red;` in a row\n",
    "\n",
    "In addition to the data formats artifacts, we might also see:\n",
    "\n",
    "* duplicates of data lines (why is this undesired?)\n",
    "* missing values (marked as `'?'` in Weka or `'NaN'` in pandas for numerical variables)\n",
    "* incorrect entries (e.g. clerical errors)\n",
    "\n",
    "Note that framework programs such as Weka learners are mature and strong enough to work with these problems without us cleaning them with a preprocessing stage. However, if we do the preprocessing ourselves, then we always increase the **quality of the dataset** and this helps the next stages of machine learning pipeline.\n",
    "\n",
    "---"
   ]
  },
  {
   "cell_type": "markdown",
   "metadata": {},
   "source": [
    "## Worked Example\n",
    "Consider the breast cancer dataset file located at the module page, named module03_breast_cancer.csv. Load it with pandas library and check for (1.) duplicates, (2.) missing values, (3.) incorrect entries. In the following cells, for each problem that the dataset has, a correction is provided once the situation is determined."
   ]
  },
  {
   "cell_type": "code",
   "execution_count": 1,
   "metadata": {
    "ExecuteTime": {
     "end_time": "2020-08-12T21:45:23.543222Z",
     "start_time": "2020-08-12T21:45:22.801848Z"
    },
    "execution": {
     "iopub.execute_input": "2020-08-17T20:40:59.199330Z",
     "iopub.status.busy": "2020-08-17T20:40:59.199128Z",
     "iopub.status.idle": "2020-08-17T20:40:59.855011Z",
     "shell.execute_reply": "2020-08-17T20:40:59.854405Z",
     "shell.execute_reply.started": "2020-08-17T20:40:59.199309Z"
    }
   },
   "outputs": [
    {
     "name": "stdout",
     "output_type": "stream",
     "text": [
      "#rows=298 #columns=10\n",
      "age            float64\n",
      "menopause       object\n",
      "tumor-size     float64\n",
      "inv-nodes      float64\n",
      "node-caps       object\n",
      "deg-malig        int64\n",
      "breast          object\n",
      "breast-quad     object\n",
      "irradiat        object\n",
      "recurrence      object\n",
      "dtype: object\n"
     ]
    }
   ],
   "source": [
    "# Standard libraries we always include\n",
    "%matplotlib inline\n",
    "import matplotlib.pyplot as plt\n",
    "import numpy as np\n",
    "import pandas as pd\n",
    "import seaborn as sns; sns.set(style=\"ticks\", color_codes=True)\n",
    "\n",
    "# Locate and load the data file\n",
    "df = pd.read_csv('datasets/module03_breast_cancer.csv')\n",
    "print(f'#rows={len(df)} #columns={len(df.columns)}')\n",
    "\n",
    "# Print some info and plots to have a feeling about the dataset\n",
    "print(df.dtypes)"
   ]
  },
  {
   "cell_type": "code",
   "execution_count": 2,
   "metadata": {
    "ExecuteTime": {
     "end_time": "2020-08-12T21:45:23.558031Z",
     "start_time": "2020-08-12T21:45:23.544787Z"
    },
    "execution": {
     "iopub.execute_input": "2020-08-17T20:40:59.856333Z",
     "iopub.status.busy": "2020-08-17T20:40:59.856009Z",
     "iopub.status.idle": "2020-08-17T20:40:59.873765Z",
     "shell.execute_reply": "2020-08-17T20:40:59.873241Z",
     "shell.execute_reply.started": "2020-08-17T20:40:59.856265Z"
    }
   },
   "outputs": [
    {
     "data": {
      "text/html": [
       "<div>\n",
       "<style scoped>\n",
       "    .dataframe tbody tr th:only-of-type {\n",
       "        vertical-align: middle;\n",
       "    }\n",
       "\n",
       "    .dataframe tbody tr th {\n",
       "        vertical-align: top;\n",
       "    }\n",
       "\n",
       "    .dataframe thead th {\n",
       "        text-align: right;\n",
       "    }\n",
       "</style>\n",
       "<table border=\"1\" class=\"dataframe\">\n",
       "  <thead>\n",
       "    <tr style=\"text-align: right;\">\n",
       "      <th></th>\n",
       "      <th>age</th>\n",
       "      <th>menopause</th>\n",
       "      <th>tumor-size</th>\n",
       "      <th>inv-nodes</th>\n",
       "      <th>node-caps</th>\n",
       "      <th>deg-malig</th>\n",
       "      <th>breast</th>\n",
       "      <th>breast-quad</th>\n",
       "      <th>irradiat</th>\n",
       "      <th>recurrence</th>\n",
       "    </tr>\n",
       "  </thead>\n",
       "  <tbody>\n",
       "    <tr>\n",
       "      <th>0</th>\n",
       "      <td>44.0</td>\n",
       "      <td>premeno</td>\n",
       "      <td>21.0</td>\n",
       "      <td>2.0</td>\n",
       "      <td>no</td>\n",
       "      <td>2</td>\n",
       "      <td>right</td>\n",
       "      <td>left_up</td>\n",
       "      <td>no</td>\n",
       "      <td>no-recurrence-events</td>\n",
       "    </tr>\n",
       "    <tr>\n",
       "      <th>1</th>\n",
       "      <td>46.0</td>\n",
       "      <td>premeno</td>\n",
       "      <td>22.0</td>\n",
       "      <td>3.0</td>\n",
       "      <td>yes</td>\n",
       "      <td>3</td>\n",
       "      <td>right</td>\n",
       "      <td>left_up</td>\n",
       "      <td>no</td>\n",
       "      <td>recurrence-events</td>\n",
       "    </tr>\n",
       "    <tr>\n",
       "      <th>2</th>\n",
       "      <td>46.0</td>\n",
       "      <td>premeno</td>\n",
       "      <td>22.0</td>\n",
       "      <td>3.0</td>\n",
       "      <td>yes</td>\n",
       "      <td>3</td>\n",
       "      <td>right</td>\n",
       "      <td>left_up</td>\n",
       "      <td>no</td>\n",
       "      <td>recurrence-events</td>\n",
       "    </tr>\n",
       "    <tr>\n",
       "      <th>3</th>\n",
       "      <td>46.0</td>\n",
       "      <td>premeno</td>\n",
       "      <td>22.0</td>\n",
       "      <td>3.0</td>\n",
       "      <td>yes</td>\n",
       "      <td>3</td>\n",
       "      <td>right</td>\n",
       "      <td>left_up</td>\n",
       "      <td>no</td>\n",
       "      <td>recurrence-events</td>\n",
       "    </tr>\n",
       "    <tr>\n",
       "      <th>4</th>\n",
       "      <td>46.0</td>\n",
       "      <td>premeno</td>\n",
       "      <td>22.0</td>\n",
       "      <td>3.0</td>\n",
       "      <td>yes</td>\n",
       "      <td>3</td>\n",
       "      <td>right</td>\n",
       "      <td>left_up</td>\n",
       "      <td>no</td>\n",
       "      <td>recurrence-events</td>\n",
       "    </tr>\n",
       "  </tbody>\n",
       "</table>\n",
       "</div>"
      ],
      "text/plain": [
       "    age menopause  tumor-size  inv-nodes node-caps  deg-malig breast  \\\n",
       "0  44.0   premeno        21.0        2.0        no          2  right   \n",
       "1  46.0   premeno        22.0        3.0       yes          3  right   \n",
       "2  46.0   premeno        22.0        3.0       yes          3  right   \n",
       "3  46.0   premeno        22.0        3.0       yes          3  right   \n",
       "4  46.0   premeno        22.0        3.0       yes          3  right   \n",
       "\n",
       "  breast-quad irradiat            recurrence  \n",
       "0     left_up       no  no-recurrence-events  \n",
       "1     left_up       no     recurrence-events  \n",
       "2     left_up       no     recurrence-events  \n",
       "3     left_up       no     recurrence-events  \n",
       "4     left_up       no     recurrence-events  "
      ]
     },
     "execution_count": 2,
     "metadata": {},
     "output_type": "execute_result"
    }
   ],
   "source": [
    "df.head()"
   ]
  },
  {
   "cell_type": "code",
   "execution_count": 3,
   "metadata": {
    "ExecuteTime": {
     "end_time": "2020-08-12T21:45:24.051532Z",
     "start_time": "2020-08-12T21:45:23.560471Z"
    },
    "execution": {
     "iopub.execute_input": "2020-08-17T20:40:59.875490Z",
     "iopub.status.busy": "2020-08-17T20:40:59.875313Z",
     "iopub.status.idle": "2020-08-17T20:41:00.357365Z",
     "shell.execute_reply": "2020-08-17T20:41:00.356898Z",
     "shell.execute_reply.started": "2020-08-17T20:40:59.875470Z"
    }
   },
   "outputs": [
    {
     "data": {
      "image/png": "[encoded data removed]",
      "text/plain": [
       "<Figure size 792.6x216 with 3 Axes>"
      ]
     },
     "metadata": {},
     "output_type": "display_data"
    }
   ],
   "source": [
    "def plot_bc(_df):  # Make sure use a '_variable' name to avoid shadowing variables in other cells\n",
    "    g = sns.FacetGrid(_df, col='deg-malig', hue='recurrence')\n",
    "    g.map(plt.scatter, 'age', 'tumor-size', alpha=.7)\n",
    "    g.add_legend()\n",
    "    plt.show()\n",
    "#\n",
    "plot_bc(df)"
   ]
  },
  {
   "cell_type": "markdown",
   "metadata": {
    "ExecuteTime": {
     "end_time": "2020-08-06T13:35:51.001017Z",
     "start_time": "2020-08-06T13:35:50.996784Z"
    }
   },
   "source": [
    "**Observe:** In the second plot what is that data point at age 250?? ...Hmmm."
   ]
  },
  {
   "cell_type": "markdown",
   "metadata": {},
   "source": [
    "## Duplicates\n",
    "\n",
    "Let's check duplicate values in our dataset."
   ]
  },
  {
   "cell_type": "code",
   "execution_count": 4,
   "metadata": {
    "ExecuteTime": {
     "end_time": "2020-08-12T21:45:24.062288Z",
     "start_time": "2020-08-12T21:45:24.053592Z"
    },
    "execution": {
     "iopub.execute_input": "2020-08-17T20:41:00.358735Z",
     "iopub.status.busy": "2020-08-17T20:41:00.358583Z",
     "iopub.status.idle": "2020-08-17T20:41:00.368401Z",
     "shell.execute_reply": "2020-08-17T20:41:00.367737Z",
     "shell.execute_reply.started": "2020-08-17T20:41:00.358718Z"
    }
   },
   "outputs": [
    {
     "name": "stdout",
     "output_type": "stream",
     "text": [
      "#total= 298\n",
      "#duplicated= 5\n"
     ]
    }
   ],
   "source": [
    "# Check for duplicates, this adds a new column to the dataset\n",
    "df[\"is_duplicate\"]= df.duplicated()\n",
    "\n",
    "# Note that when using f-strings, the internal quote character must be different, such as 'is_duplicate' above\n",
    "print(f\"#total= {len(df)}\")\n",
    "print(f\"#duplicated= {len(df[df['is_duplicate']==True])}\")"
   ]
  },
  {
   "cell_type": "code",
   "execution_count": 5,
   "metadata": {
    "ExecuteTime": {
     "end_time": "2020-08-12T21:45:24.076313Z",
     "start_time": "2020-08-12T21:45:24.063727Z"
    },
    "execution": {
     "iopub.execute_input": "2020-08-17T20:41:00.369597Z",
     "iopub.status.busy": "2020-08-17T20:41:00.369399Z",
     "iopub.status.idle": "2020-08-17T20:41:00.382570Z",
     "shell.execute_reply": "2020-08-17T20:41:00.382012Z",
     "shell.execute_reply.started": "2020-08-17T20:41:00.369577Z"
    }
   },
   "outputs": [
    {
     "data": {
      "text/html": [
       "<div>\n",
       "<style scoped>\n",
       "    .dataframe tbody tr th:only-of-type {\n",
       "        vertical-align: middle;\n",
       "    }\n",
       "\n",
       "    .dataframe tbody tr th {\n",
       "        vertical-align: top;\n",
       "    }\n",
       "\n",
       "    .dataframe thead th {\n",
       "        text-align: right;\n",
       "    }\n",
       "</style>\n",
       "<table border=\"1\" class=\"dataframe\">\n",
       "  <thead>\n",
       "    <tr style=\"text-align: right;\">\n",
       "      <th></th>\n",
       "      <th>age</th>\n",
       "      <th>menopause</th>\n",
       "      <th>tumor-size</th>\n",
       "      <th>inv-nodes</th>\n",
       "      <th>node-caps</th>\n",
       "      <th>deg-malig</th>\n",
       "      <th>breast</th>\n",
       "      <th>breast-quad</th>\n",
       "      <th>irradiat</th>\n",
       "      <th>recurrence</th>\n",
       "      <th>is_duplicate</th>\n",
       "    </tr>\n",
       "  </thead>\n",
       "  <tbody>\n",
       "    <tr>\n",
       "      <th>2</th>\n",
       "      <td>46.0</td>\n",
       "      <td>premeno</td>\n",
       "      <td>22.0</td>\n",
       "      <td>3.0</td>\n",
       "      <td>yes</td>\n",
       "      <td>3</td>\n",
       "      <td>right</td>\n",
       "      <td>left_up</td>\n",
       "      <td>no</td>\n",
       "      <td>recurrence-events</td>\n",
       "      <td>True</td>\n",
       "    </tr>\n",
       "    <tr>\n",
       "      <th>3</th>\n",
       "      <td>46.0</td>\n",
       "      <td>premeno</td>\n",
       "      <td>22.0</td>\n",
       "      <td>3.0</td>\n",
       "      <td>yes</td>\n",
       "      <td>3</td>\n",
       "      <td>right</td>\n",
       "      <td>left_up</td>\n",
       "      <td>no</td>\n",
       "      <td>recurrence-events</td>\n",
       "      <td>True</td>\n",
       "    </tr>\n",
       "    <tr>\n",
       "      <th>4</th>\n",
       "      <td>46.0</td>\n",
       "      <td>premeno</td>\n",
       "      <td>22.0</td>\n",
       "      <td>3.0</td>\n",
       "      <td>yes</td>\n",
       "      <td>3</td>\n",
       "      <td>right</td>\n",
       "      <td>left_up</td>\n",
       "      <td>no</td>\n",
       "      <td>recurrence-events</td>\n",
       "      <td>True</td>\n",
       "    </tr>\n",
       "    <tr>\n",
       "      <th>12</th>\n",
       "      <td>61.0</td>\n",
       "      <td>premeno</td>\n",
       "      <td>29.0</td>\n",
       "      <td>5.0</td>\n",
       "      <td>no</td>\n",
       "      <td>2</td>\n",
       "      <td>right</td>\n",
       "      <td>left_up</td>\n",
       "      <td>yes</td>\n",
       "      <td>no-recurrence-events</td>\n",
       "      <td>True</td>\n",
       "    </tr>\n",
       "    <tr>\n",
       "      <th>13</th>\n",
       "      <td>61.0</td>\n",
       "      <td>premeno</td>\n",
       "      <td>29.0</td>\n",
       "      <td>5.0</td>\n",
       "      <td>no</td>\n",
       "      <td>2</td>\n",
       "      <td>right</td>\n",
       "      <td>left_up</td>\n",
       "      <td>yes</td>\n",
       "      <td>no-recurrence-events</td>\n",
       "      <td>True</td>\n",
       "    </tr>\n",
       "  </tbody>\n",
       "</table>\n",
       "</div>"
      ],
      "text/plain": [
       "     age menopause  tumor-size  inv-nodes node-caps  deg-malig breast  \\\n",
       "2   46.0   premeno        22.0        3.0       yes          3  right   \n",
       "3   46.0   premeno        22.0        3.0       yes          3  right   \n",
       "4   46.0   premeno        22.0        3.0       yes          3  right   \n",
       "12  61.0   premeno        29.0        5.0        no          2  right   \n",
       "13  61.0   premeno        29.0        5.0        no          2  right   \n",
       "\n",
       "   breast-quad irradiat            recurrence  is_duplicate  \n",
       "2      left_up       no     recurrence-events          True  \n",
       "3      left_up       no     recurrence-events          True  \n",
       "4      left_up       no     recurrence-events          True  \n",
       "12     left_up      yes  no-recurrence-events          True  \n",
       "13     left_up      yes  no-recurrence-events          True  "
      ]
     },
     "execution_count": 5,
     "metadata": {},
     "output_type": "execute_result"
    }
   ],
   "source": [
    "# Print rows which have True in column 'is_duplicate'\n",
    "df[df['is_duplicate']==True]"
   ]
  },
  {
   "cell_type": "code",
   "execution_count": 6,
   "metadata": {
    "ExecuteTime": {
     "end_time": "2020-08-12T21:45:24.082988Z",
     "start_time": "2020-08-12T21:45:24.077656Z"
    },
    "execution": {
     "iopub.execute_input": "2020-08-17T20:41:00.383690Z",
     "iopub.status.busy": "2020-08-17T20:41:00.383510Z",
     "iopub.status.idle": "2020-08-17T20:41:00.390154Z",
     "shell.execute_reply": "2020-08-17T20:41:00.389505Z",
     "shell.execute_reply.started": "2020-08-17T20:41:00.383668Z"
    }
   },
   "outputs": [
    {
     "name": "stdout",
     "output_type": "stream",
     "text": [
      "#total= 293\n"
     ]
    }
   ],
   "source": [
    "# Drop the duplicate rows using index - best way to drop in pandas\n",
    "index_to_drop = df[df['is_duplicate']==True].index\n",
    "df.drop(index_to_drop, inplace=True)\n",
    "\n",
    "# Remove the duplicate marker column\n",
    "df.drop(columns='is_duplicate', inplace=True)\n",
    "print(f'#total= {len(df)}')"
   ]
  },
  {
   "cell_type": "markdown",
   "metadata": {},
   "source": [
    "**Observe:** Total number of rows (data points) reduced to 293"
   ]
  },
  {
   "cell_type": "markdown",
   "metadata": {},
   "source": [
    "## Missing values"
   ]
  },
  {
   "cell_type": "markdown",
   "metadata": {},
   "source": [
    "Let's impute missing values. If we do not handle missing values, then most of the times the ML algorithms will handle them internally.\n",
    "\n",
    "The safest and most common approach: Use __mean__ (or equally acceptable __median__) for numerical values; and __mode__ for nominal values to __impute__ missing values.\n",
    "\n",
    "Mean: $\\bar{x}=\\frac{1}{N} \\sum_{i=1}^{N} x_{i}$  \n",
    "Median: $\\tilde{x}=\\frac{x[|x| / 2]+x[|x| / 2+1]}{2}$  \n",
    "Mode: $\\hat{x}=\\underset{x}{\\operatorname{argmax}} f(x)$"
   ]
  },
  {
   "cell_type": "code",
   "execution_count": 7,
   "metadata": {
    "ExecuteTime": {
     "end_time": "2020-08-12T21:45:24.089337Z",
     "start_time": "2020-08-12T21:45:24.084353Z"
    },
    "execution": {
     "iopub.execute_input": "2020-08-17T20:41:00.391654Z",
     "iopub.status.busy": "2020-08-17T20:41:00.391284Z",
     "iopub.status.idle": "2020-08-17T20:41:00.397469Z",
     "shell.execute_reply": "2020-08-17T20:41:00.396837Z",
     "shell.execute_reply.started": "2020-08-17T20:41:00.391631Z"
    }
   },
   "outputs": [
    {
     "data": {
      "text/plain": [
       "age             True\n",
       "menopause      False\n",
       "tumor-size      True\n",
       "inv-nodes       True\n",
       "node-caps      False\n",
       "deg-malig      False\n",
       "breast         False\n",
       "breast-quad    False\n",
       "irradiat       False\n",
       "recurrence     False\n",
       "dtype: bool"
      ]
     },
     "execution_count": 7,
     "metadata": {},
     "output_type": "execute_result"
    }
   ],
   "source": [
    "# Do we have NaN in our dataset?\n",
    "df.isnull().any()"
   ]
  },
  {
   "cell_type": "code",
   "execution_count": 8,
   "metadata": {
    "ExecuteTime": {
     "end_time": "2020-08-12T21:45:24.119091Z",
     "start_time": "2020-08-12T21:45:24.092248Z"
    },
    "execution": {
     "iopub.execute_input": "2020-08-17T20:41:00.400526Z",
     "iopub.status.busy": "2020-08-17T20:41:00.400310Z",
     "iopub.status.idle": "2020-08-17T20:41:00.428795Z",
     "shell.execute_reply": "2020-08-17T20:41:00.428213Z",
     "shell.execute_reply.started": "2020-08-17T20:41:00.400504Z"
    }
   },
   "outputs": [
    {
     "data": {
      "text/html": [
       "<div>\n",
       "<style scoped>\n",
       "    .dataframe tbody tr th:only-of-type {\n",
       "        vertical-align: middle;\n",
       "    }\n",
       "\n",
       "    .dataframe tbody tr th {\n",
       "        vertical-align: top;\n",
       "    }\n",
       "\n",
       "    .dataframe thead th {\n",
       "        text-align: right;\n",
       "    }\n",
       "</style>\n",
       "<table border=\"1\" class=\"dataframe\">\n",
       "  <thead>\n",
       "    <tr style=\"text-align: right;\">\n",
       "      <th></th>\n",
       "      <th>age</th>\n",
       "      <th>menopause</th>\n",
       "      <th>tumor-size</th>\n",
       "      <th>inv-nodes</th>\n",
       "      <th>node-caps</th>\n",
       "      <th>deg-malig</th>\n",
       "      <th>breast</th>\n",
       "      <th>breast-quad</th>\n",
       "      <th>irradiat</th>\n",
       "      <th>recurrence</th>\n",
       "    </tr>\n",
       "  </thead>\n",
       "  <tbody>\n",
       "    <tr>\n",
       "      <th>25</th>\n",
       "      <td>NaN</td>\n",
       "      <td>ge40</td>\n",
       "      <td>34.0</td>\n",
       "      <td>1.0</td>\n",
       "      <td>no</td>\n",
       "      <td>1</td>\n",
       "      <td>right</td>\n",
       "      <td>central</td>\n",
       "      <td>no</td>\n",
       "      <td>no-recurrence-events</td>\n",
       "    </tr>\n",
       "    <tr>\n",
       "      <th>26</th>\n",
       "      <td>NaN</td>\n",
       "      <td>ge40</td>\n",
       "      <td>28.0</td>\n",
       "      <td>1.0</td>\n",
       "      <td>no</td>\n",
       "      <td>2</td>\n",
       "      <td>right</td>\n",
       "      <td>left_up</td>\n",
       "      <td>no</td>\n",
       "      <td>no-recurrence-events</td>\n",
       "    </tr>\n",
       "  </tbody>\n",
       "</table>\n",
       "</div>"
      ],
      "text/plain": [
       "    age menopause  tumor-size  inv-nodes node-caps  deg-malig breast  \\\n",
       "25  NaN      ge40        34.0        1.0        no          1  right   \n",
       "26  NaN      ge40        28.0        1.0        no          2  right   \n",
       "\n",
       "   breast-quad irradiat            recurrence  \n",
       "25     central       no  no-recurrence-events  \n",
       "26     left_up       no  no-recurrence-events  "
      ]
     },
     "metadata": {},
     "output_type": "display_data"
    },
    {
     "data": {
      "text/html": [
       "<div>\n",
       "<style scoped>\n",
       "    .dataframe tbody tr th:only-of-type {\n",
       "        vertical-align: middle;\n",
       "    }\n",
       "\n",
       "    .dataframe tbody tr th {\n",
       "        vertical-align: top;\n",
       "    }\n",
       "\n",
       "    .dataframe thead th {\n",
       "        text-align: right;\n",
       "    }\n",
       "</style>\n",
       "<table border=\"1\" class=\"dataframe\">\n",
       "  <thead>\n",
       "    <tr style=\"text-align: right;\">\n",
       "      <th></th>\n",
       "      <th>age</th>\n",
       "      <th>menopause</th>\n",
       "      <th>tumor-size</th>\n",
       "      <th>inv-nodes</th>\n",
       "      <th>node-caps</th>\n",
       "      <th>deg-malig</th>\n",
       "      <th>breast</th>\n",
       "      <th>breast-quad</th>\n",
       "      <th>irradiat</th>\n",
       "      <th>recurrence</th>\n",
       "    </tr>\n",
       "  </thead>\n",
       "  <tbody>\n",
       "    <tr>\n",
       "      <th>27</th>\n",
       "      <td>52.0</td>\n",
       "      <td>premeno</td>\n",
       "      <td>NaN</td>\n",
       "      <td>3.0</td>\n",
       "      <td>no</td>\n",
       "      <td>2</td>\n",
       "      <td>left</td>\n",
       "      <td>left_low</td>\n",
       "      <td>yes</td>\n",
       "      <td>recurrence-events</td>\n",
       "    </tr>\n",
       "    <tr>\n",
       "      <th>28</th>\n",
       "      <td>37.0</td>\n",
       "      <td>premeno</td>\n",
       "      <td>NaN</td>\n",
       "      <td>2.0</td>\n",
       "      <td>no</td>\n",
       "      <td>3</td>\n",
       "      <td>left</td>\n",
       "      <td>central</td>\n",
       "      <td>no</td>\n",
       "      <td>no-recurrence-events</td>\n",
       "    </tr>\n",
       "  </tbody>\n",
       "</table>\n",
       "</div>"
      ],
      "text/plain": [
       "     age menopause  tumor-size  inv-nodes node-caps  deg-malig breast  \\\n",
       "27  52.0   premeno         NaN        3.0        no          2   left   \n",
       "28  37.0   premeno         NaN        2.0        no          3   left   \n",
       "\n",
       "   breast-quad irradiat            recurrence  \n",
       "27    left_low      yes     recurrence-events  \n",
       "28     central       no  no-recurrence-events  "
      ]
     },
     "metadata": {},
     "output_type": "display_data"
    },
    {
     "data": {
      "text/html": [
       "<div>\n",
       "<style scoped>\n",
       "    .dataframe tbody tr th:only-of-type {\n",
       "        vertical-align: middle;\n",
       "    }\n",
       "\n",
       "    .dataframe tbody tr th {\n",
       "        vertical-align: top;\n",
       "    }\n",
       "\n",
       "    .dataframe thead th {\n",
       "        text-align: right;\n",
       "    }\n",
       "</style>\n",
       "<table border=\"1\" class=\"dataframe\">\n",
       "  <thead>\n",
       "    <tr style=\"text-align: right;\">\n",
       "      <th></th>\n",
       "      <th>age</th>\n",
       "      <th>menopause</th>\n",
       "      <th>tumor-size</th>\n",
       "      <th>inv-nodes</th>\n",
       "      <th>node-caps</th>\n",
       "      <th>deg-malig</th>\n",
       "      <th>breast</th>\n",
       "      <th>breast-quad</th>\n",
       "      <th>irradiat</th>\n",
       "      <th>recurrence</th>\n",
       "    </tr>\n",
       "  </thead>\n",
       "  <tbody>\n",
       "    <tr>\n",
       "      <th>29</th>\n",
       "      <td>62.0</td>\n",
       "      <td>premeno</td>\n",
       "      <td>10.0</td>\n",
       "      <td>NaN</td>\n",
       "      <td>no</td>\n",
       "      <td>1</td>\n",
       "      <td>right</td>\n",
       "      <td>left_up</td>\n",
       "      <td>no</td>\n",
       "      <td>no-recurrence-events</td>\n",
       "    </tr>\n",
       "  </tbody>\n",
       "</table>\n",
       "</div>"
      ],
      "text/plain": [
       "     age menopause  tumor-size  inv-nodes node-caps  deg-malig breast  \\\n",
       "29  62.0   premeno        10.0        NaN        no          1  right   \n",
       "\n",
       "   breast-quad irradiat            recurrence  \n",
       "29     left_up       no  no-recurrence-events  "
      ]
     },
     "metadata": {},
     "output_type": "display_data"
    }
   ],
   "source": [
    "# We do have NaN - three numerical variables - check first cell, it says float 64\n",
    "display(df[df['age'].isnull()])\n",
    "display(df[df['tumor-size'].isnull()])\n",
    "display(df[df['inv-nodes'].isnull()])"
   ]
  },
  {
   "cell_type": "code",
   "execution_count": 9,
   "metadata": {
    "ExecuteTime": {
     "end_time": "2020-08-12T21:45:24.136773Z",
     "start_time": "2020-08-12T21:45:24.121665Z"
    },
    "execution": {
     "iopub.execute_input": "2020-08-17T20:41:00.431255Z",
     "iopub.status.busy": "2020-08-17T20:41:00.431052Z",
     "iopub.status.idle": "2020-08-17T20:41:00.448212Z",
     "shell.execute_reply": "2020-08-17T20:41:00.447602Z",
     "shell.execute_reply.started": "2020-08-17T20:41:00.431233Z"
    }
   },
   "outputs": [
    {
     "name": "stdout",
     "output_type": "stream",
     "text": [
      "mean-age= 56.261168384879724\n",
      "mean-tumor-size= 28.343642611683848\n",
      "mean-inv-nodes= 3.5753424657534247\n"
     ]
    },
    {
     "data": {
      "text/html": [
       "<div>\n",
       "<style scoped>\n",
       "    .dataframe tbody tr th:only-of-type {\n",
       "        vertical-align: middle;\n",
       "    }\n",
       "\n",
       "    .dataframe tbody tr th {\n",
       "        vertical-align: top;\n",
       "    }\n",
       "\n",
       "    .dataframe thead th {\n",
       "        text-align: right;\n",
       "    }\n",
       "</style>\n",
       "<table border=\"1\" class=\"dataframe\">\n",
       "  <thead>\n",
       "    <tr style=\"text-align: right;\">\n",
       "      <th></th>\n",
       "      <th>age</th>\n",
       "      <th>menopause</th>\n",
       "      <th>tumor-size</th>\n",
       "      <th>inv-nodes</th>\n",
       "      <th>node-caps</th>\n",
       "      <th>deg-malig</th>\n",
       "      <th>breast</th>\n",
       "      <th>breast-quad</th>\n",
       "      <th>irradiat</th>\n",
       "      <th>recurrence</th>\n",
       "    </tr>\n",
       "  </thead>\n",
       "  <tbody>\n",
       "    <tr>\n",
       "      <th>24</th>\n",
       "      <td>62.000000</td>\n",
       "      <td>premeno</td>\n",
       "      <td>10.000000</td>\n",
       "      <td>6.0</td>\n",
       "      <td>no</td>\n",
       "      <td>1</td>\n",
       "      <td>right</td>\n",
       "      <td>left_up</td>\n",
       "      <td>no</td>\n",
       "      <td>no-recurrence-events</td>\n",
       "    </tr>\n",
       "    <tr>\n",
       "      <th>25</th>\n",
       "      <td>56.261168</td>\n",
       "      <td>ge40</td>\n",
       "      <td>34.000000</td>\n",
       "      <td>1.0</td>\n",
       "      <td>no</td>\n",
       "      <td>1</td>\n",
       "      <td>right</td>\n",
       "      <td>central</td>\n",
       "      <td>no</td>\n",
       "      <td>no-recurrence-events</td>\n",
       "    </tr>\n",
       "    <tr>\n",
       "      <th>26</th>\n",
       "      <td>56.261168</td>\n",
       "      <td>ge40</td>\n",
       "      <td>28.000000</td>\n",
       "      <td>1.0</td>\n",
       "      <td>no</td>\n",
       "      <td>2</td>\n",
       "      <td>right</td>\n",
       "      <td>left_up</td>\n",
       "      <td>no</td>\n",
       "      <td>no-recurrence-events</td>\n",
       "    </tr>\n",
       "    <tr>\n",
       "      <th>27</th>\n",
       "      <td>52.000000</td>\n",
       "      <td>premeno</td>\n",
       "      <td>28.343643</td>\n",
       "      <td>3.0</td>\n",
       "      <td>no</td>\n",
       "      <td>2</td>\n",
       "      <td>left</td>\n",
       "      <td>left_low</td>\n",
       "      <td>yes</td>\n",
       "      <td>recurrence-events</td>\n",
       "    </tr>\n",
       "    <tr>\n",
       "      <th>28</th>\n",
       "      <td>37.000000</td>\n",
       "      <td>premeno</td>\n",
       "      <td>28.343643</td>\n",
       "      <td>2.0</td>\n",
       "      <td>no</td>\n",
       "      <td>3</td>\n",
       "      <td>left</td>\n",
       "      <td>central</td>\n",
       "      <td>no</td>\n",
       "      <td>no-recurrence-events</td>\n",
       "    </tr>\n",
       "  </tbody>\n",
       "</table>\n",
       "</div>"
      ],
      "text/plain": [
       "          age menopause  tumor-size  inv-nodes node-caps  deg-malig breast  \\\n",
       "24  62.000000   premeno   10.000000        6.0        no          1  right   \n",
       "25  56.261168      ge40   34.000000        1.0        no          1  right   \n",
       "26  56.261168      ge40   28.000000        1.0        no          2  right   \n",
       "27  52.000000   premeno   28.343643        3.0        no          2   left   \n",
       "28  37.000000   premeno   28.343643        2.0        no          3   left   \n",
       "\n",
       "   breast-quad irradiat            recurrence  \n",
       "24     left_up       no  no-recurrence-events  \n",
       "25     central       no  no-recurrence-events  \n",
       "26     left_up       no  no-recurrence-events  \n",
       "27    left_low      yes     recurrence-events  \n",
       "28     central       no  no-recurrence-events  "
      ]
     },
     "metadata": {},
     "output_type": "display_data"
    }
   ],
   "source": [
    "# Mean values of columns\n",
    "print(f\"mean-age= {np.mean(df['age'])}\")\n",
    "print(f\"mean-tumor-size= {np.mean(df['tumor-size'])}\")\n",
    "print(f\"mean-inv-nodes= {np.mean(df['inv-nodes'])}\")\n",
    "\n",
    "# Impute\n",
    "df['age'] = df['age'].fillna(df['age'].mean())\n",
    "df['tumor-size'] = df['tumor-size'].fillna(df['tumor-size'].mean())\n",
    "df['inv-nodes'] = df['inv-nodes'].fillna(df['inv-nodes'].mean())\n",
    "\n",
    "# Check with the previous cell results\n",
    "display(df.loc[[24,25,26,27,28]])"
   ]
  },
  {
   "cell_type": "markdown",
   "metadata": {},
   "source": [
    "## Missing nominal values"
   ]
  },
  {
   "cell_type": "markdown",
   "metadata": {},
   "source": [
    "Finding missing values in nominal variables is more tricky. First let's look at the nominal variables and then see what kind of unique values these nominal variables take. i.e. this is the level of the nominal variable drawn from a finite alphabet. Unless a numerical type (int64, float64, etc) df.dtype will correspond to an object which is a np.object class after read into from a CSV file."
   ]
  },
  {
   "cell_type": "code",
   "execution_count": 10,
   "metadata": {
    "ExecuteTime": {
     "end_time": "2020-08-12T21:45:24.142339Z",
     "start_time": "2020-08-12T21:45:24.138416Z"
    },
    "execution": {
     "iopub.execute_input": "2020-08-17T20:41:00.449490Z",
     "iopub.status.busy": "2020-08-17T20:41:00.449243Z",
     "iopub.status.idle": "2020-08-17T20:41:00.453813Z",
     "shell.execute_reply": "2020-08-17T20:41:00.453248Z",
     "shell.execute_reply.started": "2020-08-17T20:41:00.449469Z"
    }
   },
   "outputs": [
    {
     "data": {
      "text/plain": [
       "age            float64\n",
       "menopause       object\n",
       "tumor-size     float64\n",
       "inv-nodes      float64\n",
       "node-caps       object\n",
       "deg-malig        int64\n",
       "breast          object\n",
       "breast-quad     object\n",
       "irradiat        object\n",
       "recurrence      object\n",
       "dtype: object"
      ]
     },
     "execution_count": 10,
     "metadata": {},
     "output_type": "execute_result"
    }
   ],
   "source": [
    "# What are the column types?\n",
    "df.dtypes"
   ]
  },
  {
   "cell_type": "code",
   "execution_count": 11,
   "metadata": {
    "ExecuteTime": {
     "end_time": "2020-08-12T21:45:24.148194Z",
     "start_time": "2020-08-12T21:45:24.143675Z"
    },
    "execution": {
     "iopub.execute_input": "2020-08-17T20:41:00.455029Z",
     "iopub.status.busy": "2020-08-17T20:41:00.454729Z",
     "iopub.status.idle": "2020-08-17T20:41:00.461100Z",
     "shell.execute_reply": "2020-08-17T20:41:00.460400Z",
     "shell.execute_reply.started": "2020-08-17T20:41:00.454994Z"
    }
   },
   "outputs": [
    {
     "name": "stdout",
     "output_type": "stream",
     "text": [
      "menopause ['premeno' 'ge40' 'lt40']\n",
      "node-caps ['no' 'yes' '?']\n",
      "breast ['right' 'left']\n",
      "breast-quad ['left_up' 'central' 'left_low' 'right_up' 'right_low' '?']\n",
      "irradiat ['no' 'yes']\n",
      "recurrence ['no-recurrence-events' 'recurrence-events']\n"
     ]
    }
   ],
   "source": [
    "# Check unique levels and see any marker is used for a missing level\n",
    "for col in df.columns:\n",
    "    if df[col].dtype == np.object:\n",
    "        print(col, df[col].unique())"
   ]
  },
  {
   "cell_type": "markdown",
   "metadata": {},
   "source": [
    "The variables node-caps and breast-quad has '?' levels which need to be imputed with values to help the preprocessing."
   ]
  },
  {
   "cell_type": "code",
   "execution_count": 12,
   "metadata": {
    "ExecuteTime": {
     "end_time": "2020-08-12T21:45:24.155549Z",
     "start_time": "2020-08-12T21:45:24.149759Z"
    },
    "execution": {
     "iopub.execute_input": "2020-08-17T20:41:00.462335Z",
     "iopub.status.busy": "2020-08-17T20:41:00.462030Z",
     "iopub.status.idle": "2020-08-17T20:41:00.469306Z",
     "shell.execute_reply": "2020-08-17T20:41:00.468587Z",
     "shell.execute_reply.started": "2020-08-17T20:41:00.462306Z"
    }
   },
   "outputs": [
    {
     "data": {
      "text/plain": [
       "no     227\n",
       "yes     56\n",
       "?       10\n",
       "Name: node-caps, dtype: int64"
      ]
     },
     "metadata": {},
     "output_type": "display_data"
    },
    {
     "name": "stdout",
     "output_type": "stream",
     "text": [
      "mode-node-caps no\n"
     ]
    }
   ],
   "source": [
    "# Check the next feature\n",
    "display(df['node-caps'].value_counts())\n",
    "print('mode-node-caps', df['node-caps'].value_counts().index[0])"
   ]
  },
  {
   "cell_type": "code",
   "execution_count": 13,
   "metadata": {
    "ExecuteTime": {
     "end_time": "2020-08-12T21:45:24.163384Z",
     "start_time": "2020-08-12T21:45:24.157310Z"
    },
    "execution": {
     "iopub.execute_input": "2020-08-17T20:41:00.470766Z",
     "iopub.status.busy": "2020-08-17T20:41:00.470473Z",
     "iopub.status.idle": "2020-08-17T20:41:00.477615Z",
     "shell.execute_reply": "2020-08-17T20:41:00.476963Z",
     "shell.execute_reply.started": "2020-08-17T20:41:00.470741Z"
    }
   },
   "outputs": [
    {
     "data": {
      "text/plain": [
       "left_low     111\n",
       "left_up       99\n",
       "right_up      33\n",
       "right_low     26\n",
       "central       23\n",
       "?              1\n",
       "Name: breast-quad, dtype: int64"
      ]
     },
     "metadata": {},
     "output_type": "display_data"
    },
    {
     "name": "stdout",
     "output_type": "stream",
     "text": [
      "mode-breast-quad left_low\n"
     ]
    }
   ],
   "source": [
    "# Check the next feature\n",
    "display(df['breast-quad'].value_counts())\n",
    "print('mode-breast-quad', df['breast-quad'].value_counts().index[0])"
   ]
  },
  {
   "cell_type": "code",
   "execution_count": 14,
   "metadata": {
    "ExecuteTime": {
     "end_time": "2020-08-12T21:45:24.168557Z",
     "start_time": "2020-08-12T21:45:24.164867Z"
    },
    "execution": {
     "iopub.execute_input": "2020-08-17T20:41:00.479378Z",
     "iopub.status.busy": "2020-08-17T20:41:00.479110Z",
     "iopub.status.idle": "2020-08-17T20:41:00.483600Z",
     "shell.execute_reply": "2020-08-17T20:41:00.483081Z",
     "shell.execute_reply.started": "2020-08-17T20:41:00.479355Z"
    }
   },
   "outputs": [],
   "source": [
    "# Replace '?' with mode - value/level with highest frequency in the feature\n",
    "df['node-caps'] = df['node-caps'].replace({'?':'no'})\n",
    "df['breast-quad'] = df['breast-quad'].replace({'?':'left_low'})"
   ]
  },
  {
   "cell_type": "code",
   "execution_count": 15,
   "metadata": {
    "ExecuteTime": {
     "end_time": "2020-08-12T21:45:24.174778Z",
     "start_time": "2020-08-12T21:45:24.169929Z"
    },
    "execution": {
     "iopub.execute_input": "2020-08-17T20:41:00.485051Z",
     "iopub.status.busy": "2020-08-17T20:41:00.484781Z",
     "iopub.status.idle": "2020-08-17T20:41:00.490900Z",
     "shell.execute_reply": "2020-08-17T20:41:00.490212Z",
     "shell.execute_reply.started": "2020-08-17T20:41:00.485024Z"
    }
   },
   "outputs": [
    {
     "name": "stdout",
     "output_type": "stream",
     "text": [
      "menopause ['premeno' 'ge40' 'lt40']\n",
      "node-caps ['no' 'yes']\n",
      "breast ['right' 'left']\n",
      "breast-quad ['left_up' 'central' 'left_low' 'right_up' 'right_low']\n",
      "irradiat ['no' 'yes']\n",
      "recurrence ['no-recurrence-events' 'recurrence-events']\n"
     ]
    }
   ],
   "source": [
    "# Again, check unique levels and see any marker is used or left out for a missing level\n",
    "for col in df.columns:\n",
    "    if df[col].dtype == np.object:\n",
    "        print (col, df[col].unique())"
   ]
  },
  {
   "cell_type": "markdown",
   "metadata": {},
   "source": [
    "## Incorrect entries\n",
    "Remember the age value `250` from previous cells?\n",
    "\n",
    "Finding out incorrect entries is more difficult than the previous steps as incorrect entries truly depend on the data column and **domain knowledge.** For this step we will look at the plots of numerical columns and figure out possible incorrect entries. Also Subject Matter Experts (SME) would help greatly in real-world projects about incorrect entries.\n",
    "\n",
    "Note that incorrect entries may not be corrected easily and sometimes the best might be to drop that data point."
   ]
  },
  {
   "cell_type": "code",
   "execution_count": 16,
   "metadata": {
    "ExecuteTime": {
     "end_time": "2020-08-12T21:45:24.493880Z",
     "start_time": "2020-08-12T21:45:24.176492Z"
    },
    "execution": {
     "iopub.execute_input": "2020-08-17T20:41:00.492214Z",
     "iopub.status.busy": "2020-08-17T20:41:00.491915Z",
     "iopub.status.idle": "2020-08-17T20:41:00.803744Z",
     "shell.execute_reply": "2020-08-17T20:41:00.803210Z",
     "shell.execute_reply.started": "2020-08-17T20:41:00.492188Z"
    }
   },
   "outputs": [
    {
     "data": {
      "image/png": "[encoded data removed]",
      "text/plain": [
       "<Figure size 1296x180 with 4 Axes>"
      ]
     },
     "metadata": {},
     "output_type": "display_data"
    }
   ],
   "source": [
    "# Let's use kernel density estimation to color the density\n",
    "from scipy.stats import gaussian_kde\n",
    "\n",
    "# We will reuse this plotting function later\n",
    "def plot_bc_numericals(_df):\n",
    "    fig, axs = plt.subplots(1, 4, figsize=(18, 2.5), sharey=True)\n",
    "    y = df['recurrence'].astype('category').cat.codes.ravel()\n",
    "    xy = np.vstack([_df['age'],y]); z = gaussian_kde(xy)(xy)\n",
    "    axs[0].scatter(_df['age'], _df['recurrence'], c=z, s=50, edgecolor=None)\n",
    "    axs[0].set_xlabel('age')\n",
    "    xy = np.vstack([_df['tumor-size'],y]); z = gaussian_kde(xy)(xy)\n",
    "    axs[1].scatter(_df['tumor-size'], _df['recurrence'], c=z, s=50, edgecolor=None)\n",
    "    axs[1].set_xlabel('tumor-size')\n",
    "    xy = np.vstack([_df['inv-nodes'],y]); z = gaussian_kde(xy)(xy)\n",
    "    axs[2].scatter(_df['inv-nodes'], _df['recurrence'], c=z, s=50, edgecolor=None)\n",
    "    axs[2].set_xlabel('inv-nodes')\n",
    "    xy = np.vstack([_df['deg-malig'],y]); z = gaussian_kde(xy)(xy)\n",
    "    axs[3].scatter(_df['deg-malig'], _df['recurrence'], c=z, s=50, edgecolor=None)\n",
    "    axs[3].set_xlabel('deg-malig')\n",
    "    fig.suptitle('Breast-cancer dataset numerical variables')\n",
    "    plt.show()\n",
    "\n",
    "plot_bc_numericals(df)"
   ]
  },
  {
   "cell_type": "code",
   "execution_count": 17,
   "metadata": {
    "ExecuteTime": {
     "end_time": "2020-08-12T21:45:24.807611Z",
     "start_time": "2020-08-12T21:45:24.495608Z"
    },
    "execution": {
     "iopub.execute_input": "2020-08-17T20:41:00.805304Z",
     "iopub.status.busy": "2020-08-17T20:41:00.804922Z",
     "iopub.status.idle": "2020-08-17T20:41:01.103632Z",
     "shell.execute_reply": "2020-08-17T20:41:01.103100Z",
     "shell.execute_reply.started": "2020-08-17T20:41:00.805285Z"
    }
   },
   "outputs": [
    {
     "data": {
      "text/html": [
       "<div>\n",
       "<style scoped>\n",
       "    .dataframe tbody tr th:only-of-type {\n",
       "        vertical-align: middle;\n",
       "    }\n",
       "\n",
       "    .dataframe tbody tr th {\n",
       "        vertical-align: top;\n",
       "    }\n",
       "\n",
       "    .dataframe thead th {\n",
       "        text-align: right;\n",
       "    }\n",
       "</style>\n",
       "<table border=\"1\" class=\"dataframe\">\n",
       "  <thead>\n",
       "    <tr style=\"text-align: right;\">\n",
       "      <th></th>\n",
       "      <th>age</th>\n",
       "      <th>menopause</th>\n",
       "      <th>tumor-size</th>\n",
       "      <th>inv-nodes</th>\n",
       "      <th>node-caps</th>\n",
       "      <th>deg-malig</th>\n",
       "      <th>breast</th>\n",
       "      <th>breast-quad</th>\n",
       "      <th>irradiat</th>\n",
       "      <th>recurrence</th>\n",
       "    </tr>\n",
       "  </thead>\n",
       "  <tbody>\n",
       "    <tr>\n",
       "      <th>10</th>\n",
       "      <td>250.0</td>\n",
       "      <td>premeno</td>\n",
       "      <td>30.0</td>\n",
       "      <td>3.0</td>\n",
       "      <td>no</td>\n",
       "      <td>2</td>\n",
       "      <td>left</td>\n",
       "      <td>right_low</td>\n",
       "      <td>yes</td>\n",
       "      <td>no-recurrence-events</td>\n",
       "    </tr>\n",
       "  </tbody>\n",
       "</table>\n",
       "</div>"
      ],
      "text/plain": [
       "      age menopause  tumor-size  inv-nodes node-caps  deg-malig breast  \\\n",
       "10  250.0   premeno        30.0        3.0        no          2   left   \n",
       "\n",
       "   breast-quad irradiat            recurrence  \n",
       "10   right_low      yes  no-recurrence-events  "
      ]
     },
     "metadata": {},
     "output_type": "display_data"
    },
    {
     "name": "stdout",
     "output_type": "stream",
     "text": [
      "#total= 291\n"
     ]
    },
    {
     "data": {
      "image/png": "[encoded data removed]",
      "text/plain": [
       "<Figure size 1296x180 with 4 Axes>"
      ]
     },
     "metadata": {},
     "output_type": "display_data"
    }
   ],
   "source": [
    "# Remove that line with the incorrect age=250 and age=-5\n",
    "display(df[df['age']==250])\n",
    "index_to_drop = df[df['age']==250].index\n",
    "df.drop(index_to_drop, inplace=True)\n",
    "index_to_drop = df[df['age']==-5].index\n",
    "df.drop(index_to_drop, inplace=True)\n",
    "\n",
    "# Check results\n",
    "print(f'#total= {len(df)}')\n",
    "plot_bc_numericals(df)"
   ]
  },
  {
   "cell_type": "code",
   "execution_count": 18,
   "metadata": {
    "ExecuteTime": {
     "end_time": "2020-08-12T21:45:24.813746Z",
     "start_time": "2020-08-12T21:45:24.810339Z"
    },
    "execution": {
     "iopub.execute_input": "2020-08-17T20:41:01.104853Z",
     "iopub.status.busy": "2020-08-17T20:41:01.104572Z",
     "iopub.status.idle": "2020-08-17T20:41:01.109500Z",
     "shell.execute_reply": "2020-08-17T20:41:01.108284Z",
     "shell.execute_reply.started": "2020-08-17T20:41:01.104805Z"
    }
   },
   "outputs": [],
   "source": [
    "# Let's reset the indices to the dataframe after dropping a few rows\n",
    "df = df.reset_index(drop=True)"
   ]
  },
  {
   "cell_type": "markdown",
   "metadata": {
    "ExecuteTime": {
     "end_time": "2020-08-06T13:45:22.855903Z",
     "start_time": "2020-08-06T13:45:22.853554Z"
    }
   },
   "source": [
    "## Cleaning complete"
   ]
  },
  {
   "cell_type": "markdown",
   "metadata": {
    "ExecuteTime": {
     "end_time": "2020-08-06T13:45:32.847206Z",
     "start_time": "2020-08-06T13:45:32.842235Z"
    }
   },
   "source": [
    "Compare the previous two cells to see the effect of removing the incorrect age entry.\n",
    "\n",
    "At this point we are ready to apply some learners such as the Random Forest classifier."
   ]
  },
  {
   "cell_type": "markdown",
   "metadata": {},
   "source": [
    "# Discretization"
   ]
  },
  {
   "cell_type": "markdown",
   "metadata": {},
   "source": [
    "Discretization is the process where a numerical variable is mapped to some levels by binning. This step is a big research/engineering area in machine learning. Recall that an example was provided in the past modules where the target (dependent) variable was discretized into three levels.\n",
    "\n",
    "For our purposes, in this step, we will do the post-discretization, and apply one hot encoding to a nominal/discretized variable. Note that the variable might be a nominal variable naturally, such as the 'breast' variable which takes values from the alphabet {'left', 'right'}.\n",
    "\n",
    "Now, we would like to continue preparing (preprocess) the dataset further to meet the requirements of the classifier that we would like to use - Random Forest classifier from scikit-learn library. This classifier works only on numerical data, thus we will convert the nominal variables into one hot encoded numerical variables, as explained in previous modules."
   ]
  },
  {
   "cell_type": "code",
   "execution_count": 19,
   "metadata": {
    "ExecuteTime": {
     "end_time": "2020-08-12T21:45:24.820261Z",
     "start_time": "2020-08-12T21:45:24.815479Z"
    },
    "execution": {
     "iopub.execute_input": "2020-08-17T20:41:01.111893Z",
     "iopub.status.busy": "2020-08-17T20:41:01.111594Z",
     "iopub.status.idle": "2020-08-17T20:41:01.120156Z",
     "shell.execute_reply": "2020-08-17T20:41:01.119514Z",
     "shell.execute_reply.started": "2020-08-17T20:41:01.111868Z"
    }
   },
   "outputs": [
    {
     "name": "stdout",
     "output_type": "stream",
     "text": [
      "menopause\n",
      "node-caps\n",
      "breast\n",
      "breast-quad\n",
      "irradiat\n",
      "recurrence\n"
     ]
    }
   ],
   "source": [
    "# pandas get_dummies function is the one-hot-encoder\n",
    "def encode_onehot(_df, f):\n",
    "    _df2 = pd.get_dummies(_df[f], prefix='', prefix_sep='').max(level=0, axis=1).add_prefix(f+' - ')\n",
    "    df3 = pd.concat([_df, _df2], axis=1)\n",
    "    df3 = df3.drop([f], axis=1)\n",
    "    return df3\n",
    "\n",
    "# Print nominal variables\n",
    "for f in list(df.columns.values):\n",
    "    if df[f].dtype == np.object:\n",
    "        print(f) "
   ]
  },
  {
   "cell_type": "markdown",
   "metadata": {},
   "source": [
    "Question: Will we one-hot-encode the variable 'recurrence'?"
   ]
  },
  {
   "cell_type": "code",
   "execution_count": 20,
   "metadata": {
    "ExecuteTime": {
     "end_time": "2020-08-12T21:45:24.834917Z",
     "start_time": "2020-08-12T21:45:24.821677Z"
    },
    "execution": {
     "iopub.execute_input": "2020-08-17T20:41:01.122111Z",
     "iopub.status.busy": "2020-08-17T20:41:01.121864Z",
     "iopub.status.idle": "2020-08-17T20:41:01.135488Z",
     "shell.execute_reply": "2020-08-17T20:41:01.134999Z",
     "shell.execute_reply.started": "2020-08-17T20:41:01.122090Z"
    }
   },
   "outputs": [
    {
     "data": {
      "text/plain": [
       "0    premeno\n",
       "1    premeno\n",
       "2       ge40\n",
       "3       ge40\n",
       "4    premeno\n",
       "5    premeno\n",
       "6    premeno\n",
       "7       ge40\n",
       "8    premeno\n",
       "9    premeno\n",
       "Name: menopause, dtype: object"
      ]
     },
     "metadata": {},
     "output_type": "display_data"
    }
   ],
   "source": [
    "# Display the original\n",
    "display(df['menopause'][:10])\n",
    "\n",
    "# Apply the onehot-encoding method\n",
    "df_o = encode_onehot(df, 'menopause')\n",
    "\n",
    "# Check the onehot-encoded version of this feature\n",
    "cols = []\n",
    "for f in list(df_o.columns.values):\n",
    "    if 'menopause' in f:\n",
    "        cols += [f]"
   ]
  },
  {
   "cell_type": "code",
   "execution_count": 21,
   "metadata": {
    "ExecuteTime": {
     "end_time": "2020-08-12T21:45:24.843027Z",
     "start_time": "2020-08-12T21:45:24.836567Z"
    },
    "execution": {
     "iopub.execute_input": "2020-08-17T20:41:01.136505Z",
     "iopub.status.busy": "2020-08-17T20:41:01.136354Z",
     "iopub.status.idle": "2020-08-17T20:41:01.144940Z",
     "shell.execute_reply": "2020-08-17T20:41:01.144222Z",
     "shell.execute_reply.started": "2020-08-17T20:41:01.136486Z"
    }
   },
   "outputs": [
    {
     "data": {
      "text/html": [
       "<div>\n",
       "<style scoped>\n",
       "    .dataframe tbody tr th:only-of-type {\n",
       "        vertical-align: middle;\n",
       "    }\n",
       "\n",
       "    .dataframe tbody tr th {\n",
       "        vertical-align: top;\n",
       "    }\n",
       "\n",
       "    .dataframe thead th {\n",
       "        text-align: right;\n",
       "    }\n",
       "</style>\n",
       "<table border=\"1\" class=\"dataframe\">\n",
       "  <thead>\n",
       "    <tr style=\"text-align: right;\">\n",
       "      <th></th>\n",
       "      <th>menopause - ge40</th>\n",
       "      <th>menopause - lt40</th>\n",
       "      <th>menopause - premeno</th>\n",
       "    </tr>\n",
       "  </thead>\n",
       "  <tbody>\n",
       "    <tr>\n",
       "      <th>0</th>\n",
       "      <td>0</td>\n",
       "      <td>0</td>\n",
       "      <td>1</td>\n",
       "    </tr>\n",
       "    <tr>\n",
       "      <th>1</th>\n",
       "      <td>0</td>\n",
       "      <td>0</td>\n",
       "      <td>1</td>\n",
       "    </tr>\n",
       "    <tr>\n",
       "      <th>2</th>\n",
       "      <td>1</td>\n",
       "      <td>0</td>\n",
       "      <td>0</td>\n",
       "    </tr>\n",
       "    <tr>\n",
       "      <th>3</th>\n",
       "      <td>1</td>\n",
       "      <td>0</td>\n",
       "      <td>0</td>\n",
       "    </tr>\n",
       "    <tr>\n",
       "      <th>4</th>\n",
       "      <td>0</td>\n",
       "      <td>0</td>\n",
       "      <td>1</td>\n",
       "    </tr>\n",
       "    <tr>\n",
       "      <th>5</th>\n",
       "      <td>0</td>\n",
       "      <td>0</td>\n",
       "      <td>1</td>\n",
       "    </tr>\n",
       "    <tr>\n",
       "      <th>6</th>\n",
       "      <td>0</td>\n",
       "      <td>0</td>\n",
       "      <td>1</td>\n",
       "    </tr>\n",
       "    <tr>\n",
       "      <th>7</th>\n",
       "      <td>1</td>\n",
       "      <td>0</td>\n",
       "      <td>0</td>\n",
       "    </tr>\n",
       "    <tr>\n",
       "      <th>8</th>\n",
       "      <td>0</td>\n",
       "      <td>0</td>\n",
       "      <td>1</td>\n",
       "    </tr>\n",
       "    <tr>\n",
       "      <th>9</th>\n",
       "      <td>0</td>\n",
       "      <td>0</td>\n",
       "      <td>1</td>\n",
       "    </tr>\n",
       "  </tbody>\n",
       "</table>\n",
       "</div>"
      ],
      "text/plain": [
       "   menopause - ge40  menopause - lt40  menopause - premeno\n",
       "0                 0                 0                    1\n",
       "1                 0                 0                    1\n",
       "2                 1                 0                    0\n",
       "3                 1                 0                    0\n",
       "4                 0                 0                    1\n",
       "5                 0                 0                    1\n",
       "6                 0                 0                    1\n",
       "7                 1                 0                    0\n",
       "8                 0                 0                    1\n",
       "9                 0                 0                    1"
      ]
     },
     "metadata": {},
     "output_type": "display_data"
    }
   ],
   "source": [
    "# Display the onehot-encoded        \n",
    "display(df_o[cols][:10])"
   ]
  },
  {
   "cell_type": "code",
   "execution_count": 22,
   "metadata": {
    "ExecuteTime": {
     "end_time": "2020-08-12T21:45:24.865699Z",
     "start_time": "2020-08-12T21:45:24.844369Z"
    },
    "execution": {
     "iopub.execute_input": "2020-08-17T20:41:01.146063Z",
     "iopub.status.busy": "2020-08-17T20:41:01.145889Z",
     "iopub.status.idle": "2020-08-17T20:41:01.169694Z",
     "shell.execute_reply": "2020-08-17T20:41:01.169178Z",
     "shell.execute_reply.started": "2020-08-17T20:41:01.146043Z"
    }
   },
   "outputs": [],
   "source": [
    "# Apply the rest of the nominal features too\n",
    "df_o = encode_onehot(df_o, 'node-caps')\n",
    "df_o = encode_onehot(df_o, 'breast')\n",
    "df_o = encode_onehot(df_o, 'breast-quad')\n",
    "df_o = encode_onehot(df_o, 'irradiat')"
   ]
  },
  {
   "cell_type": "code",
   "execution_count": 23,
   "metadata": {
    "ExecuteTime": {
     "end_time": "2020-08-12T21:45:24.873147Z",
     "start_time": "2020-08-12T21:45:24.870866Z"
    },
    "execution": {
     "iopub.execute_input": "2020-08-17T20:41:01.174926Z",
     "iopub.status.busy": "2020-08-17T20:41:01.174678Z",
     "iopub.status.idle": "2020-08-17T20:41:01.178119Z",
     "shell.execute_reply": "2020-08-17T20:41:01.177454Z",
     "shell.execute_reply.started": "2020-08-17T20:41:01.174904Z"
    }
   },
   "outputs": [
    {
     "name": "stdout",
     "output_type": "stream",
     "text": [
      "before=10, after=19\n"
     ]
    }
   ],
   "source": [
    "# Let's check how many features we have\n",
    "print(f'before={len(df.columns)}, after={len(df_o.columns)}')"
   ]
  },
  {
   "cell_type": "code",
   "execution_count": 24,
   "metadata": {
    "ExecuteTime": {
     "end_time": "2020-08-12T21:45:24.888584Z",
     "start_time": "2020-08-12T21:45:24.875697Z"
    },
    "execution": {
     "iopub.execute_input": "2020-08-17T20:41:01.180863Z",
     "iopub.status.busy": "2020-08-17T20:41:01.180663Z",
     "iopub.status.idle": "2020-08-17T20:41:01.195184Z",
     "shell.execute_reply": "2020-08-17T20:41:01.194527Z",
     "shell.execute_reply.started": "2020-08-17T20:41:01.180841Z"
    }
   },
   "outputs": [
    {
     "data": {
      "text/html": [
       "<div>\n",
       "<style scoped>\n",
       "    .dataframe tbody tr th:only-of-type {\n",
       "        vertical-align: middle;\n",
       "    }\n",
       "\n",
       "    .dataframe tbody tr th {\n",
       "        vertical-align: top;\n",
       "    }\n",
       "\n",
       "    .dataframe thead th {\n",
       "        text-align: right;\n",
       "    }\n",
       "</style>\n",
       "<table border=\"1\" class=\"dataframe\">\n",
       "  <thead>\n",
       "    <tr style=\"text-align: right;\">\n",
       "      <th></th>\n",
       "      <th>age</th>\n",
       "      <th>tumor-size</th>\n",
       "      <th>inv-nodes</th>\n",
       "      <th>deg-malig</th>\n",
       "      <th>recurrence</th>\n",
       "      <th>menopause - ge40</th>\n",
       "      <th>menopause - lt40</th>\n",
       "      <th>menopause - premeno</th>\n",
       "      <th>node-caps - no</th>\n",
       "      <th>node-caps - yes</th>\n",
       "      <th>breast - left</th>\n",
       "      <th>breast - right</th>\n",
       "      <th>breast-quad - central</th>\n",
       "      <th>breast-quad - left_low</th>\n",
       "      <th>breast-quad - left_up</th>\n",
       "      <th>breast-quad - right_low</th>\n",
       "      <th>breast-quad - right_up</th>\n",
       "      <th>irradiat - no</th>\n",
       "      <th>irradiat - yes</th>\n",
       "    </tr>\n",
       "  </thead>\n",
       "  <tbody>\n",
       "    <tr>\n",
       "      <th>0</th>\n",
       "      <td>44.0</td>\n",
       "      <td>21.0</td>\n",
       "      <td>2.0</td>\n",
       "      <td>2</td>\n",
       "      <td>no-recurrence-events</td>\n",
       "      <td>0</td>\n",
       "      <td>0</td>\n",
       "      <td>1</td>\n",
       "      <td>1</td>\n",
       "      <td>0</td>\n",
       "      <td>0</td>\n",
       "      <td>1</td>\n",
       "      <td>0</td>\n",
       "      <td>0</td>\n",
       "      <td>1</td>\n",
       "      <td>0</td>\n",
       "      <td>0</td>\n",
       "      <td>1</td>\n",
       "      <td>0</td>\n",
       "    </tr>\n",
       "    <tr>\n",
       "      <th>1</th>\n",
       "      <td>46.0</td>\n",
       "      <td>22.0</td>\n",
       "      <td>3.0</td>\n",
       "      <td>3</td>\n",
       "      <td>recurrence-events</td>\n",
       "      <td>0</td>\n",
       "      <td>0</td>\n",
       "      <td>1</td>\n",
       "      <td>0</td>\n",
       "      <td>1</td>\n",
       "      <td>0</td>\n",
       "      <td>1</td>\n",
       "      <td>0</td>\n",
       "      <td>0</td>\n",
       "      <td>1</td>\n",
       "      <td>0</td>\n",
       "      <td>0</td>\n",
       "      <td>1</td>\n",
       "      <td>0</td>\n",
       "    </tr>\n",
       "    <tr>\n",
       "      <th>2</th>\n",
       "      <td>56.0</td>\n",
       "      <td>19.0</td>\n",
       "      <td>4.0</td>\n",
       "      <td>1</td>\n",
       "      <td>no-recurrence-events</td>\n",
       "      <td>1</td>\n",
       "      <td>0</td>\n",
       "      <td>0</td>\n",
       "      <td>1</td>\n",
       "      <td>0</td>\n",
       "      <td>0</td>\n",
       "      <td>1</td>\n",
       "      <td>1</td>\n",
       "      <td>0</td>\n",
       "      <td>0</td>\n",
       "      <td>0</td>\n",
       "      <td>0</td>\n",
       "      <td>1</td>\n",
       "      <td>0</td>\n",
       "    </tr>\n",
       "    <tr>\n",
       "      <th>3</th>\n",
       "      <td>58.0</td>\n",
       "      <td>41.0</td>\n",
       "      <td>0.0</td>\n",
       "      <td>2</td>\n",
       "      <td>recurrence-events</td>\n",
       "      <td>1</td>\n",
       "      <td>0</td>\n",
       "      <td>0</td>\n",
       "      <td>1</td>\n",
       "      <td>0</td>\n",
       "      <td>1</td>\n",
       "      <td>0</td>\n",
       "      <td>0</td>\n",
       "      <td>1</td>\n",
       "      <td>0</td>\n",
       "      <td>0</td>\n",
       "      <td>0</td>\n",
       "      <td>1</td>\n",
       "      <td>0</td>\n",
       "    </tr>\n",
       "    <tr>\n",
       "      <th>4</th>\n",
       "      <td>53.0</td>\n",
       "      <td>36.0</td>\n",
       "      <td>0.0</td>\n",
       "      <td>3</td>\n",
       "      <td>no-recurrence-events</td>\n",
       "      <td>0</td>\n",
       "      <td>0</td>\n",
       "      <td>1</td>\n",
       "      <td>0</td>\n",
       "      <td>1</td>\n",
       "      <td>0</td>\n",
       "      <td>1</td>\n",
       "      <td>0</td>\n",
       "      <td>1</td>\n",
       "      <td>0</td>\n",
       "      <td>0</td>\n",
       "      <td>0</td>\n",
       "      <td>0</td>\n",
       "      <td>1</td>\n",
       "    </tr>\n",
       "  </tbody>\n",
       "</table>\n",
       "</div>"
      ],
      "text/plain": [
       "    age  tumor-size  inv-nodes  deg-malig            recurrence  \\\n",
       "0  44.0        21.0        2.0          2  no-recurrence-events   \n",
       "1  46.0        22.0        3.0          3     recurrence-events   \n",
       "2  56.0        19.0        4.0          1  no-recurrence-events   \n",
       "3  58.0        41.0        0.0          2     recurrence-events   \n",
       "4  53.0        36.0        0.0          3  no-recurrence-events   \n",
       "\n",
       "   menopause - ge40  menopause - lt40  menopause - premeno  node-caps - no  \\\n",
       "0                 0                 0                    1               1   \n",
       "1                 0                 0                    1               0   \n",
       "2                 1                 0                    0               1   \n",
       "3                 1                 0                    0               1   \n",
       "4                 0                 0                    1               0   \n",
       "\n",
       "   node-caps - yes  breast - left  breast - right  breast-quad - central  \\\n",
       "0                0              0               1                      0   \n",
       "1                1              0               1                      0   \n",
       "2                0              0               1                      1   \n",
       "3                0              1               0                      0   \n",
       "4                1              0               1                      0   \n",
       "\n",
       "   breast-quad - left_low  breast-quad - left_up  breast-quad - right_low  \\\n",
       "0                       0                      1                        0   \n",
       "1                       0                      1                        0   \n",
       "2                       0                      0                        0   \n",
       "3                       1                      0                        0   \n",
       "4                       1                      0                        0   \n",
       "\n",
       "   breast-quad - right_up  irradiat - no  irradiat - yes  \n",
       "0                       0              1               0  \n",
       "1                       0              1               0  \n",
       "2                       0              1               0  \n",
       "3                       0              1               0  \n",
       "4                       0              0               1  "
      ]
     },
     "execution_count": 24,
     "metadata": {},
     "output_type": "execute_result"
    }
   ],
   "source": [
    "df_o.head()"
   ]
  },
  {
   "cell_type": "markdown",
   "metadata": {},
   "source": [
    "Next, let's classify the preprocessed dataset using the following strategies:\n",
    "\n",
    "* 80% random test-train split\n",
    "* Leave-one-out\n",
    "* 10-fold cross validation\n",
    "* Stratified 10-fold cross validation\n",
    "\n",
    "Note that the target variable is binary, predicting when the cancer is recurred, or the cancer did not recur. Clearly this dataset has ground truth captured from the data source, or in other words, dataset is pre-labeled, or carry the ground truth. Thus we will employ **supervised learning**.\n",
    "\n",
    "**Important:** Do not forget to remove the target (predicted, dependent) variable from X. Remember the Dataframe we are working already has the target variable and we will move it to y vector."
   ]
  },
  {
   "cell_type": "code",
   "execution_count": 25,
   "metadata": {
    "ExecuteTime": {
     "end_time": "2020-08-12T21:45:24.894150Z",
     "start_time": "2020-08-12T21:45:24.890051Z"
    },
    "execution": {
     "iopub.execute_input": "2020-08-17T20:41:01.196378Z",
     "iopub.status.busy": "2020-08-17T20:41:01.196187Z",
     "iopub.status.idle": "2020-08-17T20:41:01.201838Z",
     "shell.execute_reply": "2020-08-17T20:41:01.201185Z",
     "shell.execute_reply.started": "2020-08-17T20:41:01.196356Z"
    }
   },
   "outputs": [
    {
     "data": {
      "text/plain": [
       "no-recurrence-events    205\n",
       "recurrence-events        86\n",
       "Name: recurrence, dtype: int64"
      ]
     },
     "metadata": {},
     "output_type": "display_data"
    }
   ],
   "source": [
    "# Show that the dependent variable is unbalanced\n",
    "display(df['recurrence'].value_counts())"
   ]
  },
  {
   "cell_type": "code",
   "execution_count": 26,
   "metadata": {
    "ExecuteTime": {
     "end_time": "2020-08-12T21:45:25.182507Z",
     "start_time": "2020-08-12T21:45:24.895373Z"
    },
    "execution": {
     "iopub.execute_input": "2020-08-17T20:41:01.203113Z",
     "iopub.status.busy": "2020-08-17T20:41:01.202898Z",
     "iopub.status.idle": "2020-08-17T20:41:01.419559Z",
     "shell.execute_reply": "2020-08-17T20:41:01.418943Z",
     "shell.execute_reply.started": "2020-08-17T20:41:01.203089Z"
    }
   },
   "outputs": [],
   "source": [
    "from sklearn.ensemble import RandomForestClassifier\n",
    "from sklearn.metrics import accuracy_score\n",
    "from sklearn.model_selection import KFold, StratifiedKFold, train_test_split\n",
    "\n",
    "# We will reuse the classifier function below\n",
    "def rf_train_test(_X_tr, _X_ts, _y_tr, _y_ts):\n",
    "    # Create a new random forest classifier, with working 4 parallel cores\n",
    "    rf = RandomForestClassifier(n_estimators=200, max_depth=5, random_state=None, n_jobs=4)\n",
    "    # Train on training data\n",
    "    model = rf.fit(_X_tr, _y_tr)\n",
    "    # Test on training data\n",
    "    y_pred = rf.predict(_X_ts)\n",
    "    # Return accuracy\n",
    "    return accuracy_score(_y_ts, y_pred)"
   ]
  },
  {
   "cell_type": "code",
   "execution_count": 27,
   "metadata": {
    "ExecuteTime": {
     "end_time": "2020-08-12T21:45:25.187910Z",
     "start_time": "2020-08-12T21:45:25.183859Z"
    },
    "execution": {
     "iopub.execute_input": "2020-08-17T20:41:01.420733Z",
     "iopub.status.busy": "2020-08-17T20:41:01.420455Z",
     "iopub.status.idle": "2020-08-17T20:41:01.426074Z",
     "shell.execute_reply": "2020-08-17T20:41:01.425410Z",
     "shell.execute_reply.started": "2020-08-17T20:41:01.420712Z"
    }
   },
   "outputs": [],
   "source": [
    "# Prepare the input X matrix and target y vector\n",
    "X = df_o.loc[:, df_o.columns != 'recurrence'].values\n",
    "y = df_o.loc[:, df_o.columns == 'recurrence'].values.ravel()"
   ]
  },
  {
   "cell_type": "code",
   "execution_count": 28,
   "metadata": {
    "ExecuteTime": {
     "end_time": "2020-08-12T21:45:25.191502Z",
     "start_time": "2020-08-12T21:45:25.189258Z"
    },
    "execution": {
     "iopub.execute_input": "2020-08-17T20:41:01.427278Z",
     "iopub.status.busy": "2020-08-17T20:41:01.427092Z",
     "iopub.status.idle": "2020-08-17T20:41:01.430311Z",
     "shell.execute_reply": "2020-08-17T20:41:01.429652Z",
     "shell.execute_reply.started": "2020-08-17T20:41:01.427256Z"
    }
   },
   "outputs": [
    {
     "name": "stdout",
     "output_type": "stream",
     "text": [
      "['no-recurrence-events' 'recurrence-events' 'no-recurrence-events'\n",
      " 'recurrence-events' 'no-recurrence-events' 'recurrence-events'\n",
      " 'no-recurrence-events' 'no-recurrence-events' 'no-recurrence-events'\n",
      " 'no-recurrence-events']\n"
     ]
    }
   ],
   "source": [
    "# Sanity check\n",
    "print(y[:10])"
   ]
  },
  {
   "cell_type": "code",
   "execution_count": 29,
   "metadata": {
    "ExecuteTime": {
     "end_time": "2020-08-12T21:45:25.582325Z",
     "start_time": "2020-08-12T21:45:25.192929Z"
    },
    "execution": {
     "iopub.execute_input": "2020-08-17T20:41:01.431618Z",
     "iopub.status.busy": "2020-08-17T20:41:01.431436Z",
     "iopub.status.idle": "2020-08-17T20:41:01.823262Z",
     "shell.execute_reply": "2020-08-17T20:41:01.822454Z",
     "shell.execute_reply.started": "2020-08-17T20:41:01.431597Z"
    }
   },
   "outputs": [
    {
     "data": {
      "text/plain": [
       "0.7627118644067796"
      ]
     },
     "execution_count": 29,
     "metadata": {},
     "output_type": "execute_result"
    }
   ],
   "source": [
    "# 80% split\n",
    "X_train, X_test, y_train, y_test = train_test_split(X, y, test_size=0.20, random_state=None)\n",
    "rf_train_test(X_train, X_test, y_train, y_test)"
   ]
  },
  {
   "cell_type": "markdown",
   "metadata": {},
   "source": [
    "**Question:** What will be the performance (accuracy) when we run the above cell again? Will you see any variations?"
   ]
  },
  {
   "cell_type": "code",
   "execution_count": 30,
   "metadata": {
    "ExecuteTime": {
     "end_time": "2020-08-12T21:45:29.554537Z",
     "start_time": "2020-08-12T21:45:25.584510Z"
    },
    "execution": {
     "iopub.execute_input": "2020-08-17T20:41:01.824864Z",
     "iopub.status.busy": "2020-08-17T20:41:01.824626Z",
     "iopub.status.idle": "2020-08-17T20:41:05.656781Z",
     "shell.execute_reply": "2020-08-17T20:41:05.656001Z",
     "shell.execute_reply.started": "2020-08-17T20:41:01.824836Z"
    }
   },
   "outputs": [
    {
     "name": "stdout",
     "output_type": "stream",
     "text": [
      "0.711864406779661\n",
      "0.7457627118644068\n",
      "0.7796610169491526\n",
      "0.7288135593220338\n",
      "0.7966101694915254\n",
      "0.7457627118644068\n",
      "0.7966101694915254\n",
      "0.7288135593220338\n",
      "0.6779661016949152\n",
      "0.711864406779661\n"
     ]
    }
   ],
   "source": [
    "# Run 10 times\n",
    "for i in range(10):\n",
    "    X_train, X_test, y_train, y_test = train_test_split(X, y, test_size=0.20, random_state=None)\n",
    "    print(rf_train_test(X_train, X_test, y_train, y_test))"
   ]
  },
  {
   "cell_type": "markdown",
   "metadata": {},
   "source": [
    "**Important:** As the training and testing partition changes, the performance follows respectively.\n",
    "\n"
   ]
  },
  {
   "cell_type": "markdown",
   "metadata": {
    "ExecuteTime": {
     "end_time": "2020-08-06T13:54:29.047957Z",
     "start_time": "2020-08-06T13:54:29.044381Z"
    }
   },
   "source": [
    "**Question:** How can we measure the performance so that we can be sure of reporting it right?\n",
    "\n"
   ]
  },
  {
   "cell_type": "code",
   "execution_count": 31,
   "metadata": {
    "ExecuteTime": {
     "end_time": "2020-08-12T21:46:08.251218Z",
     "start_time": "2020-08-12T21:45:29.556913Z"
    },
    "execution": {
     "iopub.execute_input": "2020-08-17T20:41:05.658209Z",
     "iopub.status.busy": "2020-08-17T20:41:05.657853Z",
     "iopub.status.idle": "2020-08-17T20:41:44.263218Z",
     "shell.execute_reply": "2020-08-17T20:41:44.262127Z",
     "shell.execute_reply.started": "2020-08-17T20:41:05.658177Z"
    }
   },
   "outputs": [
    {
     "name": "stdout",
     "output_type": "stream",
     "text": [
      "80% train-test split accuracy is 0.737 ±0.0544\n",
      "CPU times: user 25.8 s, sys: 4.98 s, total: 30.8 s\n",
      "Wall time: 38.6 s\n"
     ]
    }
   ],
   "source": [
    "%%time\n",
    "# Run 100 times and collect statistics\n",
    "accuracies = []\n",
    "for i in range(100):\n",
    "    X_train, X_test, y_train, y_test = train_test_split(X, y, test_size=0.20, random_state=None)\n",
    "    accuracies += [rf_train_test(X_train, X_test, y_train, y_test)]\n",
    "#\n",
    "print(f'80% train-test split accuracy is {np.mean(accuracies):.3f} {chr(177)}{np.std(accuracies):.4f}')"
   ]
  },
  {
   "cell_type": "markdown",
   "metadata": {},
   "source": [
    "**Note:** Leave-one-out evaluation keeps a single data point and label for test and uses all except for the test vector for training. Then, the evaluation process repeats this for each of the remaining data points, having a total number of  𝑁  accuracies.\n",
    "\n",
    "The sklearn API says train and test require a 2D X and 1D y even when there is only one data point. Below code generates the test vectors properly."
   ]
  },
  {
   "cell_type": "code",
   "execution_count": 32,
   "metadata": {
    "ExecuteTime": {
     "end_time": "2020-08-12T21:48:01.238854Z",
     "start_time": "2020-08-12T21:46:08.253744Z"
    },
    "execution": {
     "iopub.execute_input": "2020-08-17T20:41:44.264979Z",
     "iopub.status.busy": "2020-08-17T20:41:44.264668Z",
     "iopub.status.idle": "2020-08-17T20:43:36.423767Z",
     "shell.execute_reply": "2020-08-17T20:43:36.422894Z",
     "shell.execute_reply.started": "2020-08-17T20:41:44.264946Z"
    }
   },
   "outputs": [
    {
     "name": "stdout",
     "output_type": "stream",
     "text": [
      "Leave-one-out accuracy N= 291, #accuracies= 291\n",
      "Leave-one-out accuracy is 0.735 ±0.4411\n",
      "CPU times: user 1min 16s, sys: 14.6 s, total: 1min 31s\n",
      "Wall time: 1min 52s\n"
     ]
    }
   ],
   "source": [
    "%%time\n",
    "# Leave one out testing - this takes relatively longer\n",
    "N = X.shape[0]\n",
    "accuracies = []\n",
    "for i in range (0,N):\n",
    "    # Keep the 2D vector for the single test data point X\n",
    "    X_test = X[i].reshape(1, -1)\n",
    "    X_train = np.delete(np.array(X, copy=True), i, axis=0)\n",
    "    # Keep the 1D vector for the single test label y\n",
    "    y_test = [y[i]]\n",
    "    y_train = np.delete(np.array(y, copy=True), i, axis=0)\n",
    "    accuracies += [rf_train_test(X_train, X_test, y_train, y_test)]\n",
    "#\n",
    "# Sanity\n",
    "print(f'Leave-one-out accuracy N= {N}, #accuracies= {len(accuracies)}')\n",
    "# Score\n",
    "print(f'Leave-one-out accuracy is {np.mean(accuracies):.3f} {chr(177)}{np.std(accuracies):.4f}')"
   ]
  },
  {
   "cell_type": "code",
   "execution_count": 33,
   "metadata": {
    "ExecuteTime": {
     "end_time": "2020-08-12T21:48:05.127567Z",
     "start_time": "2020-08-12T21:48:01.241411Z"
    },
    "execution": {
     "iopub.execute_input": "2020-08-17T20:43:36.425385Z",
     "iopub.status.busy": "2020-08-17T20:43:36.425091Z",
     "iopub.status.idle": "2020-08-17T20:43:40.285867Z",
     "shell.execute_reply": "2020-08-17T20:43:40.285019Z",
     "shell.execute_reply.started": "2020-08-17T20:43:36.425356Z"
    }
   },
   "outputs": [
    {
     "name": "stdout",
     "output_type": "stream",
     "text": [
      "10-fold cross validation accuracy is 0.739 ±0.0682\n",
      "CPU times: user 2.74 s, sys: 534 ms, total: 3.27 s\n",
      "Wall time: 3.86 s\n"
     ]
    }
   ],
   "source": [
    "%%time\n",
    "# 10-fold cross validation\n",
    "accuracies = []\n",
    "kf = KFold(n_splits=10,shuffle=False,random_state=None)\n",
    "for train_index, test_index in kf.split(X, y):\n",
    "    acc = rf_train_test(X[train_index], X[test_index], y[train_index], y[test_index])\n",
    "    accuracies += [acc]\n",
    "#\n",
    "print(f'10-fold cross validation accuracy is {np.mean(accuracies):.3f} {chr(177)}{np.std(accuracies):.4f}')"
   ]
  },
  {
   "cell_type": "code",
   "execution_count": 34,
   "metadata": {
    "ExecuteTime": {
     "end_time": "2020-08-12T21:48:08.994895Z",
     "start_time": "2020-08-12T21:48:05.129926Z"
    },
    "execution": {
     "iopub.execute_input": "2020-08-17T20:43:40.287385Z",
     "iopub.status.busy": "2020-08-17T20:43:40.287027Z",
     "iopub.status.idle": "2020-08-17T20:43:44.117650Z",
     "shell.execute_reply": "2020-08-17T20:43:44.116865Z",
     "shell.execute_reply.started": "2020-08-17T20:43:40.287357Z"
    }
   },
   "outputs": [
    {
     "name": "stdout",
     "output_type": "stream",
     "text": [
      "Stratified 10-fold cross validation accuracy is 0.721 ±0.0505 with 100 total iterations\n",
      "CPU times: user 2.65 s, sys: 522 ms, total: 3.17 s\n",
      "Wall time: 3.83 s\n"
     ]
    }
   ],
   "source": [
    "%%time\n",
    "def eval_classifier(X, y, niter):\n",
    "    accuracies = []\n",
    "    kf = StratifiedKFold(n_splits=10,shuffle=False,random_state=None)\n",
    "    for train_index, test_index in kf.split(X, y):\n",
    "        acc = rf_train_test(X[train_index], X[test_index], y[train_index], y[test_index])\n",
    "        accuracies += [acc]\n",
    "    print( (f'Stratified 10-fold cross validation accuracy is '\n",
    "            f'{np.mean(accuracies):.3f} {chr(177)}{np.std(accuracies):.4f} with {niter} total iterations')\n",
    "         )\n",
    "#\n",
    "eval_classifier(X, y, 100)"
   ]
  },
  {
   "cell_type": "markdown",
   "metadata": {},
   "source": [
    "Note the above performance results for discussion in the following cells.\n",
    "\n"
   ]
  },
  {
   "cell_type": "markdown",
   "metadata": {
    "ExecuteTime": {
     "end_time": "2020-08-06T18:10:11.851585Z",
     "start_time": "2020-08-06T18:10:11.848025Z"
    }
   },
   "source": [
    "**Question:** What are the differences between these four evaluation methods?"
   ]
  },
  {
   "cell_type": "markdown",
   "metadata": {},
   "source": [
    "## Data Transformation"
   ]
  },
  {
   "cell_type": "markdown",
   "metadata": {
    "ExecuteTime": {
     "end_time": "2020-08-06T13:59:35.401817Z",
     "start_time": "2020-08-06T13:59:35.399019Z"
    }
   },
   "source": [
    "Now that we preprocessed and used the data for classification we can move to other interesting problems."
   ]
  },
  {
   "cell_type": "markdown",
   "metadata": {},
   "source": [
    "Imagine, we did not have the ground truth, so that a supervised learning was not possible. A natural approach in this case is clustering the data to see if there are some patterns or models we can come up with that explains the cancer behavior. We will attempt answering questions like \"Is there a direct relation between menopause and cancer?\""
   ]
  },
  {
   "cell_type": "markdown",
   "metadata": {},
   "source": [
    "First, let's draw some plots where the x, y and z-dimensions are 'age', 'tumor-size', 'inv-nodes' and color is 'recurrence'."
   ]
  },
  {
   "cell_type": "code",
   "execution_count": 35,
   "metadata": {
    "ExecuteTime": {
     "end_time": "2020-08-12T21:48:09.118119Z",
     "start_time": "2020-08-12T21:48:08.997058Z"
    },
    "execution": {
     "iopub.execute_input": "2020-08-17T20:43:44.119064Z",
     "iopub.status.busy": "2020-08-17T20:43:44.118737Z",
     "iopub.status.idle": "2020-08-17T20:43:44.230922Z",
     "shell.execute_reply": "2020-08-17T20:43:44.230117Z",
     "shell.execute_reply.started": "2020-08-17T20:43:44.119031Z"
    }
   },
   "outputs": [
    {
     "data": {
      "image/png": "[encoded data removed]",
      "text/plain": [
       "<Figure size 432x288 with 1 Axes>"
      ]
     },
     "metadata": {},
     "output_type": "display_data"
    }
   ],
   "source": [
    "from mpl_toolkits.mplot3d import Axes3D\n",
    "\n",
    "# Deep copy original dataframe\n",
    "df2 = df.copy()\n",
    "\n",
    "# Convert every feature to numbers\n",
    "df2['recurrence'] = df['recurrence'].astype(\"category\").cat.codes\n",
    "\n",
    "df2['menopause'] = df['menopause'].astype(\"category\").cat.codes.astype('float')\n",
    "df2['node-caps'] = df['node-caps'].astype(\"category\").cat.codes.astype('float')\n",
    "df2['breast'] = df['breast'].astype(\"category\").cat.codes.astype('float')\n",
    "df2['breast-quad'] = df['breast-quad'].astype(\"category\").cat.codes.astype('float')\n",
    "df2['irradiat'] = df['irradiat'].astype(\"category\").cat.codes.astype('float')\n",
    "\n",
    "df2['deg-malig'] = df['deg-malig'].astype('float')\n",
    "\n",
    "def draw3d(df, _mn, _mx):\n",
    "    fig = plt.figure()\n",
    "    ax = fig.add_subplot(111, projection='3d')\n",
    "    ax.set_xlim3d(_mn, _mx)\n",
    "    ax.set_ylim3d(_mn, _mx)\n",
    "    ax.set_zlim3d(_mn, _mx)\n",
    "    ax.set_ylim(ax.get_ylim()[::-1]) \n",
    "    ax.scatter(df['age'], df['tumor-size'], df['inv-nodes'], c=df['recurrence'], s=30)\n",
    "    ax.set_xlabel('age'); ax.set_ylabel('tumor-size'); ax.set_zlabel('inv-nodes')\n",
    "#\n",
    "draw3d(df2, 0, 100)"
   ]
  },
  {
   "cell_type": "markdown",
   "metadata": {},
   "source": [
    "Question: Do the dimensions 'age', 'tumor-size', 'inv-nodes' look fine in the above 3D plot?"
   ]
  },
  {
   "cell_type": "markdown",
   "metadata": {},
   "source": [
    "Answer: The features are clumped and not nicely occupy  [0−100]  range, i.e. we are not seeing a spherical cluster shape."
   ]
  },
  {
   "cell_type": "markdown",
   "metadata": {},
   "source": [
    "---"
   ]
  },
  {
   "cell_type": "markdown",
   "metadata": {},
   "source": [
    "Let's cluster the cancer data, without using the ground truth. We have to convert the nominal variables to numerical by using the category codes like we applied to 'recurrence' variable."
   ]
  },
  {
   "cell_type": "markdown",
   "metadata": {
    "ExecuteTime": {
     "end_time": "2020-08-06T14:00:48.026109Z",
     "start_time": "2020-08-06T14:00:48.023306Z"
    }
   },
   "source": [
    "Important: Make sure every variable is of the same type, e.g. float32."
   ]
  },
  {
   "cell_type": "markdown",
   "metadata": {},
   "source": [
    "Important: Note that the values 'recurrence' took {0,1}, and by looking at the 3d plot above, can we easily find out which values (0 or 1) corresponds to 'recurrence-events' levels?"
   ]
  },
  {
   "cell_type": "code",
   "execution_count": 36,
   "metadata": {
    "ExecuteTime": {
     "end_time": "2020-08-12T21:48:11.506996Z",
     "start_time": "2020-08-12T21:48:09.120533Z"
    },
    "execution": {
     "iopub.execute_input": "2020-08-17T20:43:44.232405Z",
     "iopub.status.busy": "2020-08-17T20:43:44.232236Z",
     "iopub.status.idle": "2020-08-17T20:43:46.496388Z",
     "shell.execute_reply": "2020-08-17T20:43:46.495664Z",
     "shell.execute_reply.started": "2020-08-17T20:43:44.232384Z"
    }
   },
   "outputs": [
    {
     "name": "stdout",
     "output_type": "stream",
     "text": [
      "Clustering error= 0.497\n"
     ]
    }
   ],
   "source": [
    "from sklearn.cluster import KMeans\n",
    "\n",
    "def kmeans(_X, _y, niter):  # do it niter times to collect statistics\n",
    "    accuracies = []\n",
    "    for i in range(niter):\n",
    "        # We know that there are two levels in tagret variable - thus n_clusters=2\n",
    "        km = KMeans(n_clusters=2, random_state=None)\n",
    "        clusters = km.fit_predict(_X)\n",
    "        accuracies += [accuracy_score(_y, clusters)]\n",
    "    #\n",
    "    return np.mean(accuracies)\n",
    "\n",
    "X = df2.loc[:, df2.columns != 'recurrence'].values\n",
    "y = df2.loc[:, df2.columns == 'recurrence'].values.ravel()\n",
    "\n",
    "print(f'Clustering error= {kmeans(X, y, 100):.3f}')"
   ]
  },
  {
   "cell_type": "markdown",
   "metadata": {},
   "source": [
    "Above performance is not very good as the error is almost equivalent to random choice, which would be  12  since we have 2 classes."
   ]
  },
  {
   "cell_type": "markdown",
   "metadata": {},
   "source": [
    "## Normalization and Standardization\n",
    "Mapping the values of a column to [0,1] range is normalization:  normalization: $\\frac{x_{i}-\\min (x)}{\\max (x)-\\min (x)}$\n",
    "\n",
    "Standardization is mapping the values to a  0 -mean  1 -standard-deviation distribution: $\\frac{x_{i}-\\operatorname{mean}(x)}{\\operatorname{stdev}(x)}$\n",
    "\n",
    "Normalization makes the __optimization surface__ more __spherical__, which helps the optimizer using each feature with equal importance. This is especially important and helping for __distance__ based approaches.\n",
    "\n",
    "Let's try two scalers from `sklearn.preprocessing` 1.Normalization MinMaxScaler(), 2. Standardization `scale()`"
   ]
  },
  {
   "cell_type": "code",
   "execution_count": 37,
   "metadata": {
    "ExecuteTime": {
     "end_time": "2020-08-12T21:48:11.618249Z",
     "start_time": "2020-08-12T21:48:11.509961Z"
    },
    "execution": {
     "iopub.execute_input": "2020-08-17T20:43:46.498094Z",
     "iopub.status.busy": "2020-08-17T20:43:46.497953Z",
     "iopub.status.idle": "2020-08-17T20:43:46.609095Z",
     "shell.execute_reply": "2020-08-17T20:43:46.607989Z",
     "shell.execute_reply.started": "2020-08-17T20:43:46.498078Z"
    }
   },
   "outputs": [
    {
     "data": {
      "image/png": "[encoded data removed]",
      "text/plain": [
       "<Figure size 432x288 with 1 Axes>"
      ]
     },
     "metadata": {},
     "output_type": "display_data"
    }
   ],
   "source": [
    "from sklearn import preprocessing\n",
    "\n",
    "min_max_scaler = preprocessing.MinMaxScaler()\n",
    "df2[['age', 'tumor-size', 'inv-nodes']] = min_max_scaler.fit_transform(df2[['age', 'tumor-size', 'inv-nodes']])\n",
    "\n",
    "draw3d(df2, 0, 1)"
   ]
  },
  {
   "cell_type": "markdown",
   "metadata": {},
   "source": [
    "By normalizing the values through expansion and contraction to [0,1] we achieve the __distance__ between the data points are in the same \"range\" or unit. Thus the distance metrics like Euclidean distance will weigh each __dimension__ or feature __equally__.\n",
    "\n",
    "__Example:__ Imagine a dataset which has speed in miles [0,100] and time traveled in seconds [0,43200] (12 hours max). A proper approach would be mapping both features into [0,1] scale to treat the feature space spherically. For actual feature values an inverse transformation can be used to map back to the original units (for example to be presented to user).\n",
    "\n",
    "A distance metric $d$ in *$M$* dimensions (`Dataframe` has M number of columns) such as Euclidean $d_{i k}=\\sqrt{\\sum_{j=0}^{M}\\left(x_{i j}-x_{k j}\\right)^{2}}$\n",
    "\n",
    "As an example, clustering algorithms use some form of distance metric such as Euclidean distance between pairs of data points.\n",
    "\n",
    "As can be seen from above example, normalization of variables is a necessary step for clustering."
   ]
  },
  {
   "cell_type": "code",
   "execution_count": 38,
   "metadata": {
    "ExecuteTime": {
     "end_time": "2020-08-12T21:48:12.977603Z",
     "start_time": "2020-08-12T21:48:11.621256Z"
    },
    "execution": {
     "iopub.execute_input": "2020-08-17T20:43:46.610504Z",
     "iopub.status.busy": "2020-08-17T20:43:46.610318Z",
     "iopub.status.idle": "2020-08-17T20:43:47.947994Z",
     "shell.execute_reply": "2020-08-17T20:43:47.947122Z",
     "shell.execute_reply.started": "2020-08-17T20:43:46.610483Z"
    }
   },
   "outputs": [
    {
     "name": "stdout",
     "output_type": "stream",
     "text": [
      "Clustering error= 0.499\n"
     ]
    }
   ],
   "source": [
    "df2[['deg-malig', 'breast-quad']] = min_max_scaler.fit_transform(df2[['deg-malig', 'breast-quad']])\n",
    "\n",
    "X = df2.loc[:, df2.columns != 'recurrence'].values\n",
    "y = df2.loc[:, df2.columns == 'recurrence'].values.ravel()\n",
    "\n",
    "print(f'Clustering error= {kmeans(X, y, 100):.3f}')"
   ]
  },
  {
   "cell_type": "markdown",
   "metadata": {},
   "source": [
    "And now standardization.\n",
    "\n"
   ]
  },
  {
   "cell_type": "code",
   "execution_count": 39,
   "metadata": {
    "ExecuteTime": {
     "end_time": "2020-08-12T21:48:13.085105Z",
     "start_time": "2020-08-12T21:48:12.980227Z"
    },
    "execution": {
     "iopub.execute_input": "2020-08-17T20:43:47.949619Z",
     "iopub.status.busy": "2020-08-17T20:43:47.949238Z",
     "iopub.status.idle": "2020-08-17T20:43:48.051795Z",
     "shell.execute_reply": "2020-08-17T20:43:48.050919Z",
     "shell.execute_reply.started": "2020-08-17T20:43:47.949599Z"
    }
   },
   "outputs": [
    {
     "data": {
      "image/png": "[encoded data removed]",
      "text/plain": [
       "<Figure size 432x288 with 1 Axes>"
      ]
     },
     "metadata": {},
     "output_type": "display_data"
    }
   ],
   "source": [
    "df2[['age', 'tumor-size', 'inv-nodes']] = preprocessing.scale(df2[['age', 'tumor-size', 'inv-nodes']])\n",
    "\n",
    "draw3d(df2, 0, 10)"
   ]
  },
  {
   "cell_type": "code",
   "execution_count": 40,
   "metadata": {
    "ExecuteTime": {
     "end_time": "2020-08-12T21:48:13.099518Z",
     "start_time": "2020-08-12T21:48:13.087400Z"
    },
    "execution": {
     "iopub.execute_input": "2020-08-17T20:43:48.053286Z",
     "iopub.status.busy": "2020-08-17T20:43:48.053055Z",
     "iopub.status.idle": "2020-08-17T20:43:48.066159Z",
     "shell.execute_reply": "2020-08-17T20:43:48.065251Z",
     "shell.execute_reply.started": "2020-08-17T20:43:48.053266Z"
    }
   },
   "outputs": [
    {
     "data": {
      "text/html": [
       "<div>\n",
       "<style scoped>\n",
       "    .dataframe tbody tr th:only-of-type {\n",
       "        vertical-align: middle;\n",
       "    }\n",
       "\n",
       "    .dataframe tbody tr th {\n",
       "        vertical-align: top;\n",
       "    }\n",
       "\n",
       "    .dataframe thead th {\n",
       "        text-align: right;\n",
       "    }\n",
       "</style>\n",
       "<table border=\"1\" class=\"dataframe\">\n",
       "  <thead>\n",
       "    <tr style=\"text-align: right;\">\n",
       "      <th></th>\n",
       "      <th>age</th>\n",
       "      <th>menopause</th>\n",
       "      <th>tumor-size</th>\n",
       "      <th>inv-nodes</th>\n",
       "      <th>node-caps</th>\n",
       "      <th>deg-malig</th>\n",
       "      <th>breast</th>\n",
       "      <th>breast-quad</th>\n",
       "      <th>irradiat</th>\n",
       "      <th>recurrence</th>\n",
       "    </tr>\n",
       "  </thead>\n",
       "  <tbody>\n",
       "    <tr>\n",
       "      <th>0</th>\n",
       "      <td>-1.085619</td>\n",
       "      <td>2.0</td>\n",
       "      <td>-0.676527</td>\n",
       "      <td>-0.42551</td>\n",
       "      <td>0.0</td>\n",
       "      <td>0.5</td>\n",
       "      <td>1.0</td>\n",
       "      <td>0.50</td>\n",
       "      <td>0.0</td>\n",
       "      <td>0</td>\n",
       "    </tr>\n",
       "    <tr>\n",
       "      <th>1</th>\n",
       "      <td>-0.901708</td>\n",
       "      <td>2.0</td>\n",
       "      <td>-0.584259</td>\n",
       "      <td>-0.15608</td>\n",
       "      <td>1.0</td>\n",
       "      <td>1.0</td>\n",
       "      <td>1.0</td>\n",
       "      <td>0.50</td>\n",
       "      <td>0.0</td>\n",
       "      <td>1</td>\n",
       "    </tr>\n",
       "    <tr>\n",
       "      <th>2</th>\n",
       "      <td>0.017847</td>\n",
       "      <td>0.0</td>\n",
       "      <td>-0.861061</td>\n",
       "      <td>0.11335</td>\n",
       "      <td>0.0</td>\n",
       "      <td>0.0</td>\n",
       "      <td>1.0</td>\n",
       "      <td>0.00</td>\n",
       "      <td>0.0</td>\n",
       "      <td>0</td>\n",
       "    </tr>\n",
       "    <tr>\n",
       "      <th>3</th>\n",
       "      <td>0.201758</td>\n",
       "      <td>0.0</td>\n",
       "      <td>1.168816</td>\n",
       "      <td>-0.96437</td>\n",
       "      <td>0.0</td>\n",
       "      <td>0.5</td>\n",
       "      <td>0.0</td>\n",
       "      <td>0.25</td>\n",
       "      <td>0.0</td>\n",
       "      <td>1</td>\n",
       "    </tr>\n",
       "    <tr>\n",
       "      <th>4</th>\n",
       "      <td>-0.258020</td>\n",
       "      <td>2.0</td>\n",
       "      <td>0.707481</td>\n",
       "      <td>-0.96437</td>\n",
       "      <td>1.0</td>\n",
       "      <td>1.0</td>\n",
       "      <td>1.0</td>\n",
       "      <td>0.25</td>\n",
       "      <td>1.0</td>\n",
       "      <td>0</td>\n",
       "    </tr>\n",
       "  </tbody>\n",
       "</table>\n",
       "</div>"
      ],
      "text/plain": [
       "        age  menopause  tumor-size  inv-nodes  node-caps  deg-malig  breast  \\\n",
       "0 -1.085619        2.0   -0.676527   -0.42551        0.0        0.5     1.0   \n",
       "1 -0.901708        2.0   -0.584259   -0.15608        1.0        1.0     1.0   \n",
       "2  0.017847        0.0   -0.861061    0.11335        0.0        0.0     1.0   \n",
       "3  0.201758        0.0    1.168816   -0.96437        0.0        0.5     0.0   \n",
       "4 -0.258020        2.0    0.707481   -0.96437        1.0        1.0     1.0   \n",
       "\n",
       "   breast-quad  irradiat  recurrence  \n",
       "0         0.50       0.0           0  \n",
       "1         0.50       0.0           1  \n",
       "2         0.00       0.0           0  \n",
       "3         0.25       0.0           1  \n",
       "4         0.25       1.0           0  "
      ]
     },
     "execution_count": 40,
     "metadata": {},
     "output_type": "execute_result"
    }
   ],
   "source": [
    "df2.head()\n"
   ]
  },
  {
   "cell_type": "code",
   "execution_count": 41,
   "metadata": {
    "ExecuteTime": {
     "end_time": "2020-08-12T21:48:15.196382Z",
     "start_time": "2020-08-12T21:48:13.101597Z"
    },
    "execution": {
     "iopub.execute_input": "2020-08-17T20:43:48.067586Z",
     "iopub.status.busy": "2020-08-17T20:43:48.067291Z",
     "iopub.status.idle": "2020-08-17T20:43:50.106124Z",
     "shell.execute_reply": "2020-08-17T20:43:50.105462Z",
     "shell.execute_reply.started": "2020-08-17T20:43:48.067563Z"
    }
   },
   "outputs": [
    {
     "name": "stdout",
     "output_type": "stream",
     "text": [
      "Clustering error= 0.498\n"
     ]
    }
   ],
   "source": [
    "df2[['deg-malig', 'breast-quad']] = preprocessing.scale(df2[['deg-malig', 'breast-quad']])\n",
    "\n",
    "X = df2.loc[:, df2.columns != 'recurrence'].values\n",
    "y = df2.loc[:, df2.columns == 'recurrence'].values.ravel()\n",
    "\n",
    "print(f'Clustering error= {kmeans(X, y, 100):.3f}')"
   ]
  },
  {
   "cell_type": "code",
   "execution_count": 42,
   "metadata": {
    "ExecuteTime": {
     "end_time": "2020-08-12T21:48:15.620061Z",
     "start_time": "2020-08-12T21:48:15.199223Z"
    },
    "execution": {
     "iopub.execute_input": "2020-08-17T20:43:50.107765Z",
     "iopub.status.busy": "2020-08-17T20:43:50.107513Z",
     "iopub.status.idle": "2020-08-17T20:43:50.520204Z",
     "shell.execute_reply": "2020-08-17T20:43:50.519763Z",
     "shell.execute_reply.started": "2020-08-17T20:43:50.107748Z"
    }
   },
   "outputs": [
    {
     "data": {
      "image/png": "[encoded data removed]",
      "text/plain": [
       "<Figure size 714.425x216 with 3 Axes>"
      ]
     },
     "metadata": {},
     "output_type": "display_data"
    }
   ],
   "source": [
    "# Scaled\n",
    "plot_bc(df2)"
   ]
  },
  {
   "cell_type": "markdown",
   "metadata": {
    "ExecuteTime": {
     "end_time": "2020-08-06T14:08:54.865947Z",
     "start_time": "2020-08-06T14:08:54.861837Z"
    }
   },
   "source": [
    "**Question:** Do you see any difference/improvement on the variables compared to the first set of plots in cell 1, repeated below?"
   ]
  },
  {
   "cell_type": "markdown",
   "metadata": {},
   "source": [
    "**Answer:** Shapes are same but axis scales are different."
   ]
  },
  {
   "cell_type": "code",
   "execution_count": 43,
   "metadata": {
    "ExecuteTime": {
     "end_time": "2020-08-12T21:48:16.030271Z",
     "start_time": "2020-08-12T21:48:15.621830Z"
    },
    "execution": {
     "iopub.execute_input": "2020-08-17T20:43:50.521397Z",
     "iopub.status.busy": "2020-08-17T20:43:50.521252Z",
     "iopub.status.idle": "2020-08-17T20:43:50.920847Z",
     "shell.execute_reply": "2020-08-17T20:43:50.920061Z",
     "shell.execute_reply.started": "2020-08-17T20:43:50.521380Z"
    }
   },
   "outputs": [
    {
     "data": {
      "image/png": "[encoded data removed]",
      "text/plain": [
       "<Figure size 792.6x216 with 3 Axes>"
      ]
     },
     "metadata": {},
     "output_type": "display_data"
    }
   ],
   "source": [
    "# Original\n",
    "plot_bc(df)"
   ]
  },
  {
   "cell_type": "markdown",
   "metadata": {},
   "source": [
    "Note that after variable transformation, variables become more spherical or Gaussian like, but then the levels or data points do not correspond to any meaningful value in the domain knowledge that the dataset originally belonged to. For example 'deg-malig' had three levels {1, 2, 3} which probably meant something to the doctors dealing with cancer patients. However depending on the dataset, such transformations make a difference, albeit a few percentage improvement on the performance."
   ]
  },
  {
   "cell_type": "markdown",
   "metadata": {},
   "source": [
    "## Data Reduction\n",
    "Reducing the data helps in a few ways:\n",
    "\n",
    "* Faster method run-time, such as training\n",
    "* More generalized models, decreases overfitting\n",
    "* Simpler models that make more sense to the domain expert or Subject Matter Expert (SME)\n",
    "* In some cases better accuracy performance - not necessarily always happens\n",
    "\n",
    "**Feature ranking** and **feature selection** is a common stage that is executed after cleaning and preprocessing the data. In the following cells we will examine the variable rankings by **Univariate Feature Selection**."
   ]
  },
  {
   "cell_type": "code",
   "execution_count": 44,
   "metadata": {
    "ExecuteTime": {
     "end_time": "2020-08-12T21:48:16.141406Z",
     "start_time": "2020-08-12T21:48:16.031667Z"
    },
    "execution": {
     "iopub.execute_input": "2020-08-17T20:43:50.922270Z",
     "iopub.status.busy": "2020-08-17T20:43:50.922126Z",
     "iopub.status.idle": "2020-08-17T20:43:51.086699Z",
     "shell.execute_reply": "2020-08-17T20:43:51.086134Z",
     "shell.execute_reply.started": "2020-08-17T20:43:50.922252Z"
    }
   },
   "outputs": [
    {
     "data": {
      "image/png": "[encoded data removed]",
      "text/plain": [
       "<Figure size 432x288 with 1 Axes>"
      ]
     },
     "metadata": {},
     "output_type": "display_data"
    }
   ],
   "source": [
    "from sklearn.feature_selection import SelectPercentile, f_classif\n",
    "\n",
    "\n",
    "selector = SelectPercentile(f_classif, percentile=10)\n",
    "# Fit the data\n",
    "selector.fit(X, y)\n",
    "scores = -np.log10(selector.pvalues_)\n",
    "scores /= scores.max()\n",
    "\n",
    "# Display\n",
    "cols = list(df2.loc[:, df2.columns != 'recurrence'].columns.values)\n",
    "y_pos = np.arange(len(cols))\n",
    "plt.bar(y_pos, scores)\n",
    "plt.xticks(y_pos, cols, rotation=90)\n",
    "plt.show()"
   ]
  },
  {
   "cell_type": "markdown",
   "metadata": {},
   "source": [
    "Question: Can we drop `'age'`, `'menopause'`, `'breast'`, `'breast-quad'` variables and redo the classification evaluation without a performance loss?"
   ]
  },
  {
   "cell_type": "code",
   "execution_count": 45,
   "metadata": {
    "ExecuteTime": {
     "end_time": "2020-08-12T21:48:16.150110Z",
     "start_time": "2020-08-12T21:48:16.143160Z"
    },
    "execution": {
     "iopub.execute_input": "2020-08-17T20:43:51.088277Z",
     "iopub.status.busy": "2020-08-17T20:43:51.087977Z",
     "iopub.status.idle": "2020-08-17T20:43:51.097184Z",
     "shell.execute_reply": "2020-08-17T20:43:51.096277Z",
     "shell.execute_reply.started": "2020-08-17T20:43:51.088234Z"
    }
   },
   "outputs": [],
   "source": [
    "df3 = df2.copy()\n",
    "df3.drop(columns='age', inplace=True)\n",
    "df3.drop(columns='menopause', inplace=True)\n",
    "df3.drop(columns='breast', inplace=True)\n",
    "df3.drop(columns='breast-quad', inplace=True)\n",
    "\n",
    "X = df3.loc[:, df3.columns != 'recurrence'].values\n",
    "y = df3.loc[:, df3.columns == 'recurrence'].values.ravel()"
   ]
  },
  {
   "cell_type": "code",
   "execution_count": 46,
   "metadata": {
    "ExecuteTime": {
     "end_time": "2020-08-12T21:48:20.051611Z",
     "start_time": "2020-08-12T21:48:16.151509Z"
    },
    "execution": {
     "iopub.execute_input": "2020-08-17T20:43:51.098894Z",
     "iopub.status.busy": "2020-08-17T20:43:51.098612Z",
     "iopub.status.idle": "2020-08-17T20:43:54.944968Z",
     "shell.execute_reply": "2020-08-17T20:43:54.944095Z",
     "shell.execute_reply.started": "2020-08-17T20:43:51.098835Z"
    }
   },
   "outputs": [
    {
     "name": "stdout",
     "output_type": "stream",
     "text": [
      "Stratified 10-fold cross validation accuracy is 0.742 ±0.0661 with 100 total iterations\n"
     ]
    }
   ],
   "source": [
    "eval_classifier(X, y, 100)"
   ]
  },
  {
   "cell_type": "markdown",
   "metadata": {},
   "source": [
    "`Wow!` The performance accuracy did not drop. And we have less data columns now."
   ]
  },
  {
   "cell_type": "markdown",
   "metadata": {},
   "source": [
    "Note that we had standardized the data in the previous steps. Let's go back to the original dataset just after the cleaning was completed."
   ]
  },
  {
   "cell_type": "code",
   "execution_count": 47,
   "metadata": {
    "ExecuteTime": {
     "end_time": "2020-08-12T21:48:20.071648Z",
     "start_time": "2020-08-12T21:48:20.053926Z"
    },
    "execution": {
     "iopub.execute_input": "2020-08-17T20:43:54.946426Z",
     "iopub.status.busy": "2020-08-17T20:43:54.946089Z",
     "iopub.status.idle": "2020-08-17T20:43:54.964062Z",
     "shell.execute_reply": "2020-08-17T20:43:54.963473Z",
     "shell.execute_reply.started": "2020-08-17T20:43:54.946398Z"
    }
   },
   "outputs": [],
   "source": [
    "df4 = df_o.copy()\n",
    "df4.drop(columns='age', inplace=True)\n",
    "\n",
    "# 'menopause' was onehot-encoded\n",
    "for col in df4.columns.values:\n",
    "    if 'menopause' in col:\n",
    "        df4.drop(columns=col, inplace=True)\n",
    "\n",
    "# 'breast' was onehot-encoded\n",
    "for col in df4.columns.values:\n",
    "    if 'breast' in col:\n",
    "        df4.drop(columns=col, inplace=True)\n",
    "\n",
    "# 'breast-quad' was onehot-encoded\n",
    "for col in df4.columns.values:\n",
    "    if 'breast-quad' in col:\n",
    "        df4.drop(columns=col, inplace=True)\n",
    "\n",
    "X = df4.loc[:, df4.columns != 'recurrence'].values\n",
    "y = df4.loc[:, df4.columns == 'recurrence'].values.ravel()"
   ]
  },
  {
   "cell_type": "code",
   "execution_count": 48,
   "metadata": {
    "ExecuteTime": {
     "end_time": "2020-08-12T21:48:23.942830Z",
     "start_time": "2020-08-12T21:48:20.073306Z"
    },
    "execution": {
     "iopub.execute_input": "2020-08-17T20:43:54.965160Z",
     "iopub.status.busy": "2020-08-17T20:43:54.964920Z",
     "iopub.status.idle": "2020-08-17T20:43:58.790269Z",
     "shell.execute_reply": "2020-08-17T20:43:58.789400Z",
     "shell.execute_reply.started": "2020-08-17T20:43:54.965140Z"
    }
   },
   "outputs": [
    {
     "name": "stdout",
     "output_type": "stream",
     "text": [
      "Stratified 10-fold cross validation accuracy is 0.735 ±0.0493 with 100 total iterations\n"
     ]
    }
   ],
   "source": [
    "eval_classifier(X, y, 100)"
   ]
  },
  {
   "cell_type": "markdown",
   "metadata": {},
   "source": [
    "**More success!** The performance accuracy increased! Or did we bias it?"
   ]
  },
  {
   "cell_type": "markdown",
   "metadata": {},
   "source": [
    "**Harder Question:** Do you accept the performance increase as a valid increase? Or would you attribute it to the variance of error?\n",
    "\n"
   ]
  },
  {
   "cell_type": "markdown",
   "metadata": {},
   "source": [
    "---"
   ]
  },
  {
   "cell_type": "markdown",
   "metadata": {},
   "source": [
    "**Question:** What is the most important take-away in this effort"
   ]
  }
 ],
 "metadata": {
  "kernelspec": {
   "display_name": "Python 3",
   "language": "python",
   "name": "python3"
  },
  "language_info": {
   "codemirror_mode": {
    "name": "ipython",
    "version": 3
   },
   "file_extension": ".py",
   "mimetype": "text/x-python",
   "name": "python",
   "nbconvert_exporter": "python",
   "pygments_lexer": "ipython3",
   "version": "3.7.3"
  }
 },
 "nbformat": 4,
 "nbformat_minor": 4
}
