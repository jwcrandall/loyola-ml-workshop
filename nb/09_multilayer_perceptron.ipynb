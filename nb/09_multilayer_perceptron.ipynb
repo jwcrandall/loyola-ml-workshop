{
 "cells": [
  {
   "cell_type": "markdown",
   "metadata": {},
   "source": [
    "# Multilayer Perceptron\n",
    "Inspired by the __brain__, a neural network consists of __neurons__ which operate similar to their counterparts in the brain. A neuron receives its input from roughly thousands of other neurons via its __synapses__. These inputs are approximately summed and a threshold function is applied in each one of them. When the input exceeds this threshold the neuron generates an electrical spike that travels down the __axon__, to the next set of neurons.\n",
    "A perceptron follows similar kind of behavior in mathematical terms.\n",
    "\n",
    "## Single-layer Neural Network\n",
    "The perceptron is a binary classifier that _attempts_ to find an $M$ dimensional hyperplane $w$ defined by $w \\cdot x=w^{\\top} x=b$ where $x, w \\in \\mathbb{R}^{M},$ and $b \\in \\mathbb{R}$. There are $M$ dimensions/features in the dataset of $N$ instances/rows.\n",
    "\n",
    "The hyperplane separates the data points $X$ into two categories \\{0,1\\}, originally provided by the $y$ vector (ground truth).\n",
    "\n",
    "$\\mathbf{f}(x)=\\hat{y}=\\left\\{\\begin{array}{ll}1, & \\text { if } w \\cdot x+b>0 \\\\ 0, & \\text { otherwise }\\end{array}\\right.$\n",
    "\n",
    "Finding out the hyperplane or $w$, the perceptron training algorithm, such as Adaline, updates $w$ by iteratively computing the classification error:\n",
    "\n",
    "$w \\leftarrow w+\\Delta w,$ where $\\Delta w=-\\eta \\nabla J(w)$ and $\\nabla J(w)$ is the cost function and $\\eta$ is the learning rate.\n",
    "\n",
    "The gradient of $J$, or $\\nabla J(w)$ is computed by partial derivatives:  \n",
    "$\\frac{\\partial}{\\partial w_{j}} J(w)=-\\sum_{i}\\left(y^{(i)}-a^{(i)}\\right) x_{j}^{(i)},$ for $j=1, \\ldots, M$ and $i=1, \\ldots, N$\n",
    "\n",
    "Activation function $\\phi(z)$ where the net input $z$ is the linear combination of the weights that are connecting the input to the output: $z=\\sum_{j} w_{j} x_{j}=w^{\\top} x$\n",
    "\n",
    "The threshold function $g(z)$ is just a 0-threshold or binary step:  \n",
    "$\\hat{y}=\\left\\{\\begin{array}{ll}+1, & \\text { if } g(z) \\geq 0 \\\\ -1, & \\text { otherwise }\\end{array}\\right.$\n",
    "\n",
    "# XOR problem\n",
    "Since a perceptron uses a single hyperplane it is unable to solve the XOR problem because is __not linearly separable.__ As an example, in 2 dimensions the XOR problem is given as in the following:"
   ]
  },
  {
   "cell_type": "code",
   "execution_count": 1,
   "metadata": {
    "execution": {
     "iopub.execute_input": "2020-08-20T00:53:21.874534Z",
     "iopub.status.busy": "2020-08-20T00:53:21.874277Z",
     "iopub.status.idle": "2020-08-20T00:53:22.580543Z",
     "shell.execute_reply": "2020-08-20T00:53:22.579903Z",
     "shell.execute_reply.started": "2020-08-20T00:53:21.874503Z"
    }
   },
   "outputs": [
    {
     "data": {
      "image/png": "[encoded data removed]",
      "text/plain": [
       "<Figure size 360x216 with 1 Axes>"
      ]
     },
     "metadata": {
      "needs_background": "light"
     },
     "output_type": "display_data"
    }
   ],
   "source": [
    "%matplotlib inline\n",
    "import matplotlib.pyplot as plt\n",
    "\n",
    "from numpy import array, full, concatenate\n",
    "from numpy.random import ranf\n",
    "\n",
    "# Example XOR dataset\n",
    "X = concatenate([array([-2,-2])+ranf([10,2]), array([1,1])+ranf([10,2]),\n",
    "                 array([-2,1])+ranf([10,2]), array([1,-2])+ranf([10,2])], axis=0)\n",
    "y = concatenate([full(10, 0), full(10, 0), full(10, 1), full(10, 1)], axis=0)\n",
    "\n",
    "plt.figure(figsize=(5, 3))\n",
    "\n",
    "def plotX(_X, _y, _ax=None):  # Max 5 clusters/classes\n",
    "    def get_minmax(_X, _m):  # _m = margin for visuals\n",
    "        return _X[:,0].min()-_m, _X[:,0].max()+_m, _X[:,1].min()-_m, _X[:,1].max()+_m\n",
    "    \n",
    "    Colors = ['darkorchid', 'darksalmon', 'darkgreen', 'darkgrey', 'darkseagreen']\n",
    "    Markers = ['o', 'x', '+', '1', '.']\n",
    "    for c in range(max(_y)+1):\n",
    "        plt.scatter(_X[_y==c,0], _X[_y==c,1], marker=Markers[c], color=Colors[c])\n",
    "    #\n",
    "    plt.grid(True, which='both')\n",
    "    #\n",
    "    if _ax is not None:\n",
    "        _ax.get_xaxis().set_ticks([])\n",
    "        _ax.get_yaxis().set_ticks([])\n",
    "    #\n",
    "    x1_min, x1_max, x2_min, x2_max = get_minmax(_X, 1)\n",
    "    plt.xlim(x1_min, x1_max)\n",
    "    plt.ylim(x2_min, x2_max)\n",
    "    plt.xlabel(r'$x_1$', horizontalalignment='right', x=1.0)\n",
    "    plt.ylabel(r'$x_2$', horizontalalignment='right', y=1.0)\n",
    "\n",
    "plotX(X,y)\n",
    "plt.plot((-3,1.5),(1,-3), c='r', ls='--')\n",
    "plt.plot((-1,3),(-3,1.5), c='g', ls='--')\n",
    "plt.show()"
   ]
  },
  {
   "cell_type": "markdown",
   "metadata": {},
   "source": [
    "---\n",
    "\n",
    "## Multilayer Neural Network Architecture\n",
    "\n",
    "In a multilayer neural network structure, the input is weighted and summed at one or more hidden layers representing a directed graph. When each layer output is input to the next layer this architecture is called __feedforward__ neural network. When the output of a layer is __fed-back__ to a previous layer then it is called __recurrent__ neural network in which from a time step to the next some neuron layers will remember information they had in the previous time-step. This gives the neuron the ability of working as a memory cell.\n",
    "\n",
    "The input vector $a^{(i n)}$ has a bias value: $a^{(i n)}=\\left[\\begin{array}{c}1 \\\\ x_{1}^{(i n)} \\\\ \\vdots \\\\ x_{m}^{(i n)}\\end{array}\\right]$\n",
    "\n",
    "The output vector is one-hot encoded categories.\n",
    "\n",
    "In the figure, an example feedforward neural network is provided with 2 hidden layers, M=4 and the number of classes is 3 and $a_{0}^{(i n)}, a_{0}^{(h 1)}, a_{0}^{(h 2)}$ are bias units and set to 1. The predicted class can be stated by checking the highest value on the output layer, e.g. if $a_{2}^{(o u t)}$ is the highest then the predicted class is 2.\n",
    "\n",
    "Multilayer feedforward architecture are universal function approximators.\n",
    "\n",
    "__Deep Neural Networks:__ When there are more then 1 hidden layers the neural network is called a __deep__ neural network.\n",
    "\n",
    "---\n",
    "\n",
    "## Training MLP via Forward Propagation\n",
    "\n",
    "The training data is propagated on the network and based on the output error, network weights are updated to minimize the cost function. The error at the output is __backpropagated__ and the model is updated. (Note that derivative is a linear operator)\n",
    "\n",
    "Net input, $z_{1}^{(h)}=a_{0}^{(i n)} w_{0,1}^{(h)}+a_{1}^{(i n)} w_{1,1}^{(h)}+\\ldots+a_{m}^{(i n)} w_{m, 1}^{(h)}$\n",
    "\n",
    "Activation, $a_{1}^{(h)}=\\phi\\left(z_{1}^{(h)}\\right)$\n",
    "\n",
    "The activation function has to be differentiable so we can use gradient-based approaches to minimize the error and find weights. Generally non-linear activation function work good and one example is the sigmoid function:\n",
    "\n",
    "$\\phi(z)=\\frac{1}{1+e^{-z}} \\ldots \\ldots \\ldots (1)$\n",
    "\n",
    "Clearly `numpy` uses efficient loops for linear algebra operations. Net input and activation for all $N$ data points:\n",
    "\n",
    "$Z^{(h)}=A^{(i n)} W^{(h)},$ then $A^{(h)}=\\phi\\left(Z^{(h)}\\right),$ and finally $Z^{(o u t)}=A^{(h)} W^{(o u t)},$ and\n",
    "$A^{(o u t)}=\\phi\\left(Z^{(o u t)}\\right) \\ldots \\ldots \\ldots .(2)$\n",
    "\n",
    "Sigmoid function derivative:\n",
    "\n",
    "$\\phi^{\\prime}=\\frac{\\partial}{\\partial z}\\left(\\frac{1}{1+e^{-z}}\\right)=\\phi(z)(1-\\phi(z))=a(1-a) \\ldots \\ldots \\ldots (3)$\n",
    "\n",
    "Cost function:\n",
    "\n",
    "$J(w)=\\frac{1}{2} \\sum_{i}\\left(y^{[i]}-\\phi\\left(z^{[i]}\\right)\\right)^{2}$ i.e. Sum of Squared Errors\n",
    "\n",
    "Derivative of cost function:\n",
    "\n",
    "$\\frac{\\partial J}{\\partial w_{j}}=-\\sum_{i}\\left(y^{[i]}-\\phi\\left(z^{[i]}\\right)\\right) x_{j}^{[i]}$\n",
    "\n",
    "Log-likelihood cost function:\n",
    "\n",
    "$J(w)=-\\sum_{i=1}^{n}\\left[y^{[i]} \\log \\left(\\phi\\left(z^{[i]}\\right)\\right)+\\left(1-y^{[i]}\\right) \\log \\left(1-\\phi\\left(z^{[i]}\\right)\\right)\\right]$ since maximizing log of the cost is easier and does not break the optimization.\n",
    "\n",
    "Substitute $a$, the main cost function for optimizing the neural network (without the regularization component):\n",
    "\n",
    "$J(w)=-\\sum_{i=1}^{n} y^{[i]} \\log \\left(a^{[i]}\\right)+\\left(1-y^{[i]}\\right) \\log \\left(1-a^{[i]}\\right) \\ldots \\ldots \\ldots .(4)$\n",
    "\n",
    "Backpropagate the error from output to the input:\n",
    "\n",
    "$\\delta^{(o u t)}=a^{(o u t)}-y \\ldots \\ldots \\ldots (5)$\n",
    "\n",
    "$\\delta^{(h)}=\\delta^{(\\text {out})}\\left(W^{(\\text {out})}\\right)^{\\top} \\odot\\left(a^{(h)} \\odot\\left(1-a^{(h)}\\right)\\right) \\ldots \\ldots \\ldots (6)$\n",
    "\n",
    "$\\frac{\\partial}{\\partial w_{i, j}^{(o u t)}} J(W)=a_{j}^{(h)} \\delta_{i}^{(o u t)} \\ldots \\ldots \\ldots (7)$\n",
    "\n",
    "$\\frac{\\partial}{\\partial w_{i, j}^{(h)}} J(W)=a_{j}^{(i n)} \\delta_{i}^{(h)} \\ldots \\ldots \\ldots (8)$\n",
    "\n",
    "Update weights:\n",
    "\n",
    "$W^{(l)}=W^{(l)}-\\eta \\Delta^{(l)} \\ldots \\ldots \\ldots (9)$\n",
    "\n",
    "---\n",
    "\n",
    "Derivation of Eq.4 to Eq.7:\n",
    "\n",
    "Given (1.) $a^{o}=a^{h} w^{o} \\Rightarrow \\frac{\\partial a^{o}}{\\partial w^{o}}=a^{h},$ and\n",
    "(2.) $\\phi^{\\text {оиt}^{\\prime}}=a^{o}\\left(1-a^{o}\\right)$\n",
    "\n",
    "$\\frac{\\partial J}{\\partial w^o} = y \\frac{1}{a^o} \\frac{\\partial a^o}{\\partial w^o} {\\phi^{out}}^\\prime + (1-y) \\frac{1}{1-a^o} (-\\frac{\\partial a^o}{\\partial w^o}{\\phi^{out}}^\\prime) = ya^h (1-a^o) + (1-y)(-a^h)(a^o) = (y-a^o)a^h = \\delta^o a^h $\n",
    "\n",
    "---\n",
    "\n",
    "## Worked Example\n",
    "\n",
    "The following example uses MNIST dataset: MNIST database http://yann.lecun.com/exdb/mnist/"
   ]
  },
  {
   "cell_type": "code",
   "execution_count": 3,
   "metadata": {
    "execution": {
     "iopub.execute_input": "2020-08-20T01:59:26.094207Z",
     "iopub.status.busy": "2020-08-20T01:59:26.094017Z",
     "iopub.status.idle": "2020-08-20T01:59:26.395733Z",
     "shell.execute_reply": "2020-08-20T01:59:26.395222Z",
     "shell.execute_reply.started": "2020-08-20T01:59:26.094186Z"
    }
   },
   "outputs": [
    {
     "name": "stdout",
     "output_type": "stream",
     "text": [
      "Rows= 60000, columns= 784\n",
      "Rows= 10000, columns= 784\n"
     ]
    }
   ],
   "source": [
    "def load_mnist(path, kind='train'):\n",
    "    from numpy import fromfile, uint8\n",
    "    import os\n",
    "    import struct\n",
    "    \n",
    "    labels_path = os.path.join(path, '%s-labels-idx1-ubyte' % kind)\n",
    "    images_path = os.path.join(path, '%s-images-idx3-ubyte' % kind)\n",
    "    with open(labels_path, 'rb') as lbpath:\n",
    "        magic, n = struct.unpack('>II', lbpath.read(8))\n",
    "        labels = fromfile(lbpath, dtype=uint8)\n",
    "        with open(images_path, 'rb') as imgpath:\n",
    "            magic, num, rows, cols = struct.unpack(\">IIII\",imgpath.read(16))\n",
    "            images = fromfile(imgpath, dtype=uint8).reshape(len(labels), 784)\n",
    "            images = ((images / 255.) - .5) * 2\n",
    "    #\n",
    "    return images, labels\n",
    "\n",
    "X_train, y_train = load_mnist('datasets/', kind='train')\n",
    "print(f'Rows= {X_train.shape[0]}, columns= {X_train.shape[1]}')\n",
    "\n",
    "X_test, y_test = load_mnist('datasets/', kind='t10k')\n",
    "print(f'Rows= {X_test.shape[0]}, columns= {X_test.shape[1]}')"
   ]
  },
  {
   "cell_type": "code",
   "execution_count": 4,
   "metadata": {
    "execution": {
     "iopub.execute_input": "2020-08-20T02:17:04.141826Z",
     "iopub.status.busy": "2020-08-20T02:17:04.141631Z",
     "iopub.status.idle": "2020-08-20T02:17:04.891183Z",
     "shell.execute_reply": "2020-08-20T02:17:04.890747Z",
     "shell.execute_reply.started": "2020-08-20T02:17:04.141804Z"
    }
   },
   "outputs": [
    {
     "data": {
      "image/png": "[encoded data removed]",
      "text/plain": [
       "<Figure size 432x288 with 10 Axes>"
      ]
     },
     "metadata": {},
     "output_type": "display_data"
    }
   ],
   "source": [
    "fig, ax = plt.subplots(nrows=2, ncols=5, sharex=True, sharey=True)\n",
    "ax = ax.flatten()\n",
    "for i in range(10):\n",
    "    img = X_train[y_train == i][0].reshape(28, 28)\n",
    "    ax[i].imshow(img, cmap='Greys')\n",
    "    ax[0].set_xticks([])\n",
    "    ax[0].set_yticks([])\n",
    "    plt.tight_layout()\n",
    "plt.show()"
   ]
  },
  {
   "cell_type": "code",
   "execution_count": 5,
   "metadata": {
    "execution": {
     "iopub.execute_input": "2020-08-20T02:17:18.978430Z",
     "iopub.status.busy": "2020-08-20T02:17:18.978224Z",
     "iopub.status.idle": "2020-08-20T02:17:22.619615Z",
     "shell.execute_reply": "2020-08-20T02:17:22.618683Z",
     "shell.execute_reply.started": "2020-08-20T02:17:18.978408Z"
    }
   },
   "outputs": [
    {
     "data": {
      "image/png": "[encoded data removed]",
      "text/plain": [
       "<Figure size 432x288 with 25 Axes>"
      ]
     },
     "metadata": {},
     "output_type": "display_data"
    }
   ],
   "source": [
    "fig, ax = plt.subplots(nrows=5, ncols=5, sharex=True, sharey=True)\n",
    "ax = ax.flatten()\n",
    "for i in range(25):\n",
    "    img = X_train[y_train == 3][i].reshape(28, 28)\n",
    "    ax[i].imshow(img, cmap='Greys')\n",
    "    ax[0].set_xticks([])\n",
    "    ax[0].set_yticks([])\n",
    "    plt.tight_layout()\n",
    "plt.show()"
   ]
  },
  {
   "cell_type": "code",
   "execution_count": 6,
   "metadata": {
    "execution": {
     "iopub.execute_input": "2020-08-20T02:18:03.597433Z",
     "iopub.status.busy": "2020-08-20T02:18:03.597235Z",
     "iopub.status.idle": "2020-08-20T02:18:04.222742Z",
     "shell.execute_reply": "2020-08-20T02:18:04.222078Z",
     "shell.execute_reply.started": "2020-08-20T02:18:03.597411Z"
    }
   },
   "outputs": [],
   "source": [
    "from sklearn.neural_network import MLPClassifier\n",
    "from sklearn.metrics import confusion_matrix\n",
    "\n",
    "from numpy import sum, float\n",
    "\n",
    "import warnings\n",
    "warnings.filterwarnings('ignore', 'Solver terminated early.*')"
   ]
  },
  {
   "cell_type": "code",
   "execution_count": 7,
   "metadata": {
    "execution": {
     "iopub.execute_input": "2020-08-20T02:18:11.744011Z",
     "iopub.status.busy": "2020-08-20T02:18:11.743800Z",
     "iopub.status.idle": "2020-08-20T02:19:37.005663Z",
     "shell.execute_reply": "2020-08-20T02:19:37.004898Z",
     "shell.execute_reply.started": "2020-08-20T02:18:11.743990Z"
    }
   },
   "outputs": [
    {
     "name": "stdout",
     "output_type": "stream",
     "text": [
      "Accuracy= 93.43%\n",
      "[[ 948    0    7    1    1   11    4    4    4    0]\n",
      " [   0 1121    2    1    0    0    3    1    7    0]\n",
      " [   9   10  963    9    4    6    6   10   14    1]\n",
      " [   1    4   13  936    4   21    0   11   16    4]\n",
      " [   2    1    8    1  929    3    7    5    2   24]\n",
      " [   8    6    2   18    6  816   12    7   12    5]\n",
      " [  12    5    8    0   14   20  894    1    4    0]\n",
      " [   0   10   19    7    3    3    0  962    4   20]\n",
      " [   5   13    6   25   12   14   10   11  864   14]\n",
      " [   5    7    4    6   38    7    0   26    6  910]]\n",
      "CPU times: user 10min 9s, sys: 1min 9s, total: 11min 18s\n",
      "Wall time: 1min 25s\n"
     ]
    }
   ],
   "source": [
    "%%time\n",
    "\n",
    "# 1 layer neural network\n",
    "mlp = MLPClassifier(hidden_layer_sizes=(10,),max_iter=300)\n",
    "mlp.fit(X_train,y_train)\n",
    "\n",
    "y_pred = mlp.predict(X_test)\n",
    "test_acc = ((sum(y_test == y_pred)).astype(float) / y_test.shape[0])\n",
    "\n",
    "print(f'Accuracy= {test_acc*100:.2f}%')\n",
    "print(confusion_matrix(y_test,y_pred))"
   ]
  },
  {
   "cell_type": "code",
   "execution_count": 8,
   "metadata": {
    "execution": {
     "iopub.execute_input": "2020-08-20T02:20:19.508266Z",
     "iopub.status.busy": "2020-08-20T02:20:19.508061Z",
     "iopub.status.idle": "2020-08-20T02:21:54.304324Z",
     "shell.execute_reply": "2020-08-20T02:21:54.303657Z",
     "shell.execute_reply.started": "2020-08-20T02:20:19.508245Z"
    }
   },
   "outputs": [
    {
     "name": "stdout",
     "output_type": "stream",
     "text": [
      "Accuracy= 93.69%\n",
      "[[ 954    0    3    2    2    4   12    2    1    0]\n",
      " [   0 1120    2    2    1    2    2    1    5    0]\n",
      " [   8    2  972   11    3    1   10    8   17    0]\n",
      " [   3    0   18  952    1   10    2   13    8    3]\n",
      " [   2    1   10    2  912    1   10    5    3   36]\n",
      " [  13    6    6   43    3  776   12    5   18   10]\n",
      " [  16    3    7    0    3    6  920    0    3    0]\n",
      " [   4    6   20   11    5    0    1  959    2   20]\n",
      " [  11    4   11   31    6   11   10   12  864   14]\n",
      " [  10    6    0    4   25    7    0   11    6  940]]\n",
      "CPU times: user 11min 13s, sys: 1min 20s, total: 12min 33s\n",
      "Wall time: 1min 34s\n"
     ]
    }
   ],
   "source": [
    "%%time\n",
    "\n",
    "# 2 layer neural network\n",
    "mlp = MLPClassifier(hidden_layer_sizes=(10,10),max_iter=300)\n",
    "mlp.fit(X_train,y_train)\n",
    "\n",
    "y_pred = mlp.predict(X_test)\n",
    "test_acc = ((sum(y_test == y_pred)).astype(float) / y_test.shape[0])\n",
    "\n",
    "print(f'Accuracy= {test_acc*100:.2f}%')\n",
    "print(confusion_matrix(y_test,y_pred))"
   ]
  },
  {
   "cell_type": "code",
   "execution_count": 9,
   "metadata": {
    "execution": {
     "iopub.execute_input": "2020-08-20T02:24:42.116195Z",
     "iopub.status.busy": "2020-08-20T02:24:42.115994Z",
     "iopub.status.idle": "2020-08-20T02:30:34.876121Z",
     "shell.execute_reply": "2020-08-20T02:30:34.875444Z",
     "shell.execute_reply.started": "2020-08-20T02:24:42.116174Z"
    }
   },
   "outputs": [
    {
     "name": "stderr",
     "output_type": "stream",
     "text": [
      "/Users/josephcrandall/.pyenv/versions/3.7.3/lib/python3.7/site-packages/sklearn/neural_network/_multilayer_perceptron.py:585: ConvergenceWarning: Stochastic Optimizer: Maximum iterations (300) reached and the optimization hasn't converged yet.\n",
      "  % self.max_iter, ConvergenceWarning)\n"
     ]
    },
    {
     "name": "stdout",
     "output_type": "stream",
     "text": [
      "Accuracy= 94.97%\n",
      "[[ 958    0    2    4    3    3    4    2    3    1]\n",
      " [   0 1116    2    2    1    0    5    1    7    1]\n",
      " [   5    4  971   13    8    0    4   11   14    2]\n",
      " [   3    0   11  959    2    7    0   11   14    3]\n",
      " [   2    0    2    1  938    2    5    4    3   25]\n",
      " [   6    0    4   17    3  820   17    3   15    7]\n",
      " [   7    3    8    0   10   13  911    0    6    0]\n",
      " [   1    5   16    7    2    1    0  976    3   17]\n",
      " [   9    2    5   19    6    8    6    6  900   13]\n",
      " [   8    4    1    6   24    6    0    5    7  948]]\n",
      "CPU times: user 43min 7s, sys: 3min 38s, total: 46min 46s\n",
      "Wall time: 5min 52s\n"
     ]
    }
   ],
   "source": [
    "%%time\n",
    "\n",
    "# 1 layer neural network, size 20\n",
    "mlp = MLPClassifier(hidden_layer_sizes=(20,),max_iter=300)\n",
    "mlp.fit(X_train,y_train)\n",
    "\n",
    "y_pred = mlp.predict(X_test)\n",
    "test_acc = ((sum(y_test == y_pred)).astype(float) / y_test.shape[0])\n",
    "\n",
    "print(f'Accuracy= {test_acc*100:.2f}%')\n",
    "print(confusion_matrix(y_test,y_pred))"
   ]
  },
  {
   "cell_type": "markdown",
   "metadata": {},
   "source": [
    "__Question:__ Which network is better? (A.) 1 hidden-layer, size 10 (B.) 2 hidden-layers, size 10 each (C.) 1 hidden-layer, size 20?\n",
    "\n",
    "Let's see a neural network with 1 hidden layer implemented from scratch. Note that the source lines that correspond to the above equations are commented."
   ]
  },
  {
   "cell_type": "code",
   "execution_count": 10,
   "metadata": {
    "execution": {
     "iopub.execute_input": "2020-08-20T02:33:03.415723Z",
     "iopub.status.busy": "2020-08-20T02:33:03.415524Z",
     "iopub.status.idle": "2020-08-20T02:33:03.471236Z",
     "shell.execute_reply": "2020-08-20T02:33:03.470376Z",
     "shell.execute_reply.started": "2020-08-20T02:33:03.415703Z"
    }
   },
   "outputs": [],
   "source": [
    "from numpy import random, zeros, exp, clip, dot, log, sum, argmax, unique, arange, float\n",
    "    \n",
    "class NeuralNetMLP(object):\n",
    "    def __init__(self, n_hidden=30, epochs=100, eta=0.001, minibatch_size=1, seed=None):\n",
    "        self.random = random.RandomState(seed)  # used to randomize weights\n",
    "        self.n_hidden = n_hidden  # size of the hidden layer\n",
    "        self.epochs = epochs  # number of iterations\n",
    "        self.eta = eta  # learning rate\n",
    "        self.minibatch_size = minibatch_size  # size of training batch - 1 would not work\n",
    "    \n",
    "    @staticmethod\n",
    "    def onehot(y, n_classes):  # one hot encode the input class y\n",
    "        onehot = zeros((n_classes, y.shape[0]))\n",
    "        for idx, val in enumerate(y.astype(int)):\n",
    "            onehot[val, idx] = 1.0\n",
    "        return onehot.T\n",
    "    \n",
    "    @staticmethod\n",
    "    def sigmoid(z):  # Eq 1\n",
    "        return 1.0 / (1.0 + exp(-clip(z, -250, 250)))\n",
    "\n",
    "    def _forward(self, X):  # Eq 2\n",
    "        z_h = dot(X, self.w_h)\n",
    "        a_h = self.sigmoid(z_h)\n",
    "        z_out = dot(a_h, self.w_out)\n",
    "        a_out = self.sigmoid(z_out)\n",
    "        return z_h, a_h, z_out, a_out\n",
    "\n",
    "    @staticmethod\n",
    "    def compute_cost(y_enc, output):  # Eq 4\n",
    "        term1 = -y_enc * (log(output))\n",
    "        term2 = (1.0-y_enc) * log(1.0-output)\n",
    "        cost = sum(term1 - term2)\n",
    "        return cost\n",
    "\n",
    "    def predict(self, X):\n",
    "        z_h, a_h, z_out, a_out = self._forward(X)\n",
    "        y_pred = argmax(z_out, axis=1)\n",
    "        return y_pred\n",
    "\n",
    "    def fit(self, X_train, y_train, X_valid, y_valid):\n",
    "        import sys\n",
    "        n_output = unique(y_train).shape[0]  # number of class labels\n",
    "        n_features = X_train.shape[1]\n",
    "        self.w_out = self.random.normal(loc=0.0, scale=0.1, size=(self.n_hidden, n_output))\n",
    "        self.w_h = self.random.normal(loc=0.0, scale=0.1, size=(n_features, self.n_hidden))\n",
    "        y_train_enc = self.onehot(y_train, n_output)  # one-hot encode original y\n",
    "        for i in range(self.epochs):\n",
    "            indices = arange(X_train.shape[0])\n",
    "            for start_idx in range(0, indices.shape[0] - self.minibatch_size + 1, self.minibatch_size):\n",
    "                batch_idx = indices[start_idx:start_idx + self.minibatch_size]\n",
    "                z_h, a_h, z_out, a_out = self._forward(X_train[batch_idx])\n",
    "                sigmoid_derivative_h = a_h * (1.0-a_h)  # Eq 3\n",
    "                delta_out = a_out - y_train_enc[batch_idx]  # Eq 5\n",
    "                delta_h = (dot(delta_out, self.w_out.T) * sigmoid_derivative_h)  # Eq 6\n",
    "                grad_w_out = dot(a_h.T, delta_out)  # Eq 7\n",
    "                grad_w_h = dot(X_train[batch_idx].T, delta_h)  # Eq 8\n",
    "                self.w_out -= self.eta*grad_w_out  # Eq 9\n",
    "                self.w_h -= self.eta*grad_w_h  # Eq 9\n",
    "            # Evaluation after each epoch during training\n",
    "            z_h, a_h, z_out, a_out = self._forward(X_train)\n",
    "            cost = self.compute_cost(y_enc=y_train_enc, output=a_out)\n",
    "            y_train_pred = self.predict(X_train)  # monitoring training progress through reclassification\n",
    "            y_valid_pred = self.predict(X_valid)  # monitoring training progress through validation\n",
    "            train_acc = ((sum(y_train == y_train_pred)).astype(float) / X_train.shape[0])\n",
    "            valid_acc = ((sum(y_valid == y_valid_pred)).astype(float) / X_valid.shape[0])\n",
    "            sys.stderr.write('\\r%d/%d | Cost: %.2f ' '| Train/Valid Acc.: %.2f%%/%.2f%% '%\n",
    "                (i+1, self.epochs, cost, train_acc*100, valid_acc*100))\n",
    "            sys.stderr.flush()\n",
    "        #\n",
    "        return self"
   ]
  },
  {
   "cell_type": "code",
   "execution_count": 11,
   "metadata": {
    "execution": {
     "iopub.execute_input": "2020-08-20T02:33:14.148799Z",
     "iopub.status.busy": "2020-08-20T02:33:14.148532Z",
     "iopub.status.idle": "2020-08-20T02:35:28.675279Z",
     "shell.execute_reply": "2020-08-20T02:35:28.674530Z",
     "shell.execute_reply.started": "2020-08-20T02:33:14.148780Z"
    }
   },
   "outputs": [
    {
     "name": "stderr",
     "output_type": "stream",
     "text": [
      "300/300 | Cost: 15436.03 | Train/Valid Acc.: 96.21%/95.50% "
     ]
    }
   ],
   "source": [
    "# Define and fit the neural network\n",
    "nn = NeuralNetMLP(n_hidden=20, epochs=300, eta=0.0005, minibatch_size=100, seed=1)\n",
    "\n",
    "nn.fit(X_train=X_train[:55000], y_train=y_train[:55000], X_valid=X_train[55000:], y_valid=y_train[55000:]) ;"
   ]
  },
  {
   "cell_type": "code",
   "execution_count": 12,
   "metadata": {
    "execution": {
     "iopub.execute_input": "2020-08-20T02:36:00.677009Z",
     "iopub.status.busy": "2020-08-20T02:36:00.676796Z",
     "iopub.status.idle": "2020-08-20T02:38:16.550545Z",
     "shell.execute_reply": "2020-08-20T02:38:16.549508Z",
     "shell.execute_reply.started": "2020-08-20T02:36:00.676987Z"
    }
   },
   "outputs": [
    {
     "name": "stderr",
     "output_type": "stream",
     "text": [
      "300/300 | Cost: 15436.03 | Train/Valid Acc.: 96.21%/95.50% "
     ]
    }
   ],
   "source": [
    "# Define and fit the neural network\n",
    "nn = NeuralNetMLP(n_hidden=20, epochs=300, eta=0.0005, minibatch_size=100, seed=1)\n",
    "\n",
    "nn.fit(X_train=X_train[:55000], y_train=y_train[:55000], X_valid=X_train[55000:], y_valid=y_train[55000:]) ;"
   ]
  },
  {
   "cell_type": "code",
   "execution_count": 13,
   "metadata": {
    "execution": {
     "iopub.execute_input": "2020-08-20T02:38:16.552435Z",
     "iopub.status.busy": "2020-08-20T02:38:16.552209Z",
     "iopub.status.idle": "2020-08-20T02:38:16.615496Z",
     "shell.execute_reply": "2020-08-20T02:38:16.614628Z",
     "shell.execute_reply.started": "2020-08-20T02:38:16.552406Z"
    }
   },
   "outputs": [
    {
     "name": "stdout",
     "output_type": "stream",
     "text": [
      "Accuracy= 94.12%\n",
      "[[ 959    0    1    0    4    1    9    1    5    0]\n",
      " [   0 1100    3    2    1    0    5    1   23    0]\n",
      " [  14    0  961   13    4    0    9   11   20    0]\n",
      " [   2    3   13  955    0   13    1    7   10    6]\n",
      " [   0    2    2    1  937    1    5    6    4   24]\n",
      " [   8    5    2   39    6  775   13    9   27    8]\n",
      " [  13    4    4    0    6   14  903    1   13    0]\n",
      " [   3    6   13    7    3    0    0  980    4   12]\n",
      " [   3    4    6   12    9    6    5   11  915    3]\n",
      " [   4    5    0   17   24    4    1   21    6  927]]\n"
     ]
    }
   ],
   "source": [
    "y_pred = nn.predict(X_test)\n",
    "test_acc = ((sum(y_test == y_pred)).astype(float) / y_test.shape[0])\n",
    "\n",
    "print(f'Accuracy= {test_acc*100:.2f}%')\n",
    "print(confusion_matrix(y_test,y_pred))"
   ]
  },
  {
   "cell_type": "markdown",
   "metadata": {},
   "source": [
    "Note that in the above code,\n",
    "* L2 regularization term (to diminish overfitting)\n",
    "* Backpropagation components (to shape the sigmoid function)\n",
    "* Shuffling of the input data (avoiding certain dataset orders that would lead to biased network training) are skipped.\n",
    "\n",
    "The above code demonstrates the absolute primitive complete version of a 1 hidden layer neural network model.\n",
    "\n",
    "__Question:__ Do multiple runs lead to a variation in classification errors?\n",
    "\n",
    "---"
   ]
  }
 ],
 "metadata": {
  "kernelspec": {
   "display_name": "Python 3",
   "language": "python",
   "name": "python3"
  },
  "language_info": {
   "codemirror_mode": {
    "name": "ipython",
    "version": 3
   },
   "file_extension": ".py",
   "mimetype": "text/x-python",
   "name": "python",
   "nbconvert_exporter": "python",
   "pygments_lexer": "ipython3",
   "version": "3.7.3"
  }
 },
 "nbformat": 4,
 "nbformat_minor": 4
}
